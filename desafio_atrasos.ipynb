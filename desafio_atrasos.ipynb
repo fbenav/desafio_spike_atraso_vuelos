{
 "cells": [
  {
   "cell_type": "code",
   "execution_count": 1,
   "metadata": {},
   "outputs": [
    {
     "name": "stderr",
     "output_type": "stream",
     "text": [
      "\n",
      "Bad key \"text.kerning_factor\" on line 4 in\n",
      "C:\\Users\\franc\\anaconda3\\lib\\site-packages\\matplotlib\\mpl-data\\stylelib\\_classic_test_patch.mplstyle.\n",
      "You probably need to get an updated matplotlibrc file from\n",
      "https://github.com/matplotlib/matplotlib/blob/v3.1.3/matplotlibrc.template\n",
      "or from the matplotlib source distribution\n"
     ]
    }
   ],
   "source": [
    "import pandas as pd\n",
    "import seaborn as sns\n",
    "import numpy as np\n",
    "from datetime import date\n",
    "\n",
    "import matplotlib.pyplot as plt\n",
    "\n",
    "%matplotlib inline\n",
    "#%matplotlib notebook"
   ]
  },
  {
   "cell_type": "markdown",
   "metadata": {},
   "source": [
    "# 1.- Analisis preliminar de los datos"
   ]
  },
  {
   "cell_type": "code",
   "execution_count": 2,
   "metadata": {
    "scrolled": true
   },
   "outputs": [
    {
     "name": "stderr",
     "output_type": "stream",
     "text": [
      "C:\\Users\\franc\\anaconda3\\lib\\site-packages\\IPython\\core\\interactiveshell.py:3063: DtypeWarning: Columns (2,7) have mixed types.Specify dtype option on import or set low_memory=False.\n",
      "  interactivity=interactivity, compiler=compiler, result=result)\n"
     ]
    },
    {
     "data": {
      "text/html": [
       "<div>\n",
       "<style scoped>\n",
       "    .dataframe tbody tr th:only-of-type {\n",
       "        vertical-align: middle;\n",
       "    }\n",
       "\n",
       "    .dataframe tbody tr th {\n",
       "        vertical-align: top;\n",
       "    }\n",
       "\n",
       "    .dataframe thead th {\n",
       "        text-align: right;\n",
       "    }\n",
       "</style>\n",
       "<table border=\"1\" class=\"dataframe\">\n",
       "  <thead>\n",
       "    <tr style=\"text-align: right;\">\n",
       "      <th></th>\n",
       "      <th>Fecha-I</th>\n",
       "      <th>Vlo-I</th>\n",
       "      <th>Ori-I</th>\n",
       "      <th>Des-I</th>\n",
       "      <th>Emp-I</th>\n",
       "      <th>Fecha-O</th>\n",
       "      <th>Vlo-O</th>\n",
       "      <th>Ori-O</th>\n",
       "      <th>Des-O</th>\n",
       "      <th>Emp-O</th>\n",
       "      <th>DIA</th>\n",
       "      <th>MES</th>\n",
       "      <th>AÑO</th>\n",
       "      <th>DIANOM</th>\n",
       "      <th>TIPOVUELO</th>\n",
       "      <th>OPERA</th>\n",
       "      <th>SIGLAORI</th>\n",
       "      <th>SIGLADES</th>\n",
       "    </tr>\n",
       "  </thead>\n",
       "  <tbody>\n",
       "    <tr>\n",
       "      <th>0</th>\n",
       "      <td>2017-01-01 23:30:00</td>\n",
       "      <td>226</td>\n",
       "      <td>SCEL</td>\n",
       "      <td>KMIA</td>\n",
       "      <td>AAL</td>\n",
       "      <td>2017-01-01 23:33:00</td>\n",
       "      <td>226</td>\n",
       "      <td>SCEL</td>\n",
       "      <td>KMIA</td>\n",
       "      <td>AAL</td>\n",
       "      <td>1</td>\n",
       "      <td>1</td>\n",
       "      <td>2017</td>\n",
       "      <td>Domingo</td>\n",
       "      <td>I</td>\n",
       "      <td>American Airlines</td>\n",
       "      <td>Santiago</td>\n",
       "      <td>Miami</td>\n",
       "    </tr>\n",
       "    <tr>\n",
       "      <th>1</th>\n",
       "      <td>2017-01-02 23:30:00</td>\n",
       "      <td>226</td>\n",
       "      <td>SCEL</td>\n",
       "      <td>KMIA</td>\n",
       "      <td>AAL</td>\n",
       "      <td>2017-01-02 23:39:00</td>\n",
       "      <td>226</td>\n",
       "      <td>SCEL</td>\n",
       "      <td>KMIA</td>\n",
       "      <td>AAL</td>\n",
       "      <td>2</td>\n",
       "      <td>1</td>\n",
       "      <td>2017</td>\n",
       "      <td>Lunes</td>\n",
       "      <td>I</td>\n",
       "      <td>American Airlines</td>\n",
       "      <td>Santiago</td>\n",
       "      <td>Miami</td>\n",
       "    </tr>\n",
       "    <tr>\n",
       "      <th>2</th>\n",
       "      <td>2017-01-03 23:30:00</td>\n",
       "      <td>226</td>\n",
       "      <td>SCEL</td>\n",
       "      <td>KMIA</td>\n",
       "      <td>AAL</td>\n",
       "      <td>2017-01-03 23:39:00</td>\n",
       "      <td>226</td>\n",
       "      <td>SCEL</td>\n",
       "      <td>KMIA</td>\n",
       "      <td>AAL</td>\n",
       "      <td>3</td>\n",
       "      <td>1</td>\n",
       "      <td>2017</td>\n",
       "      <td>Martes</td>\n",
       "      <td>I</td>\n",
       "      <td>American Airlines</td>\n",
       "      <td>Santiago</td>\n",
       "      <td>Miami</td>\n",
       "    </tr>\n",
       "    <tr>\n",
       "      <th>3</th>\n",
       "      <td>2017-01-04 23:30:00</td>\n",
       "      <td>226</td>\n",
       "      <td>SCEL</td>\n",
       "      <td>KMIA</td>\n",
       "      <td>AAL</td>\n",
       "      <td>2017-01-04 23:33:00</td>\n",
       "      <td>226</td>\n",
       "      <td>SCEL</td>\n",
       "      <td>KMIA</td>\n",
       "      <td>AAL</td>\n",
       "      <td>4</td>\n",
       "      <td>1</td>\n",
       "      <td>2017</td>\n",
       "      <td>Miercoles</td>\n",
       "      <td>I</td>\n",
       "      <td>American Airlines</td>\n",
       "      <td>Santiago</td>\n",
       "      <td>Miami</td>\n",
       "    </tr>\n",
       "    <tr>\n",
       "      <th>4</th>\n",
       "      <td>2017-01-05 23:30:00</td>\n",
       "      <td>226</td>\n",
       "      <td>SCEL</td>\n",
       "      <td>KMIA</td>\n",
       "      <td>AAL</td>\n",
       "      <td>2017-01-05 23:28:00</td>\n",
       "      <td>226</td>\n",
       "      <td>SCEL</td>\n",
       "      <td>KMIA</td>\n",
       "      <td>AAL</td>\n",
       "      <td>5</td>\n",
       "      <td>1</td>\n",
       "      <td>2017</td>\n",
       "      <td>Jueves</td>\n",
       "      <td>I</td>\n",
       "      <td>American Airlines</td>\n",
       "      <td>Santiago</td>\n",
       "      <td>Miami</td>\n",
       "    </tr>\n",
       "  </tbody>\n",
       "</table>\n",
       "</div>"
      ],
      "text/plain": [
       "               Fecha-I Vlo-I Ori-I Des-I Emp-I              Fecha-O Vlo-O  \\\n",
       "0  2017-01-01 23:30:00   226  SCEL  KMIA   AAL  2017-01-01 23:33:00   226   \n",
       "1  2017-01-02 23:30:00   226  SCEL  KMIA   AAL  2017-01-02 23:39:00   226   \n",
       "2  2017-01-03 23:30:00   226  SCEL  KMIA   AAL  2017-01-03 23:39:00   226   \n",
       "3  2017-01-04 23:30:00   226  SCEL  KMIA   AAL  2017-01-04 23:33:00   226   \n",
       "4  2017-01-05 23:30:00   226  SCEL  KMIA   AAL  2017-01-05 23:28:00   226   \n",
       "\n",
       "  Ori-O Des-O Emp-O  DIA  MES   AÑO     DIANOM TIPOVUELO              OPERA  \\\n",
       "0  SCEL  KMIA   AAL    1    1  2017    Domingo         I  American Airlines   \n",
       "1  SCEL  KMIA   AAL    2    1  2017      Lunes         I  American Airlines   \n",
       "2  SCEL  KMIA   AAL    3    1  2017     Martes         I  American Airlines   \n",
       "3  SCEL  KMIA   AAL    4    1  2017  Miercoles         I  American Airlines   \n",
       "4  SCEL  KMIA   AAL    5    1  2017     Jueves         I  American Airlines   \n",
       "\n",
       "   SIGLAORI SIGLADES  \n",
       "0  Santiago    Miami  \n",
       "1  Santiago    Miami  \n",
       "2  Santiago    Miami  \n",
       "3  Santiago    Miami  \n",
       "4  Santiago    Miami  "
      ]
     },
     "execution_count": 2,
     "metadata": {},
     "output_type": "execute_result"
    }
   ],
   "source": [
    "dataset = pd.read_csv('baseSCL2017.csv', index_col = 0,infer_datetime_format=True)\n",
    "dataset.head(5)"
   ]
  },
  {
   "cell_type": "markdown",
   "metadata": {},
   "source": [
    "Al leer los datos, notamos que inmediatamente se nos advierte que hay columnas que presentan más de un tipo de datos. En concreto las columnas **Ori-I** y **Ori-O** presentan más de un tipo de dato y deben ser objeto de mayor inspeccion.\n",
    "\n",
    "Si miramos el tipo de datos para todas las columnas, notamos que python considera que, en general, estas dos columnas son de tipo *object*"
   ]
  },
  {
   "cell_type": "code",
   "execution_count": 3,
   "metadata": {},
   "outputs": [
    {
     "name": "stdout",
     "output_type": "stream",
     "text": [
      "<class 'pandas.core.frame.DataFrame'>\n",
      "Int64Index: 68206 entries, 0 to 70032\n",
      "Data columns (total 18 columns):\n",
      " #   Column     Non-Null Count  Dtype \n",
      "---  ------     --------------  ----- \n",
      " 0   Fecha-I    68206 non-null  object\n",
      " 1   Vlo-I      68206 non-null  object\n",
      " 2   Ori-I      68206 non-null  object\n",
      " 3   Des-I      68206 non-null  object\n",
      " 4   Emp-I      68206 non-null  object\n",
      " 5   Fecha-O    68206 non-null  object\n",
      " 6   Vlo-O      68205 non-null  object\n",
      " 7   Ori-O      68206 non-null  object\n",
      " 8   Des-O      68206 non-null  object\n",
      " 9   Emp-O      68206 non-null  object\n",
      " 10  DIA        68206 non-null  int64 \n",
      " 11  MES        68206 non-null  int64 \n",
      " 12  AÑO        68206 non-null  int64 \n",
      " 13  DIANOM     68206 non-null  object\n",
      " 14  TIPOVUELO  68206 non-null  object\n",
      " 15  OPERA      68206 non-null  object\n",
      " 16  SIGLAORI   68206 non-null  object\n",
      " 17  SIGLADES   68206 non-null  object\n",
      "dtypes: int64(3), object(15)\n",
      "memory usage: 9.9+ MB\n"
     ]
    }
   ],
   "source": [
    "dataset.info()"
   ]
  },
  {
   "cell_type": "code",
   "execution_count": 4,
   "metadata": {},
   "outputs": [
    {
     "name": "stdout",
     "output_type": "stream",
     "text": [
      "Observaciones en el dataset: 68206\n",
      "Numero de columnas en el dataset: 18\n"
     ]
    }
   ],
   "source": [
    "print('Observaciones en el dataset:', dataset.shape[0])\n",
    "print('Numero de columnas en el dataset:', dataset.shape[1])"
   ]
  },
  {
   "cell_type": "markdown",
   "metadata": {},
   "source": [
    "Usando la información anterior, notamos que solo existe una observacion con un valor *Null* en el campo **Vlo-O**. Esta vuelo se ve de la siguiente forma:"
   ]
  },
  {
   "cell_type": "code",
   "execution_count": 5,
   "metadata": {},
   "outputs": [
    {
     "data": {
      "text/html": [
       "<div>\n",
       "<style scoped>\n",
       "    .dataframe tbody tr th:only-of-type {\n",
       "        vertical-align: middle;\n",
       "    }\n",
       "\n",
       "    .dataframe tbody tr th {\n",
       "        vertical-align: top;\n",
       "    }\n",
       "\n",
       "    .dataframe thead th {\n",
       "        text-align: right;\n",
       "    }\n",
       "</style>\n",
       "<table border=\"1\" class=\"dataframe\">\n",
       "  <thead>\n",
       "    <tr style=\"text-align: right;\">\n",
       "      <th></th>\n",
       "      <th>Fecha-I</th>\n",
       "      <th>Vlo-I</th>\n",
       "      <th>Ori-I</th>\n",
       "      <th>Des-I</th>\n",
       "      <th>Emp-I</th>\n",
       "      <th>Fecha-O</th>\n",
       "      <th>Vlo-O</th>\n",
       "      <th>Ori-O</th>\n",
       "      <th>Des-O</th>\n",
       "      <th>Emp-O</th>\n",
       "      <th>DIA</th>\n",
       "      <th>MES</th>\n",
       "      <th>AÑO</th>\n",
       "      <th>DIANOM</th>\n",
       "      <th>TIPOVUELO</th>\n",
       "      <th>OPERA</th>\n",
       "      <th>SIGLAORI</th>\n",
       "      <th>SIGLADES</th>\n",
       "    </tr>\n",
       "  </thead>\n",
       "  <tbody>\n",
       "    <tr>\n",
       "      <th>6148</th>\n",
       "      <td>2017-01-19 11:00:00</td>\n",
       "      <td>200</td>\n",
       "      <td>SCEL</td>\n",
       "      <td>SPJC</td>\n",
       "      <td>LAW</td>\n",
       "      <td>2017-01-19 11:03:00</td>\n",
       "      <td>NaN</td>\n",
       "      <td>SCEL</td>\n",
       "      <td>SPJC</td>\n",
       "      <td>56R</td>\n",
       "      <td>19</td>\n",
       "      <td>1</td>\n",
       "      <td>2017</td>\n",
       "      <td>Jueves</td>\n",
       "      <td>I</td>\n",
       "      <td>Latin American Wings</td>\n",
       "      <td>Santiago</td>\n",
       "      <td>Lima</td>\n",
       "    </tr>\n",
       "  </tbody>\n",
       "</table>\n",
       "</div>"
      ],
      "text/plain": [
       "                  Fecha-I Vlo-I Ori-I Des-I Emp-I              Fecha-O Vlo-O  \\\n",
       "6148  2017-01-19 11:00:00   200  SCEL  SPJC   LAW  2017-01-19 11:03:00   NaN   \n",
       "\n",
       "     Ori-O Des-O Emp-O  DIA  MES   AÑO  DIANOM TIPOVUELO  \\\n",
       "6148  SCEL  SPJC   56R   19    1  2017  Jueves         I   \n",
       "\n",
       "                     OPERA  SIGLAORI SIGLADES  \n",
       "6148  Latin American Wings  Santiago     Lima  "
      ]
     },
     "execution_count": 5,
     "metadata": {},
     "output_type": "execute_result"
    }
   ],
   "source": [
    "dataset[dataset.isnull().any(axis=1)]"
   ]
  },
  {
   "cell_type": "markdown",
   "metadata": {},
   "source": [
    "Revisamos la cantidad de valores diferentes que presenta cada una de las columnas de nuestro dataset"
   ]
  },
  {
   "cell_type": "code",
   "execution_count": 6,
   "metadata": {},
   "outputs": [
    {
     "data": {
      "text/plain": [
       "Fecha-I      53252\n",
       "Vlo-I          750\n",
       "Ori-I            1\n",
       "Des-I           64\n",
       "Emp-I           30\n",
       "Fecha-O      62774\n",
       "Vlo-O          866\n",
       "Ori-O            1\n",
       "Des-O           63\n",
       "Emp-O           32\n",
       "DIA             31\n",
       "MES             12\n",
       "AÑO              2\n",
       "DIANOM           7\n",
       "TIPOVUELO        2\n",
       "OPERA           23\n",
       "SIGLAORI         1\n",
       "SIGLADES        62\n",
       "dtype: int64"
      ]
     },
     "execution_count": 6,
     "metadata": {},
     "output_type": "execute_result"
    }
   ],
   "source": [
    "dataset.nunique()"
   ]
  },
  {
   "cell_type": "markdown",
   "metadata": {},
   "source": [
    "Observamos que existen tres columnas con valores fijos, las cuales son, según la descripción de los campos:\n",
    "    \n",
    "    1. Ori-I: Código de ciudad de origen programado.\n",
    "    2. Ori-O: Codigo de ciudad de origen de operación.\n",
    "    3. SIGLAORI: Nombre ciudad origen.\n",
    "  \n",
    "por lo que, a pesar de que en la descripción del problema se nos menciona que hay datos sobre vuelos que aterrizan en SCL, solo contamos con vuelos que tienen origen en SCL y no como destino (esto hay que chequearlo de todas maneras). Además esto nos permite poder prescindir de estas columnas. Notemos que dos de estas columnas eran las que presentaban problemas con el tipo de dato (probablemente por problemas de transcripción), pero como no trabajaremos con estas, no es necesario tratarlas.\n",
    "\n",
    "Otro hecho que nos parece curioso es que el campo **Vlo-I**, dada su descripción (*Número de vuelo programado*) no este compuesto solo por valores únicos. A pesar de que esto se podia apreciar en el head del dataset, sigue pareciendonos curioso. Conjeturamos que la combinacion **Fecha**, **Vlo-I** o en conjunto con la ciudad destino deben ser un pares/Tripletas únicas."
   ]
  },
  {
   "cell_type": "code",
   "execution_count": 7,
   "metadata": {},
   "outputs": [
    {
     "data": {
      "text/html": [
       "<div>\n",
       "<style scoped>\n",
       "    .dataframe tbody tr th:only-of-type {\n",
       "        vertical-align: middle;\n",
       "    }\n",
       "\n",
       "    .dataframe tbody tr th {\n",
       "        vertical-align: top;\n",
       "    }\n",
       "\n",
       "    .dataframe thead th {\n",
       "        text-align: right;\n",
       "    }\n",
       "</style>\n",
       "<table border=\"1\" class=\"dataframe\">\n",
       "  <thead>\n",
       "    <tr style=\"text-align: right;\">\n",
       "      <th></th>\n",
       "      <th>Fecha-I</th>\n",
       "      <th>Vlo-I</th>\n",
       "      <th>Ori-I</th>\n",
       "      <th>Des-I</th>\n",
       "      <th>Emp-I</th>\n",
       "      <th>Fecha-O</th>\n",
       "      <th>Vlo-O</th>\n",
       "      <th>Ori-O</th>\n",
       "      <th>Des-O</th>\n",
       "      <th>Emp-O</th>\n",
       "      <th>DIA</th>\n",
       "      <th>MES</th>\n",
       "      <th>AÑO</th>\n",
       "      <th>DIANOM</th>\n",
       "      <th>TIPOVUELO</th>\n",
       "      <th>OPERA</th>\n",
       "      <th>SIGLAORI</th>\n",
       "      <th>SIGLADES</th>\n",
       "    </tr>\n",
       "  </thead>\n",
       "  <tbody>\n",
       "  </tbody>\n",
       "</table>\n",
       "</div>"
      ],
      "text/plain": [
       "Empty DataFrame\n",
       "Columns: [Fecha-I, Vlo-I, Ori-I, Des-I, Emp-I, Fecha-O, Vlo-O, Ori-O, Des-O, Emp-O, DIA, MES, AÑO, DIANOM, TIPOVUELO, OPERA, SIGLAORI, SIGLADES]\n",
       "Index: []"
      ]
     },
     "execution_count": 7,
     "metadata": {},
     "output_type": "execute_result"
    }
   ],
   "source": [
    "#Check de sanidad respecto a que ningun vuelo tiene como destigo SCL. El resultado deberia ser un df vacio\n",
    "dataset[dataset['Des-I'] == 'SCEL']"
   ]
  },
  {
   "cell_type": "code",
   "execution_count": 8,
   "metadata": {},
   "outputs": [
    {
     "name": "stdout",
     "output_type": "stream",
     "text": [
      "(68189, 1)\n",
      "(68205, 1)\n"
     ]
    }
   ],
   "source": [
    "#Si la combinacion es única, debe darnos un df de (68206,1)\n",
    "print(dataset[['Fecha-I','Vlo-I','Ori-I']].groupby(['Fecha-I','Vlo-I']).count().shape)\n",
    "\n",
    "print(dataset[['Fecha-I','Vlo-I','Des-I','Ori-I']].groupby(['Fecha-I','Vlo-I','Des-I']).count().shape)"
   ]
  },
  {
   "cell_type": "code",
   "execution_count": 9,
   "metadata": {},
   "outputs": [
    {
     "data": {
      "text/plain": [
       "Ori-I    2\n",
       "dtype: int64"
      ]
     },
     "execution_count": 9,
     "metadata": {},
     "output_type": "execute_result"
    }
   ],
   "source": [
    "dataset[['Fecha-I','Vlo-I','Des-I','Ori-I']].groupby(['Fecha-I','Vlo-I','Des-I']).count().max()"
   ]
  },
  {
   "cell_type": "markdown",
   "metadata": {},
   "source": [
    "Observamos que la tripleta **'Fecha-I','Vlo-I','Des-O'** es casi una manera para identificar de manera única a los vuelos, salvo dos observaciones que coinciden en dichos valores. Veremos si existen observaciones duplicadas"
   ]
  },
  {
   "cell_type": "code",
   "execution_count": 10,
   "metadata": {},
   "outputs": [
    {
     "data": {
      "text/html": [
       "<div>\n",
       "<style scoped>\n",
       "    .dataframe tbody tr th:only-of-type {\n",
       "        vertical-align: middle;\n",
       "    }\n",
       "\n",
       "    .dataframe tbody tr th {\n",
       "        vertical-align: top;\n",
       "    }\n",
       "\n",
       "    .dataframe thead th {\n",
       "        text-align: right;\n",
       "    }\n",
       "</style>\n",
       "<table border=\"1\" class=\"dataframe\">\n",
       "  <thead>\n",
       "    <tr style=\"text-align: right;\">\n",
       "      <th></th>\n",
       "      <th>Fecha-I</th>\n",
       "      <th>Vlo-I</th>\n",
       "      <th>Ori-I</th>\n",
       "      <th>Des-I</th>\n",
       "      <th>Emp-I</th>\n",
       "      <th>Fecha-O</th>\n",
       "      <th>Vlo-O</th>\n",
       "      <th>Ori-O</th>\n",
       "      <th>Des-O</th>\n",
       "      <th>Emp-O</th>\n",
       "      <th>DIA</th>\n",
       "      <th>MES</th>\n",
       "      <th>AÑO</th>\n",
       "      <th>DIANOM</th>\n",
       "      <th>TIPOVUELO</th>\n",
       "      <th>OPERA</th>\n",
       "      <th>SIGLAORI</th>\n",
       "      <th>SIGLADES</th>\n",
       "    </tr>\n",
       "  </thead>\n",
       "  <tbody>\n",
       "  </tbody>\n",
       "</table>\n",
       "</div>"
      ],
      "text/plain": [
       "Empty DataFrame\n",
       "Columns: [Fecha-I, Vlo-I, Ori-I, Des-I, Emp-I, Fecha-O, Vlo-O, Ori-O, Des-O, Emp-O, DIA, MES, AÑO, DIANOM, TIPOVUELO, OPERA, SIGLAORI, SIGLADES]\n",
       "Index: []"
      ]
     },
     "execution_count": 10,
     "metadata": {},
     "output_type": "execute_result"
    }
   ],
   "source": [
    "#En caso de no haber datos duplicados, el resultado es un df vacio\n",
    "dataset[dataset.duplicated()]"
   ]
  },
  {
   "cell_type": "code",
   "execution_count": 11,
   "metadata": {},
   "outputs": [
    {
     "data": {
      "text/plain": [
       "Ori-I    2\n",
       "dtype: int64"
      ]
     },
     "execution_count": 11,
     "metadata": {},
     "output_type": "execute_result"
    }
   ],
   "source": [
    "dataset[['Fecha-I','Vlo-I','Des-I','Emp-I','Ori-I']].groupby(['Fecha-I','Vlo-I','Des-I','Emp-I']).count().max()"
   ]
  },
  {
   "cell_type": "code",
   "execution_count": 12,
   "metadata": {},
   "outputs": [
    {
     "data": {
      "text/plain": [
       "Ori-I    1\n",
       "dtype: int64"
      ]
     },
     "execution_count": 12,
     "metadata": {},
     "output_type": "execute_result"
    }
   ],
   "source": [
    "dataset[['Fecha-I','Vlo-I','Des-I','Fecha-O','Ori-I']].groupby(['Fecha-I','Vlo-I','Des-I','Fecha-O']).count().max()"
   ]
  },
  {
   "cell_type": "markdown",
   "metadata": {},
   "source": [
    "El dataset no presenta datos duplicados, aún así presenta datos que concuerda tanto en la fecha, id de vuelo ciudad de destino y empresa operaria, lo cual nos parece un poco sospechoso (puede ser debido a una falla humana), pues solo difieren en la hora de arribo."
   ]
  },
  {
   "cell_type": "code",
   "execution_count": 13,
   "metadata": {},
   "outputs": [
    {
     "data": {
      "text/html": [
       "<div>\n",
       "<style scoped>\n",
       "    .dataframe tbody tr th:only-of-type {\n",
       "        vertical-align: middle;\n",
       "    }\n",
       "\n",
       "    .dataframe tbody tr th {\n",
       "        vertical-align: top;\n",
       "    }\n",
       "\n",
       "    .dataframe thead th {\n",
       "        text-align: right;\n",
       "    }\n",
       "</style>\n",
       "<table border=\"1\" class=\"dataframe\">\n",
       "  <thead>\n",
       "    <tr style=\"text-align: right;\">\n",
       "      <th></th>\n",
       "      <th>Fecha-I</th>\n",
       "      <th>Vlo-I</th>\n",
       "      <th>Ori-I</th>\n",
       "      <th>Des-I</th>\n",
       "      <th>Emp-I</th>\n",
       "      <th>Fecha-O</th>\n",
       "      <th>Vlo-O</th>\n",
       "      <th>Ori-O</th>\n",
       "      <th>Des-O</th>\n",
       "      <th>Emp-O</th>\n",
       "      <th>DIA</th>\n",
       "      <th>MES</th>\n",
       "      <th>AÑO</th>\n",
       "      <th>DIANOM</th>\n",
       "      <th>TIPOVUELO</th>\n",
       "      <th>OPERA</th>\n",
       "      <th>SIGLAORI</th>\n",
       "      <th>SIGLADES</th>\n",
       "    </tr>\n",
       "  </thead>\n",
       "  <tbody>\n",
       "    <tr>\n",
       "      <th>13010</th>\n",
       "      <td>2017-03-26 08:55:00</td>\n",
       "      <td>1</td>\n",
       "      <td>SCEL</td>\n",
       "      <td>SCTE</td>\n",
       "      <td>SKU</td>\n",
       "      <td>2017-03-26 10:00:00</td>\n",
       "      <td>1</td>\n",
       "      <td>SCEL</td>\n",
       "      <td>SCTE</td>\n",
       "      <td>SKU</td>\n",
       "      <td>26</td>\n",
       "      <td>3</td>\n",
       "      <td>2017</td>\n",
       "      <td>Domingo</td>\n",
       "      <td>N</td>\n",
       "      <td>Sky Airline</td>\n",
       "      <td>Santiago</td>\n",
       "      <td>Puerto Montt</td>\n",
       "    </tr>\n",
       "    <tr>\n",
       "      <th>14205</th>\n",
       "      <td>2017-03-26 08:55:00</td>\n",
       "      <td>1</td>\n",
       "      <td>SCEL</td>\n",
       "      <td>SCTE</td>\n",
       "      <td>SKU</td>\n",
       "      <td>2017-03-26 09:02:00</td>\n",
       "      <td>1</td>\n",
       "      <td>SCEL</td>\n",
       "      <td>SCTE</td>\n",
       "      <td>SKU</td>\n",
       "      <td>26</td>\n",
       "      <td>3</td>\n",
       "      <td>2017</td>\n",
       "      <td>Domingo</td>\n",
       "      <td>N</td>\n",
       "      <td>Sky Airline</td>\n",
       "      <td>Santiago</td>\n",
       "      <td>Puerto Montt</td>\n",
       "    </tr>\n",
       "  </tbody>\n",
       "</table>\n",
       "</div>"
      ],
      "text/plain": [
       "                   Fecha-I Vlo-I Ori-I Des-I Emp-I              Fecha-O Vlo-O  \\\n",
       "13010  2017-03-26 08:55:00     1  SCEL  SCTE   SKU  2017-03-26 10:00:00     1   \n",
       "14205  2017-03-26 08:55:00     1  SCEL  SCTE   SKU  2017-03-26 09:02:00     1   \n",
       "\n",
       "      Ori-O Des-O Emp-O  DIA  MES   AÑO   DIANOM TIPOVUELO        OPERA  \\\n",
       "13010  SCEL  SCTE   SKU   26    3  2017  Domingo         N  Sky Airline   \n",
       "14205  SCEL  SCTE   SKU   26    3  2017  Domingo         N  Sky Airline   \n",
       "\n",
       "       SIGLAORI      SIGLADES  \n",
       "13010  Santiago  Puerto Montt  \n",
       "14205  Santiago  Puerto Montt  "
      ]
     },
     "execution_count": 13,
     "metadata": {},
     "output_type": "execute_result"
    }
   ],
   "source": [
    "#Aqui va como se ven dichas observaciones\n",
    "paso = dataset[['Fecha-I','Vlo-I','Des-I','Ori-I']].groupby(['Fecha-I','Vlo-I','Des-I']).count().reset_index()\n",
    "paso = paso[paso['Ori-I'] == 2]\n",
    "\n",
    "dataset[(dataset['Fecha-I'] == paso['Fecha-I'].iloc[0]) & (dataset['Des-I'] == paso['Des-I'].iloc[0])]"
   ]
  },
  {
   "cell_type": "markdown",
   "metadata": {},
   "source": [
    "Otra cosa que nos parece curiosa, dado el diccionario de los datos, diferencias entre la cantidad de registros diferentes entre los siguientes campos:\n",
    "      \n",
    "      1. Des-I con Des-O\n",
    "      2. Emp-I con Emp-O\n",
    "      3. Vlo-I con Vlo-O\n",
    "      \n",
    "Por lo que revisaremos la cantida de casos en que se producen diferencias entre el destino programado y el real, la aerolinea programada y la real, además del codigo de vuelo programado y real.\n",
    "\n",
    "Creamos columnas nuevas correspondientes que indiquen si se presentan cambios o no"
   ]
  },
  {
   "cell_type": "code",
   "execution_count": 14,
   "metadata": {},
   "outputs": [
    {
     "data": {
      "text/html": [
       "<div>\n",
       "<style scoped>\n",
       "    .dataframe tbody tr th:only-of-type {\n",
       "        vertical-align: middle;\n",
       "    }\n",
       "\n",
       "    .dataframe tbody tr th {\n",
       "        vertical-align: top;\n",
       "    }\n",
       "\n",
       "    .dataframe thead th {\n",
       "        text-align: right;\n",
       "    }\n",
       "</style>\n",
       "<table border=\"1\" class=\"dataframe\">\n",
       "  <thead>\n",
       "    <tr style=\"text-align: right;\">\n",
       "      <th></th>\n",
       "      <th>Ori-I</th>\n",
       "    </tr>\n",
       "    <tr>\n",
       "      <th>Match-Des</th>\n",
       "      <th></th>\n",
       "    </tr>\n",
       "  </thead>\n",
       "  <tbody>\n",
       "    <tr>\n",
       "      <th>0</th>\n",
       "      <td>68178</td>\n",
       "    </tr>\n",
       "    <tr>\n",
       "      <th>1</th>\n",
       "      <td>28</td>\n",
       "    </tr>\n",
       "  </tbody>\n",
       "</table>\n",
       "</div>"
      ],
      "text/plain": [
       "           Ori-I\n",
       "Match-Des       \n",
       "0          68178\n",
       "1             28"
      ]
     },
     "execution_count": 14,
     "metadata": {},
     "output_type": "execute_result"
    }
   ],
   "source": [
    "dataset['Match-Des'] = [0 if des_i == des_o else 1 for des_i,des_o in dataset[['Des-I','Des-O']].values]\n",
    "dataset[['Match-Des','Ori-I']].groupby('Match-Des').count()"
   ]
  },
  {
   "cell_type": "code",
   "execution_count": 15,
   "metadata": {},
   "outputs": [
    {
     "data": {
      "text/html": [
       "<div>\n",
       "<style scoped>\n",
       "    .dataframe tbody tr th:only-of-type {\n",
       "        vertical-align: middle;\n",
       "    }\n",
       "\n",
       "    .dataframe tbody tr th {\n",
       "        vertical-align: top;\n",
       "    }\n",
       "\n",
       "    .dataframe thead th {\n",
       "        text-align: right;\n",
       "    }\n",
       "</style>\n",
       "<table border=\"1\" class=\"dataframe\">\n",
       "  <thead>\n",
       "    <tr style=\"text-align: right;\">\n",
       "      <th></th>\n",
       "      <th>Fecha-I</th>\n",
       "      <th>Vlo-I</th>\n",
       "      <th>Ori-I</th>\n",
       "      <th>Des-I</th>\n",
       "      <th>Emp-I</th>\n",
       "      <th>Fecha-O</th>\n",
       "      <th>Vlo-O</th>\n",
       "      <th>Ori-O</th>\n",
       "      <th>Des-O</th>\n",
       "      <th>Emp-O</th>\n",
       "      <th>DIA</th>\n",
       "      <th>MES</th>\n",
       "      <th>AÑO</th>\n",
       "      <th>DIANOM</th>\n",
       "      <th>TIPOVUELO</th>\n",
       "      <th>OPERA</th>\n",
       "      <th>SIGLAORI</th>\n",
       "      <th>SIGLADES</th>\n",
       "      <th>Match-Des</th>\n",
       "    </tr>\n",
       "  </thead>\n",
       "  <tbody>\n",
       "    <tr>\n",
       "      <th>1437</th>\n",
       "      <td>2017-01-17 19:20:00</td>\n",
       "      <td>25</td>\n",
       "      <td>SCEL</td>\n",
       "      <td>SCTE</td>\n",
       "      <td>SKU</td>\n",
       "      <td>2017-01-17 19:46:00</td>\n",
       "      <td>25</td>\n",
       "      <td>SCEL</td>\n",
       "      <td>SCQP</td>\n",
       "      <td>SKU</td>\n",
       "      <td>17</td>\n",
       "      <td>1</td>\n",
       "      <td>2017</td>\n",
       "      <td>Martes</td>\n",
       "      <td>N</td>\n",
       "      <td>Sky Airline</td>\n",
       "      <td>Santiago</td>\n",
       "      <td>Temuco</td>\n",
       "      <td>1</td>\n",
       "    </tr>\n",
       "    <tr>\n",
       "      <th>7436</th>\n",
       "      <td>2017-02-15 06:25:00</td>\n",
       "      <td>11</td>\n",
       "      <td>SCEL</td>\n",
       "      <td>SCTE</td>\n",
       "      <td>SKU</td>\n",
       "      <td>2017-02-15 06:25:00</td>\n",
       "      <td>11</td>\n",
       "      <td>SCEL</td>\n",
       "      <td>SCQP</td>\n",
       "      <td>SKU</td>\n",
       "      <td>15</td>\n",
       "      <td>2</td>\n",
       "      <td>2017</td>\n",
       "      <td>Miercoles</td>\n",
       "      <td>N</td>\n",
       "      <td>Sky Airline</td>\n",
       "      <td>Santiago</td>\n",
       "      <td>Temuco</td>\n",
       "      <td>1</td>\n",
       "    </tr>\n",
       "  </tbody>\n",
       "</table>\n",
       "</div>"
      ],
      "text/plain": [
       "                  Fecha-I Vlo-I Ori-I Des-I Emp-I              Fecha-O Vlo-O  \\\n",
       "1437  2017-01-17 19:20:00    25  SCEL  SCTE   SKU  2017-01-17 19:46:00    25   \n",
       "7436  2017-02-15 06:25:00    11  SCEL  SCTE   SKU  2017-02-15 06:25:00    11   \n",
       "\n",
       "     Ori-O Des-O Emp-O  DIA  MES   AÑO     DIANOM TIPOVUELO        OPERA  \\\n",
       "1437  SCEL  SCQP   SKU   17    1  2017     Martes         N  Sky Airline   \n",
       "7436  SCEL  SCQP   SKU   15    2  2017  Miercoles         N  Sky Airline   \n",
       "\n",
       "      SIGLAORI SIGLADES  Match-Des  \n",
       "1437  Santiago   Temuco          1  \n",
       "7436  Santiago   Temuco          1  "
      ]
     },
     "execution_count": 15,
     "metadata": {},
     "output_type": "execute_result"
    }
   ],
   "source": [
    "dataset[dataset['Match-Des'] == 1].head(2)"
   ]
  },
  {
   "cell_type": "code",
   "execution_count": 16,
   "metadata": {},
   "outputs": [
    {
     "data": {
      "text/html": [
       "<div>\n",
       "<style scoped>\n",
       "    .dataframe tbody tr th:only-of-type {\n",
       "        vertical-align: middle;\n",
       "    }\n",
       "\n",
       "    .dataframe tbody tr th {\n",
       "        vertical-align: top;\n",
       "    }\n",
       "\n",
       "    .dataframe thead th {\n",
       "        text-align: right;\n",
       "    }\n",
       "</style>\n",
       "<table border=\"1\" class=\"dataframe\">\n",
       "  <thead>\n",
       "    <tr style=\"text-align: right;\">\n",
       "      <th></th>\n",
       "      <th>Ori-I</th>\n",
       "    </tr>\n",
       "    <tr>\n",
       "      <th>Match-Emp</th>\n",
       "      <th></th>\n",
       "    </tr>\n",
       "  </thead>\n",
       "  <tbody>\n",
       "    <tr>\n",
       "      <th>0</th>\n",
       "      <td>49537</td>\n",
       "    </tr>\n",
       "    <tr>\n",
       "      <th>1</th>\n",
       "      <td>18669</td>\n",
       "    </tr>\n",
       "  </tbody>\n",
       "</table>\n",
       "</div>"
      ],
      "text/plain": [
       "           Ori-I\n",
       "Match-Emp       \n",
       "0          49537\n",
       "1          18669"
      ]
     },
     "execution_count": 16,
     "metadata": {},
     "output_type": "execute_result"
    }
   ],
   "source": [
    "dataset['Match-Emp'] = [0 if des_i == des_o else 1 for des_i,des_o in dataset[['Emp-I','Emp-O']].values]\n",
    "dataset[['Match-Emp','Ori-I']].groupby('Match-Emp').count()"
   ]
  },
  {
   "cell_type": "code",
   "execution_count": 17,
   "metadata": {},
   "outputs": [
    {
     "data": {
      "text/html": [
       "<div>\n",
       "<style scoped>\n",
       "    .dataframe tbody tr th:only-of-type {\n",
       "        vertical-align: middle;\n",
       "    }\n",
       "\n",
       "    .dataframe tbody tr th {\n",
       "        vertical-align: top;\n",
       "    }\n",
       "\n",
       "    .dataframe thead th {\n",
       "        text-align: right;\n",
       "    }\n",
       "</style>\n",
       "<table border=\"1\" class=\"dataframe\">\n",
       "  <thead>\n",
       "    <tr style=\"text-align: right;\">\n",
       "      <th></th>\n",
       "      <th>Fecha-I</th>\n",
       "      <th>Vlo-I</th>\n",
       "      <th>Ori-I</th>\n",
       "      <th>Des-I</th>\n",
       "      <th>Emp-I</th>\n",
       "      <th>Fecha-O</th>\n",
       "      <th>Vlo-O</th>\n",
       "      <th>Ori-O</th>\n",
       "      <th>Des-O</th>\n",
       "      <th>Emp-O</th>\n",
       "      <th>DIA</th>\n",
       "      <th>MES</th>\n",
       "      <th>AÑO</th>\n",
       "      <th>DIANOM</th>\n",
       "      <th>TIPOVUELO</th>\n",
       "      <th>OPERA</th>\n",
       "      <th>SIGLAORI</th>\n",
       "      <th>SIGLADES</th>\n",
       "      <th>Match-Des</th>\n",
       "      <th>Match-Emp</th>\n",
       "    </tr>\n",
       "  </thead>\n",
       "  <tbody>\n",
       "    <tr>\n",
       "      <th>356</th>\n",
       "      <td>2017-01-21 22:30:00</td>\n",
       "      <td>2291</td>\n",
       "      <td>SCEL</td>\n",
       "      <td>SABE</td>\n",
       "      <td>AUT</td>\n",
       "      <td>2017-01-21 22:28:00</td>\n",
       "      <td>2291</td>\n",
       "      <td>SCEL</td>\n",
       "      <td>SABE</td>\n",
       "      <td>ARG</td>\n",
       "      <td>21</td>\n",
       "      <td>1</td>\n",
       "      <td>2017</td>\n",
       "      <td>Sabado</td>\n",
       "      <td>I</td>\n",
       "      <td>Austral</td>\n",
       "      <td>Santiago</td>\n",
       "      <td>Buenos Aires</td>\n",
       "      <td>0</td>\n",
       "      <td>1</td>\n",
       "    </tr>\n",
       "    <tr>\n",
       "      <th>845</th>\n",
       "      <td>2017-01-01 07:14:00</td>\n",
       "      <td>624</td>\n",
       "      <td>SCEL</td>\n",
       "      <td>SPJC</td>\n",
       "      <td>AVA</td>\n",
       "      <td>2017-01-01 07:11:00</td>\n",
       "      <td>624</td>\n",
       "      <td>SCEL</td>\n",
       "      <td>SPJC</td>\n",
       "      <td>LRC</td>\n",
       "      <td>1</td>\n",
       "      <td>1</td>\n",
       "      <td>2017</td>\n",
       "      <td>Domingo</td>\n",
       "      <td>I</td>\n",
       "      <td>Avianca</td>\n",
       "      <td>Santiago</td>\n",
       "      <td>Lima</td>\n",
       "      <td>0</td>\n",
       "      <td>1</td>\n",
       "    </tr>\n",
       "  </tbody>\n",
       "</table>\n",
       "</div>"
      ],
      "text/plain": [
       "                 Fecha-I Vlo-I Ori-I Des-I Emp-I              Fecha-O Vlo-O  \\\n",
       "356  2017-01-21 22:30:00  2291  SCEL  SABE   AUT  2017-01-21 22:28:00  2291   \n",
       "845  2017-01-01 07:14:00   624  SCEL  SPJC   AVA  2017-01-01 07:11:00   624   \n",
       "\n",
       "    Ori-O Des-O Emp-O  DIA  MES   AÑO   DIANOM TIPOVUELO    OPERA  SIGLAORI  \\\n",
       "356  SCEL  SABE   ARG   21    1  2017   Sabado         I  Austral  Santiago   \n",
       "845  SCEL  SPJC   LRC    1    1  2017  Domingo         I  Avianca  Santiago   \n",
       "\n",
       "         SIGLADES  Match-Des  Match-Emp  \n",
       "356  Buenos Aires          0          1  \n",
       "845          Lima          0          1  "
      ]
     },
     "execution_count": 17,
     "metadata": {},
     "output_type": "execute_result"
    }
   ],
   "source": [
    "dataset[dataset['Match-Emp'] == 1].head(2)"
   ]
  },
  {
   "cell_type": "code",
   "execution_count": 18,
   "metadata": {},
   "outputs": [
    {
     "data": {
      "text/html": [
       "<div>\n",
       "<style scoped>\n",
       "    .dataframe tbody tr th:only-of-type {\n",
       "        vertical-align: middle;\n",
       "    }\n",
       "\n",
       "    .dataframe tbody tr th {\n",
       "        vertical-align: top;\n",
       "    }\n",
       "\n",
       "    .dataframe thead th {\n",
       "        text-align: right;\n",
       "    }\n",
       "</style>\n",
       "<table border=\"1\" class=\"dataframe\">\n",
       "  <thead>\n",
       "    <tr style=\"text-align: right;\">\n",
       "      <th></th>\n",
       "      <th>Ori-I</th>\n",
       "    </tr>\n",
       "    <tr>\n",
       "      <th>Match-Vlo</th>\n",
       "      <th></th>\n",
       "    </tr>\n",
       "  </thead>\n",
       "  <tbody>\n",
       "    <tr>\n",
       "      <th>0</th>\n",
       "      <td>66356</td>\n",
       "    </tr>\n",
       "    <tr>\n",
       "      <th>1</th>\n",
       "      <td>1850</td>\n",
       "    </tr>\n",
       "  </tbody>\n",
       "</table>\n",
       "</div>"
      ],
      "text/plain": [
       "           Ori-I\n",
       "Match-Vlo       \n",
       "0          66356\n",
       "1           1850"
      ]
     },
     "execution_count": 18,
     "metadata": {},
     "output_type": "execute_result"
    }
   ],
   "source": [
    "dataset['Match-Vlo'] = [0 if des_i == des_o else 1 for des_i,des_o in dataset[['Vlo-I','Vlo-O']].values]\n",
    "dataset[['Match-Vlo','Ori-I']].groupby('Match-Vlo').count()"
   ]
  },
  {
   "cell_type": "code",
   "execution_count": 19,
   "metadata": {},
   "outputs": [
    {
     "data": {
      "text/html": [
       "<div>\n",
       "<style scoped>\n",
       "    .dataframe tbody tr th:only-of-type {\n",
       "        vertical-align: middle;\n",
       "    }\n",
       "\n",
       "    .dataframe tbody tr th {\n",
       "        vertical-align: top;\n",
       "    }\n",
       "\n",
       "    .dataframe thead th {\n",
       "        text-align: right;\n",
       "    }\n",
       "</style>\n",
       "<table border=\"1\" class=\"dataframe\">\n",
       "  <thead>\n",
       "    <tr style=\"text-align: right;\">\n",
       "      <th></th>\n",
       "      <th>Fecha-I</th>\n",
       "      <th>Vlo-I</th>\n",
       "      <th>Ori-I</th>\n",
       "      <th>Des-I</th>\n",
       "      <th>Emp-I</th>\n",
       "      <th>Fecha-O</th>\n",
       "      <th>Vlo-O</th>\n",
       "      <th>Ori-O</th>\n",
       "      <th>Des-O</th>\n",
       "      <th>Emp-O</th>\n",
       "      <th>...</th>\n",
       "      <th>MES</th>\n",
       "      <th>AÑO</th>\n",
       "      <th>DIANOM</th>\n",
       "      <th>TIPOVUELO</th>\n",
       "      <th>OPERA</th>\n",
       "      <th>SIGLAORI</th>\n",
       "      <th>SIGLADES</th>\n",
       "      <th>Match-Des</th>\n",
       "      <th>Match-Emp</th>\n",
       "      <th>Match-Vlo</th>\n",
       "    </tr>\n",
       "  </thead>\n",
       "  <tbody>\n",
       "    <tr>\n",
       "      <th>6094</th>\n",
       "      <td>2017-01-05 07:05:00</td>\n",
       "      <td>4501</td>\n",
       "      <td>SCEL</td>\n",
       "      <td>SAEZ</td>\n",
       "      <td>LAN</td>\n",
       "      <td>2017-01-05 09:36:00</td>\n",
       "      <td>1001</td>\n",
       "      <td>SCEL</td>\n",
       "      <td>SAEZ</td>\n",
       "      <td>LAN</td>\n",
       "      <td>...</td>\n",
       "      <td>1</td>\n",
       "      <td>2017</td>\n",
       "      <td>Jueves</td>\n",
       "      <td>I</td>\n",
       "      <td>Grupo LATAM</td>\n",
       "      <td>Santiago</td>\n",
       "      <td>Buenos Aires</td>\n",
       "      <td>0</td>\n",
       "      <td>0</td>\n",
       "      <td>1</td>\n",
       "    </tr>\n",
       "    <tr>\n",
       "      <th>6096</th>\n",
       "      <td>2017-01-07 07:05:00</td>\n",
       "      <td>4501</td>\n",
       "      <td>SCEL</td>\n",
       "      <td>SAEZ</td>\n",
       "      <td>LAN</td>\n",
       "      <td>2017-01-07 06:59:00</td>\n",
       "      <td>1001</td>\n",
       "      <td>SCEL</td>\n",
       "      <td>SAEZ</td>\n",
       "      <td>LAN</td>\n",
       "      <td>...</td>\n",
       "      <td>1</td>\n",
       "      <td>2017</td>\n",
       "      <td>Sabado</td>\n",
       "      <td>I</td>\n",
       "      <td>Grupo LATAM</td>\n",
       "      <td>Santiago</td>\n",
       "      <td>Buenos Aires</td>\n",
       "      <td>0</td>\n",
       "      <td>0</td>\n",
       "      <td>1</td>\n",
       "    </tr>\n",
       "  </tbody>\n",
       "</table>\n",
       "<p>2 rows × 21 columns</p>\n",
       "</div>"
      ],
      "text/plain": [
       "                  Fecha-I Vlo-I Ori-I Des-I Emp-I              Fecha-O Vlo-O  \\\n",
       "6094  2017-01-05 07:05:00  4501  SCEL  SAEZ   LAN  2017-01-05 09:36:00  1001   \n",
       "6096  2017-01-07 07:05:00  4501  SCEL  SAEZ   LAN  2017-01-07 06:59:00  1001   \n",
       "\n",
       "     Ori-O Des-O Emp-O  ...  MES   AÑO  DIANOM TIPOVUELO        OPERA  \\\n",
       "6094  SCEL  SAEZ   LAN  ...    1  2017  Jueves         I  Grupo LATAM   \n",
       "6096  SCEL  SAEZ   LAN  ...    1  2017  Sabado         I  Grupo LATAM   \n",
       "\n",
       "      SIGLAORI      SIGLADES Match-Des  Match-Emp  Match-Vlo  \n",
       "6094  Santiago  Buenos Aires         0          0          1  \n",
       "6096  Santiago  Buenos Aires         0          0          1  \n",
       "\n",
       "[2 rows x 21 columns]"
      ]
     },
     "execution_count": 19,
     "metadata": {},
     "output_type": "execute_result"
    }
   ],
   "source": [
    "dataset[dataset['Match-Vlo'] == 1].head(2)"
   ]
  },
  {
   "cell_type": "code",
   "execution_count": 20,
   "metadata": {},
   "outputs": [
    {
     "data": {
      "text/html": [
       "<div>\n",
       "<style scoped>\n",
       "    .dataframe tbody tr th:only-of-type {\n",
       "        vertical-align: middle;\n",
       "    }\n",
       "\n",
       "    .dataframe tbody tr th {\n",
       "        vertical-align: top;\n",
       "    }\n",
       "\n",
       "    .dataframe thead th {\n",
       "        text-align: right;\n",
       "    }\n",
       "</style>\n",
       "<table border=\"1\" class=\"dataframe\">\n",
       "  <thead>\n",
       "    <tr style=\"text-align: right;\">\n",
       "      <th></th>\n",
       "      <th>Match-Des</th>\n",
       "      <th>Match-Emp</th>\n",
       "      <th>Match-Vlo</th>\n",
       "      <th>Ori-I</th>\n",
       "    </tr>\n",
       "  </thead>\n",
       "  <tbody>\n",
       "    <tr>\n",
       "      <th>0</th>\n",
       "      <td>0</td>\n",
       "      <td>0</td>\n",
       "      <td>0</td>\n",
       "      <td>48108</td>\n",
       "    </tr>\n",
       "    <tr>\n",
       "      <th>1</th>\n",
       "      <td>0</td>\n",
       "      <td>0</td>\n",
       "      <td>1</td>\n",
       "      <td>1411</td>\n",
       "    </tr>\n",
       "    <tr>\n",
       "      <th>2</th>\n",
       "      <td>0</td>\n",
       "      <td>1</td>\n",
       "      <td>0</td>\n",
       "      <td>18227</td>\n",
       "    </tr>\n",
       "    <tr>\n",
       "      <th>3</th>\n",
       "      <td>0</td>\n",
       "      <td>1</td>\n",
       "      <td>1</td>\n",
       "      <td>432</td>\n",
       "    </tr>\n",
       "    <tr>\n",
       "      <th>4</th>\n",
       "      <td>1</td>\n",
       "      <td>0</td>\n",
       "      <td>0</td>\n",
       "      <td>11</td>\n",
       "    </tr>\n",
       "    <tr>\n",
       "      <th>5</th>\n",
       "      <td>1</td>\n",
       "      <td>0</td>\n",
       "      <td>1</td>\n",
       "      <td>7</td>\n",
       "    </tr>\n",
       "    <tr>\n",
       "      <th>6</th>\n",
       "      <td>1</td>\n",
       "      <td>1</td>\n",
       "      <td>0</td>\n",
       "      <td>10</td>\n",
       "    </tr>\n",
       "  </tbody>\n",
       "</table>\n",
       "</div>"
      ],
      "text/plain": [
       "   Match-Des  Match-Emp  Match-Vlo  Ori-I\n",
       "0          0          0          0  48108\n",
       "1          0          0          1   1411\n",
       "2          0          1          0  18227\n",
       "3          0          1          1    432\n",
       "4          1          0          0     11\n",
       "5          1          0          1      7\n",
       "6          1          1          0     10"
      ]
     },
     "execution_count": 20,
     "metadata": {},
     "output_type": "execute_result"
    }
   ],
   "source": [
    "dataset[['Match-Des','Match-Emp','Match-Vlo','Ori-I']].groupby(['Match-Des','Match-Emp','Match-Vlo']).count().reset_index()"
   ]
  },
  {
   "cell_type": "code",
   "execution_count": 21,
   "metadata": {},
   "outputs": [
    {
     "data": {
      "image/png": "[encoded data removed]",
      "text/plain": [
       "<Figure size 1080x360 with 1 Axes>"
      ]
     },
     "metadata": {
      "needs_background": "light"
     },
     "output_type": "display_data"
    }
   ],
   "source": [
    "total = float(len(dataset))\n",
    "plt.figure(figsize=(15,5))\n",
    "\n",
    "ax = sns.barplot(x = 'MES', y = 'Ori-I', data = dataset[['AÑO','MES','Ori-I']].groupby(['MES','AÑO']).count().reset_index())\n",
    "\n",
    "for p in ax.patches:\n",
    "    height = p.get_height()\n",
    "    ax.text(p.get_x()+p.get_width()/2.,\n",
    "            height + 3,\n",
    "            '{:1.2f}'.format(height/total),\n",
    "            ha=\"center\") \n",
    "plt.show()"
   ]
  },
  {
   "cell_type": "code",
   "execution_count": 22,
   "metadata": {},
   "outputs": [
    {
     "data": {
      "image/png": "[encoded data removed]",
      "text/plain": [
       "<Figure size 1080x360 with 1 Axes>"
      ]
     },
     "metadata": {
      "needs_background": "light"
     },
     "output_type": "display_data"
    }
   ],
   "source": [
    "plt.figure(figsize=(15,5))\n",
    "\n",
    "ax = sns.barplot(x = 'DIA', y = 'Ori-I', data = dataset[['DIA','Ori-I']].groupby(['DIA']).count().reset_index())\n",
    "\n",
    "for p in ax.patches:\n",
    "    height = p.get_height()\n",
    "    ax.text(p.get_x()+p.get_width()/2.,\n",
    "            height + 3,\n",
    "            '{:1.2f}'.format(height/total),\n",
    "            ha=\"center\") \n",
    "plt.show()"
   ]
  },
  {
   "cell_type": "markdown",
   "metadata": {},
   "source": [
    "De los dos graficos anteriores concluimos que no hay, a simple vista, diferencias significaticas en cuanto a la cantidad de vuelos que se producen por mes/dia."
   ]
  },
  {
   "cell_type": "code",
   "execution_count": 23,
   "metadata": {},
   "outputs": [
    {
     "data": {
      "image/png": "[encoded data removed]",
      "text/plain": [
       "<Figure size 1080x360 with 1 Axes>"
      ]
     },
     "metadata": {
      "needs_background": "light"
     },
     "output_type": "display_data"
    }
   ],
   "source": [
    "plt.figure(figsize=(15,5))\n",
    "\n",
    "ax = sns.barplot(x = 'Emp-O', y = 'Ori-I', data = dataset[['Emp-O','Ori-I']].groupby(['Emp-O']).count().reset_index() )\n",
    "plt.xticks(rotation=90)\n",
    "plt.tight_layout()\n",
    "\n",
    "for p in ax.patches:\n",
    "    height = p.get_height()\n",
    "    ax.text(p.get_x()+p.get_width()/2.,\n",
    "            height + 3,\n",
    "            '{:1.2f}'.format(height/total),\n",
    "            ha=\"center\") \n",
    "plt.show()"
   ]
  },
  {
   "cell_type": "markdown",
   "metadata": {},
   "source": [
    "Las aerolineas que concentran la mayoria de los vuelos son LAN, LXP y SKY"
   ]
  },
  {
   "cell_type": "code",
   "execution_count": 24,
   "metadata": {},
   "outputs": [
    {
     "data": {
      "image/png": "[encoded data removed]",
      "text/plain": [
       "<Figure size 1080x360 with 1 Axes>"
      ]
     },
     "metadata": {
      "needs_background": "light"
     },
     "output_type": "display_data"
    }
   ],
   "source": [
    "plt.figure(figsize=(15,5))\n",
    "ax = sns.barplot(x = 'Des-O', y = 'Ori-I',data = dataset[['Des-O','Ori-I']].groupby(['Des-O']).count().reset_index() )\n",
    "plt.xticks(rotation=90)\n",
    "plt.tight_layout()\n",
    "\n",
    "for p in ax.patches:\n",
    "    height = p.get_height()\n",
    "    ax.text(p.get_x()+p.get_width()/2.,\n",
    "            height + 3,\n",
    "            '{:1.2f}'.format(height/total),\n",
    "            ha=\"center\") \n",
    "plt.show()"
   ]
  },
  {
   "cell_type": "markdown",
   "metadata": {},
   "source": [
    "Hay destinos que acumulan muy poca cantidad de vuelos y unos destinos que son absolutamente más populares que el resto."
   ]
  },
  {
   "cell_type": "code",
   "execution_count": 25,
   "metadata": {},
   "outputs": [
    {
     "data": {
      "image/png": "[encoded data removed]",
      "text/plain": [
       "<Figure size 432x288 with 1 Axes>"
      ]
     },
     "metadata": {
      "needs_background": "light"
     },
     "output_type": "display_data"
    }
   ],
   "source": [
    "ax = sns.barplot(x = 'TIPOVUELO', y = 'Ori-I', data = dataset[['TIPOVUELO','Ori-I']].groupby(['TIPOVUELO']).count().reset_index())\n",
    "for p in ax.patches:\n",
    "    height = p.get_height()\n",
    "    ax.text(p.get_x()+p.get_width()/2.,\n",
    "            height + 3,\n",
    "            '{:1.2f}'.format(height/total),\n",
    "            ha=\"center\") \n",
    "plt.show()"
   ]
  },
  {
   "cell_type": "code",
   "execution_count": 26,
   "metadata": {},
   "outputs": [
    {
     "data": {
      "image/png": "[encoded data removed]",
      "text/plain": [
       "<Figure size 1080x360 with 1 Axes>"
      ]
     },
     "metadata": {
      "needs_background": "light"
     },
     "output_type": "display_data"
    }
   ],
   "source": [
    "plt.figure(figsize=(15,5))\n",
    "\n",
    "ax = sns.barplot(x = 'MES', y = 'Ori-I',hue = 'TIPOVUELO', data = dataset[['MES','TIPOVUELO','Ori-I']].groupby(['MES','TIPOVUELO']).count().reset_index())\n",
    "for p in ax.patches:\n",
    "    height = p.get_height()\n",
    "    ax.text(p.get_x()+p.get_width()/2.,\n",
    "            height + 3,\n",
    "            '{:1.2f}'.format(height/total),\n",
    "            ha=\"center\") \n",
    "plt.show()"
   ]
  },
  {
   "cell_type": "code",
   "execution_count": 27,
   "metadata": {},
   "outputs": [
    {
     "data": {
      "image/png": "[encoded data removed]",
      "text/plain": [
       "<Figure size 1080x360 with 1 Axes>"
      ]
     },
     "metadata": {
      "needs_background": "light"
     },
     "output_type": "display_data"
    }
   ],
   "source": [
    "plt.figure(figsize=(15,5))\n",
    "ax = sns.barplot(x = 'OPERA',  y= 'Ori-I',hue = 'TIPOVUELO', data = dataset[['OPERA','TIPOVUELO','Ori-I']].groupby(['OPERA','TIPOVUELO']).count().reset_index())\n",
    "plt.xticks(rotation=90)\n",
    "plt.tight_layout()"
   ]
  },
  {
   "cell_type": "markdown",
   "metadata": {},
   "source": [
    "La mayoria de los vuelos son nacionales, en donde la cantidad de vuelos totales operados a nivel mensual aumenta a medida que pesan los meses, además solo cuatro aerolineas operan dichos vuelos"
   ]
  },
  {
   "cell_type": "markdown",
   "metadata": {},
   "source": [
    "# 2.- Creacion de nuevas columnas"
   ]
  },
  {
   "cell_type": "markdown",
   "metadata": {},
   "source": [
    "A continuacion, crearemos las 4 variables nuevas descritas en el desafio:\n",
    "    \n",
    "    1.- Periodo_dia: Indica si el vuelo fue en la mañana,tarde o noche.\n",
    "    2.- Flag_temporada_alta: Indica si el vuelo se efectuo en temporada alta (1) o no (0).\n",
    "    3.- Dif_min: Diferencia (en minutos) de la hora de despeje programada con la hora efectiva.\n",
    "    4.- Atraso15: Indica si la diferencia es mayor a 15 minutos.\n",
    "    \n",
    "Además crearemos una columna llamada *Es_FDS* la cual indica si el vuelo fue en fin de semana (Viernes, Sabado, Domingo) o no. \n",
    "\n",
    "Por limitantes de tiempo y de conocimiento suficiente, no fue posible agregar variables atmosfericas, las cuales afectan fuertemente en los atrasos de los vuelos. Se testearon 2 wraper de API's, pero una de ellas solo permitia 50 consultas diarias y la segunda solo mirar 5 dias hacia atras desde la fecha actual, de todas formas se adjunta el codigo (funcional) en un archivo **.py** externo.\n",
    "\n",
    "Comenzamos transformando a formato *datetime* las columnas **Fecha-I** y **Fecha-O** para poder manipularlas de forma correcta:"
   ]
  },
  {
   "cell_type": "code",
   "execution_count": 28,
   "metadata": {},
   "outputs": [
    {
     "name": "stdout",
     "output_type": "stream",
     "text": [
      "<class 'pandas.core.frame.DataFrame'>\n",
      "Int64Index: 68206 entries, 0 to 70032\n",
      "Data columns (total 21 columns):\n",
      " #   Column     Non-Null Count  Dtype         \n",
      "---  ------     --------------  -----         \n",
      " 0   Fecha-I    68206 non-null  datetime64[ns]\n",
      " 1   Vlo-I      68206 non-null  object        \n",
      " 2   Ori-I      68206 non-null  object        \n",
      " 3   Des-I      68206 non-null  object        \n",
      " 4   Emp-I      68206 non-null  object        \n",
      " 5   Fecha-O    68206 non-null  datetime64[ns]\n",
      " 6   Vlo-O      68205 non-null  object        \n",
      " 7   Ori-O      68206 non-null  object        \n",
      " 8   Des-O      68206 non-null  object        \n",
      " 9   Emp-O      68206 non-null  object        \n",
      " 10  DIA        68206 non-null  int64         \n",
      " 11  MES        68206 non-null  int64         \n",
      " 12  AÑO        68206 non-null  int64         \n",
      " 13  DIANOM     68206 non-null  object        \n",
      " 14  TIPOVUELO  68206 non-null  object        \n",
      " 15  OPERA      68206 non-null  object        \n",
      " 16  SIGLAORI   68206 non-null  object        \n",
      " 17  SIGLADES   68206 non-null  object        \n",
      " 18  Match-Des  68206 non-null  int64         \n",
      " 19  Match-Emp  68206 non-null  int64         \n",
      " 20  Match-Vlo  68206 non-null  int64         \n",
      "dtypes: datetime64[ns](2), int64(6), object(13)\n",
      "memory usage: 11.4+ MB\n"
     ]
    }
   ],
   "source": [
    "dataset['Fecha-I'] = pd.to_datetime(dataset['Fecha-I'])\n",
    "dataset['Fecha-O'] = pd.to_datetime(dataset['Fecha-O'])\n",
    "dataset.info()"
   ]
  },
  {
   "cell_type": "code",
   "execution_count": 29,
   "metadata": {},
   "outputs": [
    {
     "name": "stdout",
     "output_type": "stream",
     "text": [
      "                  Fecha-I Periodo_dia\n",
      "0     2017-01-01 23:30:00       noche\n",
      "1     2017-01-02 23:30:00       noche\n",
      "2     2017-01-03 23:30:00       noche\n",
      "3     2017-01-04 23:30:00       noche\n",
      "4     2017-01-05 23:30:00       noche\n",
      "...                   ...         ...\n",
      "70028 2017-12-22 14:55:00       tarde\n",
      "70029 2017-12-25 14:55:00       tarde\n",
      "70030 2017-12-27 14:55:00       tarde\n",
      "70031 2017-12-29 14:55:00       tarde\n",
      "70032 2017-12-31 14:55:00       tarde\n",
      "\n",
      "[68206 rows x 2 columns]\n"
     ]
    }
   ],
   "source": [
    "dataset['Periodo_dia'] = [('mañana' if tiempo.hour < 12 else ('tarde' if tiempo.hour < 17 else 'noche')) for tiempo in dataset['Fecha-I'].dt.time]\n",
    "print(dataset[['Fecha-I','Periodo_dia']])"
   ]
  },
  {
   "cell_type": "code",
   "execution_count": 30,
   "metadata": {},
   "outputs": [
    {
     "name": "stdout",
     "output_type": "stream",
     "text": [
      "                  Fecha-I  Flag_temporada_alta\n",
      "0     2017-01-01 23:30:00                    1\n",
      "1     2017-01-02 23:30:00                    1\n",
      "2     2017-01-03 23:30:00                    1\n",
      "3     2017-01-04 23:30:00                    1\n",
      "4     2017-01-05 23:30:00                    1\n",
      "...                   ...                  ...\n",
      "70028 2017-12-22 14:55:00                    1\n",
      "70029 2017-12-25 14:55:00                    1\n",
      "70030 2017-12-27 14:55:00                    1\n",
      "70031 2017-12-29 14:55:00                    1\n",
      "70032 2017-12-31 14:55:00                    1\n",
      "\n",
      "[68206 rows x 2 columns]\n"
     ]
    }
   ],
   "source": [
    "def temp_alta(x):\n",
    "    fecha = x.date()\n",
    "    if((fecha >= date(2017, 12, 15) or fecha <= date(2017,3,3)) or (fecha >= date(2017, 7, 15) and fecha <= date(2017,7,31)) or (fecha >= date(2017, 9, 11) and fecha <= date(2017,9,30))):\n",
    "        return 1\n",
    "    else:\n",
    "        return 0\n",
    "\n",
    "dataset['Flag_temporada_alta'] = dataset['Fecha-I'].apply(temp_alta)\n",
    "print(dataset[['Fecha-I','Flag_temporada_alta']])"
   ]
  },
  {
   "cell_type": "code",
   "execution_count": 31,
   "metadata": {},
   "outputs": [
    {
     "name": "stdout",
     "output_type": "stream",
     "text": [
      "0         3.0\n",
      "1         9.0\n",
      "2         9.0\n",
      "3         3.0\n",
      "4        -2.0\n",
      "         ... \n",
      "70028    46.0\n",
      "70029    16.0\n",
      "70030    40.0\n",
      "70031    13.0\n",
      "70032     9.0\n",
      "Name: Dif_min, Length: 68206, dtype: float64\n"
     ]
    }
   ],
   "source": [
    "dataset['Dif_min'] = 1440*((dataset['Fecha-O'] - dataset['Fecha-I'])/np.timedelta64(1,'D'))\n",
    "print(dataset['Dif_min'])"
   ]
  },
  {
   "cell_type": "code",
   "execution_count": 32,
   "metadata": {},
   "outputs": [
    {
     "name": "stdout",
     "output_type": "stream",
     "text": [
      "       Dif_min  Atraso15\n",
      "0          3.0         0\n",
      "1          9.0         0\n",
      "2          9.0         0\n",
      "3          3.0         0\n",
      "4         -2.0         0\n",
      "...        ...       ...\n",
      "70028     46.0         1\n",
      "70029     16.0         1\n",
      "70030     40.0         1\n",
      "70031     13.0         0\n",
      "70032      9.0         0\n",
      "\n",
      "[68206 rows x 2 columns]\n"
     ]
    }
   ],
   "source": [
    "dataset['Atraso15'] = [1 if minutos > 15 else 0 for minutos in dataset['Dif_min']]\n",
    "print(dataset[['Dif_min', 'Atraso15']])"
   ]
  },
  {
   "cell_type": "code",
   "execution_count": 33,
   "metadata": {},
   "outputs": [
    {
     "data": {
      "text/html": [
       "<div>\n",
       "<style scoped>\n",
       "    .dataframe tbody tr th:only-of-type {\n",
       "        vertical-align: middle;\n",
       "    }\n",
       "\n",
       "    .dataframe tbody tr th {\n",
       "        vertical-align: top;\n",
       "    }\n",
       "\n",
       "    .dataframe thead th {\n",
       "        text-align: right;\n",
       "    }\n",
       "</style>\n",
       "<table border=\"1\" class=\"dataframe\">\n",
       "  <thead>\n",
       "    <tr style=\"text-align: right;\">\n",
       "      <th></th>\n",
       "      <th>DIANOM</th>\n",
       "      <th>Es_FDS</th>\n",
       "    </tr>\n",
       "  </thead>\n",
       "  <tbody>\n",
       "    <tr>\n",
       "      <th>0</th>\n",
       "      <td>Domingo</td>\n",
       "      <td>1</td>\n",
       "    </tr>\n",
       "    <tr>\n",
       "      <th>1</th>\n",
       "      <td>Lunes</td>\n",
       "      <td>0</td>\n",
       "    </tr>\n",
       "    <tr>\n",
       "      <th>2</th>\n",
       "      <td>Martes</td>\n",
       "      <td>0</td>\n",
       "    </tr>\n",
       "    <tr>\n",
       "      <th>3</th>\n",
       "      <td>Miercoles</td>\n",
       "      <td>0</td>\n",
       "    </tr>\n",
       "    <tr>\n",
       "      <th>4</th>\n",
       "      <td>Jueves</td>\n",
       "      <td>0</td>\n",
       "    </tr>\n",
       "    <tr>\n",
       "      <th>...</th>\n",
       "      <td>...</td>\n",
       "      <td>...</td>\n",
       "    </tr>\n",
       "    <tr>\n",
       "      <th>70028</th>\n",
       "      <td>Viernes</td>\n",
       "      <td>1</td>\n",
       "    </tr>\n",
       "    <tr>\n",
       "      <th>70029</th>\n",
       "      <td>Lunes</td>\n",
       "      <td>0</td>\n",
       "    </tr>\n",
       "    <tr>\n",
       "      <th>70030</th>\n",
       "      <td>Miercoles</td>\n",
       "      <td>0</td>\n",
       "    </tr>\n",
       "    <tr>\n",
       "      <th>70031</th>\n",
       "      <td>Viernes</td>\n",
       "      <td>1</td>\n",
       "    </tr>\n",
       "    <tr>\n",
       "      <th>70032</th>\n",
       "      <td>Domingo</td>\n",
       "      <td>1</td>\n",
       "    </tr>\n",
       "  </tbody>\n",
       "</table>\n",
       "<p>68206 rows × 2 columns</p>\n",
       "</div>"
      ],
      "text/plain": [
       "          DIANOM  Es_FDS\n",
       "0        Domingo       1\n",
       "1          Lunes       0\n",
       "2         Martes       0\n",
       "3      Miercoles       0\n",
       "4         Jueves       0\n",
       "...          ...     ...\n",
       "70028    Viernes       1\n",
       "70029      Lunes       0\n",
       "70030  Miercoles       0\n",
       "70031    Viernes       1\n",
       "70032    Domingo       1\n",
       "\n",
       "[68206 rows x 2 columns]"
      ]
     },
     "execution_count": 33,
     "metadata": {},
     "output_type": "execute_result"
    }
   ],
   "source": [
    "dataset['Es_FDS'] = [1 if (dia == 'Viernes' or dia == 'Sabado' or dia == 'Domingo') else 0 for dia in dataset['DIANOM']]\n",
    "dataset[['DIANOM','Es_FDS']]"
   ]
  },
  {
   "cell_type": "markdown",
   "metadata": {},
   "source": [
    "# 3.- Composicion de la tasa de atraso con respecto a otras variables"
   ]
  },
  {
   "cell_type": "markdown",
   "metadata": {},
   "source": [
    "Comenzamos viendo la distribucion de las clases:"
   ]
  },
  {
   "cell_type": "code",
   "execution_count": 34,
   "metadata": {},
   "outputs": [
    {
     "name": "stdout",
     "output_type": "stream",
     "text": [
      "   Atraso15  Ori-I\n",
      "0         0  55592\n",
      "1         1  12614\n"
     ]
    },
    {
     "data": {
      "image/png": "[encoded data removed]",
      "text/plain": [
       "<Figure size 432x288 with 1 Axes>"
      ]
     },
     "metadata": {
      "needs_background": "light"
     },
     "output_type": "display_data"
    }
   ],
   "source": [
    "print(dataset[['Atraso15','Ori-I']].groupby(['Atraso15']).count().reset_index())\n",
    "ax = sns.barplot(x = 'Atraso15', y = 'Ori-I', data = dataset[['Atraso15','Ori-I']].groupby(['Atraso15']).count().reset_index())\n",
    "\n",
    "for p in ax.patches:\n",
    "    height = p.get_height()\n",
    "    ax.text(p.get_x()+p.get_width()/2.,\n",
    "            height + 3,\n",
    "            '{:1.2f}'.format(height/total),\n",
    "            ha=\"center\") \n",
    "plt.show()"
   ]
  },
  {
   "cell_type": "markdown",
   "metadata": {},
   "source": [
    "Observamos que las clases estan altamente desbalancedas, por lo que es un punto que debemos considerar a la hora de trabajr con el modelo.\n",
    "\n",
    "A continuacion, procedemos a graficar las tasas de atraso mayores a 15 minutos respecto a las variables que consideraremos en el modelo, las cuales son:\n",
    "    \n",
    "    1.- Des-I: Destino programado de un vuelo.\n",
    "    2.- Emp-I: Aerolinea programada de un vuelo.\n",
    "    3.- DIANOM/Es_FDS: Dia de la semana o indicador si es fin de semana.\n",
    "    4.- TIPOVUELO: Si el vuelo es nacional o internacional.\n",
    "    5.- Flag_temporada_alta: Si el vuelo se realizó en temporada alta o no.\n",
    "    6.- Match-Des: Si existen cambios entre el destino programado y efectivo.\n",
    "    7.- Match-Emp: Si existen cambios entre el la aerolinea programada y efectiva.\n",
    "    \n",
    " Las variables **Match-Des** y **Match-Emp** captan los cambios en los destinos y aerolineas, por lo cuales reemplazan a las variables **Des-I** y **Emp-I**."
   ]
  },
  {
   "cell_type": "code",
   "execution_count": 35,
   "metadata": {},
   "outputs": [
    {
     "data": {
      "image/png": "[encoded data removed]",
      "text/plain": [
       "<Figure size 1080x360 with 1 Axes>"
      ]
     },
     "metadata": {
      "needs_background": "light"
     },
     "output_type": "display_data"
    },
    {
     "data": {
      "image/png": "[encoded data removed]",
      "text/plain": [
       "<Figure size 1080x360 with 1 Axes>"
      ]
     },
     "metadata": {
      "needs_background": "light"
     },
     "output_type": "display_data"
    },
    {
     "data": {
      "image/png": "[encoded data removed]",
      "text/plain": [
       "<Figure size 1080x360 with 1 Axes>"
      ]
     },
     "metadata": {
      "needs_background": "light"
     },
     "output_type": "display_data"
    },
    {
     "data": {
      "image/png": "[encoded data removed]",
      "text/plain": [
       "<Figure size 1080x360 with 1 Axes>"
      ]
     },
     "metadata": {
      "needs_background": "light"
     },
     "output_type": "display_data"
    },
    {
     "data": {
      "image/png": "[encoded data removed]",
      "text/plain": [
       "<Figure size 1080x360 with 1 Axes>"
      ]
     },
     "metadata": {
      "needs_background": "light"
     },
     "output_type": "display_data"
    },
    {
     "data": {
      "image/png": "[encoded data removed]",
      "text/plain": [
       "<Figure size 1080x360 with 1 Axes>"
      ]
     },
     "metadata": {
      "needs_background": "light"
     },
     "output_type": "display_data"
    },
    {
     "data": {
      "image/png": "[encoded data removed]",
      "text/plain": [
       "<Figure size 1080x360 with 1 Axes>"
      ]
     },
     "metadata": {
      "needs_background": "light"
     },
     "output_type": "display_data"
    },
    {
     "data": {
      "image/png": "[encoded data removed]",
      "text/plain": [
       "<Figure size 1080x360 with 1 Axes>"
      ]
     },
     "metadata": {
      "needs_background": "light"
     },
     "output_type": "display_data"
    },
    {
     "data": {
      "image/png": "[encoded data removed]",
      "text/plain": [
       "<Figure size 1080x360 with 1 Axes>"
      ]
     },
     "metadata": {
      "needs_background": "light"
     },
     "output_type": "display_data"
    },
    {
     "data": {
      "image/png": "[encoded data removed]",
      "text/plain": [
       "<Figure size 1080x360 with 1 Axes>"
      ]
     },
     "metadata": {
      "needs_background": "light"
     },
     "output_type": "display_data"
    }
   ],
   "source": [
    "columnas = ['Des-I','Emp-I','MES','DIANOM','Periodo_dia','TIPOVUELO','Flag_temporada_alta','Es_FDS','Match-Des','Match-Emp']\n",
    "\n",
    "for columna in columnas:\n",
    "    data_total          = dataset[[columna,'Ori-I']].groupby([columna]).count().reset_index()\n",
    "    data_desgr          = dataset[[columna,'Atraso15','Ori-I']].groupby([columna,'Atraso15']).count().reset_index()\n",
    "\n",
    "\n",
    "    data = data_desgr.merge(data_total,\n",
    "                            on  = columna,\n",
    "                            how = 'left',\n",
    "                            suffixes =  ['', '_total'])\n",
    "    data['porcentaje'] = data['Ori-I']/data['Ori-I_total']\n",
    "    data[columna]      = data[columna].astype('category')\n",
    "\n",
    "\n",
    "    plt.figure(figsize=(15,5))\n",
    "    ax = sns.barplot(y = 'porcentaje', x = columna,hue = 'Atraso15', data = data)\n",
    "    plt.xticks(rotation=90)\n",
    "    plt.tight_layout()"
   ]
  },
  {
   "cell_type": "markdown",
   "metadata": {},
   "source": [
    "Dada las distribuciones de los gráficos, esperamos que las variables: \n",
    "\n",
    "   1.- **Des-I**: Hay destinos con en el que todos los vuelos se atrasan (EGYP) y otros en los que ninguno esta atrasado (SBFI). \n",
    "   \n",
    "   2.- **Emp-I**: Al igual que los destinos, hay aerolineas con altas tasas de atrasos (TPU,PUE) y otras con tasas bajas (DAL, CMP).\n",
    "   \n",
    "   3.- **MES**: Julio es un mes con una mayor tasa de vuelos retrasados, mientras que otros como Marzo y Abril, presentan tasas bajas (en comparativa con el resto).\n",
    "   \n",
    "   4.- **DIA**: Se observa que los dias Jueves, Viernes y Lunes presentan tasas altas de atrasos\n",
    "   \n",
    "   4.- **Periodo_dia**: Se observa que en la mañana se presentan las tasas de atrasos bajas, mientras que en la tarde la tasa más alta.\n",
    "   \n",
    "   5.- **Tipo_Vuelo**: Se observa que la tasa de atrasos es más alta en vuelos internacionales que nacionales.\n",
    "   \n",
    "   6.- **Match-Des**: Los vuelos donde hay cambios de destino tiene tasa más alta de atrasos que los que no. \n",
    "\n",
    "Dado los argumentos anteriores, esperamos que esas variables sean las más influentes en el modelo"
   ]
  },
  {
   "cell_type": "markdown",
   "metadata": {},
   "source": [
    "# 4.- Ajuste del Modelo"
   ]
  },
  {
   "cell_type": "markdown",
   "metadata": {},
   "source": [
    "En primero lugar, ajustaremos un modelo a los datos sin balancear, posteriormente balancearemos las clases usando SMOTE y veremos la influencia que produce en los resultados el aplicar esta técnica a los datos."
   ]
  },
  {
   "cell_type": "code",
   "execution_count": 36,
   "metadata": {},
   "outputs": [],
   "source": [
    "import lightgbm as lgb\n",
    "#import numpy as np\n",
    "import sklearn.datasets\n",
    "import sklearn.metrics\n",
    "from sklearn.model_selection import train_test_split\n",
    "\n",
    "import optuna"
   ]
  },
  {
   "cell_type": "code",
   "execution_count": 37,
   "metadata": {},
   "outputs": [
    {
     "name": "stderr",
     "output_type": "stream",
     "text": [
      "C:\\Users\\franc\\anaconda3\\lib\\site-packages\\ipykernel_launcher.py:6: SettingWithCopyWarning: \n",
      "A value is trying to be set on a copy of a slice from a DataFrame.\n",
      "Try using .loc[row_indexer,col_indexer] = value instead\n",
      "\n",
      "See the caveats in the documentation: https://pandas.pydata.org/pandas-docs/stable/user_guide/indexing.html#returning-a-view-versus-a-copy\n",
      "  \n",
      "C:\\Users\\franc\\anaconda3\\lib\\site-packages\\ipykernel_launcher.py:7: SettingWithCopyWarning: \n",
      "A value is trying to be set on a copy of a slice from a DataFrame.\n",
      "Try using .loc[row_indexer,col_indexer] = value instead\n",
      "\n",
      "See the caveats in the documentation: https://pandas.pydata.org/pandas-docs/stable/user_guide/indexing.html#returning-a-view-versus-a-copy\n",
      "  import sys\n"
     ]
    },
    {
     "name": "stdout",
     "output_type": "stream",
     "text": [
      "<class 'pandas.core.frame.DataFrame'>\n",
      "Int64Index: 68206 entries, 0 to 70032\n",
      "Data columns (total 10 columns):\n",
      " #   Column               Non-Null Count  Dtype   \n",
      "---  ------               --------------  -----   \n",
      " 0   Des-I                68206 non-null  category\n",
      " 1   Emp-I                68206 non-null  category\n",
      " 2   TIPOVUELO            68206 non-null  category\n",
      " 3   Match-Des            68206 non-null  int64   \n",
      " 4   Match-Emp            68206 non-null  int64   \n",
      " 5   MES                  68206 non-null  category\n",
      " 6   DIANOM               68206 non-null  category\n",
      " 7   Flag_temporada_alta  68206 non-null  int64   \n",
      " 8   Periodo_dia          68206 non-null  category\n",
      " 9   Es_FDS               68206 non-null  int64   \n",
      "dtypes: category(6), int64(4)\n",
      "memory usage: 3.0 MB\n"
     ]
    }
   ],
   "source": [
    "X = dataset[['Des-I','Emp-I','TIPOVUELO','Match-Des','Match-Emp','MES','DIANOM','Flag_temporada_alta','Periodo_dia','Es_FDS']]\n",
    "y = dataset[['Atraso15']]\n",
    "for c in X.columns:\n",
    "    col_type = X[c].dtype\n",
    "    if col_type == 'object':\n",
    "        X[c] = X[c].astype('category')\n",
    "X['MES'] = X['MES'].astype('category')\n",
    "\n",
    "X.info()"
   ]
  },
  {
   "cell_type": "code",
   "execution_count": 38,
   "metadata": {},
   "outputs": [
    {
     "data": {
      "text/html": [
       "<div>\n",
       "<style scoped>\n",
       "    .dataframe tbody tr th:only-of-type {\n",
       "        vertical-align: middle;\n",
       "    }\n",
       "\n",
       "    .dataframe tbody tr th {\n",
       "        vertical-align: top;\n",
       "    }\n",
       "\n",
       "    .dataframe thead th {\n",
       "        text-align: right;\n",
       "    }\n",
       "</style>\n",
       "<table border=\"1\" class=\"dataframe\">\n",
       "  <thead>\n",
       "    <tr style=\"text-align: right;\">\n",
       "      <th></th>\n",
       "      <th>Atraso15</th>\n",
       "    </tr>\n",
       "  </thead>\n",
       "  <tbody>\n",
       "    <tr>\n",
       "      <th>0</th>\n",
       "      <td>0</td>\n",
       "    </tr>\n",
       "    <tr>\n",
       "      <th>1</th>\n",
       "      <td>0</td>\n",
       "    </tr>\n",
       "    <tr>\n",
       "      <th>2</th>\n",
       "      <td>0</td>\n",
       "    </tr>\n",
       "    <tr>\n",
       "      <th>3</th>\n",
       "      <td>0</td>\n",
       "    </tr>\n",
       "    <tr>\n",
       "      <th>4</th>\n",
       "      <td>0</td>\n",
       "    </tr>\n",
       "    <tr>\n",
       "      <th>...</th>\n",
       "      <td>...</td>\n",
       "    </tr>\n",
       "    <tr>\n",
       "      <th>70028</th>\n",
       "      <td>1</td>\n",
       "    </tr>\n",
       "    <tr>\n",
       "      <th>70029</th>\n",
       "      <td>1</td>\n",
       "    </tr>\n",
       "    <tr>\n",
       "      <th>70030</th>\n",
       "      <td>1</td>\n",
       "    </tr>\n",
       "    <tr>\n",
       "      <th>70031</th>\n",
       "      <td>0</td>\n",
       "    </tr>\n",
       "    <tr>\n",
       "      <th>70032</th>\n",
       "      <td>0</td>\n",
       "    </tr>\n",
       "  </tbody>\n",
       "</table>\n",
       "<p>68206 rows × 1 columns</p>\n",
       "</div>"
      ],
      "text/plain": [
       "       Atraso15\n",
       "0             0\n",
       "1             0\n",
       "2             0\n",
       "3             0\n",
       "4             0\n",
       "...         ...\n",
       "70028         1\n",
       "70029         1\n",
       "70030         1\n",
       "70031         0\n",
       "70032         0\n",
       "\n",
       "[68206 rows x 1 columns]"
      ]
     },
     "execution_count": 38,
     "metadata": {},
     "output_type": "execute_result"
    }
   ],
   "source": [
    "y"
   ]
  },
  {
   "cell_type": "code",
   "execution_count": 39,
   "metadata": {},
   "outputs": [],
   "source": [
    "from sklearn.model_selection import train_test_split\n",
    "X_train, X_test, y_train, y_test = train_test_split(X,y, test_size = 0.25, random_state = 0, stratify = y)"
   ]
  },
  {
   "cell_type": "code",
   "execution_count": 40,
   "metadata": {},
   "outputs": [],
   "source": [
    "def objective(trial):\n",
    "    #data, target = sklearn.datasets.load_breast_cancer(return_X_y=True)\n",
    "    train_x, valid_x, train_y, valid_y = train_test_split(X, y, test_size=0.25, stratify = y)\n",
    "    dtrain = lgb.Dataset(train_x, label=train_y)\n",
    "    dvalid = lgb.Dataset(valid_x, label=valid_y)\n",
    "\n",
    "    param = {\n",
    "        \"objective\": \"binary\",\n",
    "        \"metric\": \"auc\",\n",
    "        \"verbosity\": -1,\n",
    "        #\"is_unbalance\": True,\n",
    "        \"boosting_type\": \"gbdt\",\n",
    "        \"lambda_l1\": trial.suggest_float(\"lambda_l1\", 1e-8, 10.0, log=True),\n",
    "        \"lambda_l2\": trial.suggest_float(\"lambda_l2\", 1e-8, 10.0, log=True),\n",
    "        \"num_leaves\": trial.suggest_int(\"num_leaves\", 2, 256),\n",
    "        \"feature_fraction\": trial.suggest_float(\"feature_fraction\", 0.4, 1.0),\n",
    "        \"bagging_fraction\": trial.suggest_float(\"bagging_fraction\", 0.4, 1.0),\n",
    "        \"bagging_freq\": trial.suggest_int(\"bagging_freq\", 1, 7),\n",
    "        \"min_child_samples\": trial.suggest_int(\"min_child_samples\", 5, 100),\n",
    "        \"scale_pos_weight\": trial.suggest_float(\"scale_pos_weight\",0.1,10.0),\n",
    "    }\n",
    "\n",
    "    # Add a callback for pruning.\n",
    "    pruning_callback = optuna.integration.LightGBMPruningCallback(trial,\"auc\")\n",
    "    gbm = lgb.train(\n",
    "        param, dtrain, valid_sets=[dvalid], verbose_eval=False, callbacks=[pruning_callback]\n",
    "    )\n",
    "\n",
    "    preds = gbm.predict(valid_x)\n",
    "    pred_labels = np.rint(preds)\n",
    "    accuracy = sklearn.metrics.accuracy_score(valid_y, pred_labels)\n",
    "    return accuracy"
   ]
  },
  {
   "cell_type": "code",
   "execution_count": 41,
   "metadata": {},
   "outputs": [
    {
     "name": "stderr",
     "output_type": "stream",
     "text": [
      "C:\\Users\\franc\\anaconda3\\lib\\site-packages\\lightgbm\\basic.py:1286: UserWarning: Overriding the parameters from Reference Dataset.\n",
      "  warnings.warn('Overriding the parameters from Reference Dataset.')\n",
      "C:\\Users\\franc\\anaconda3\\lib\\site-packages\\lightgbm\\basic.py:1098: UserWarning: categorical_column in param dict is overridden.\n",
      "  warnings.warn('{} in param dict is overridden.'.format(cat_alias))\n",
      "[I 2020-09-06 22:49:28,437] Trial 0 finished with value: 0.7027914614121511 and parameters: {'lambda_l1': 0.0005766415010871882, 'lambda_l2': 6.784804127736125e-08, 'num_leaves': 187, 'feature_fraction': 0.9377109163673504, 'bagging_fraction': 0.4568179014319829, 'bagging_freq': 2, 'min_child_samples': 79, 'scale_pos_weight': 3.838313419110393}. Best is trial 0 with value: 0.7027914614121511.\n",
      "C:\\Users\\franc\\anaconda3\\lib\\site-packages\\lightgbm\\basic.py:1286: UserWarning: Overriding the parameters from Reference Dataset.\n",
      "  warnings.warn('Overriding the parameters from Reference Dataset.')\n",
      "C:\\Users\\franc\\anaconda3\\lib\\site-packages\\lightgbm\\basic.py:1098: UserWarning: categorical_column in param dict is overridden.\n",
      "  warnings.warn('{} in param dict is overridden.'.format(cat_alias))\n",
      "[I 2020-09-06 22:49:29,905] Trial 1 finished with value: 0.768590194698569 and parameters: {'lambda_l1': 0.015171413884389074, 'lambda_l2': 0.0017849165202502028, 'num_leaves': 2, 'feature_fraction': 0.5067556579609452, 'bagging_fraction': 0.44931593600292047, 'bagging_freq': 1, 'min_child_samples': 13, 'scale_pos_weight': 2.9563730079317105}. Best is trial 1 with value: 0.768590194698569.\n",
      "C:\\Users\\franc\\anaconda3\\lib\\site-packages\\lightgbm\\basic.py:1286: UserWarning: Overriding the parameters from Reference Dataset.\n",
      "  warnings.warn('Overriding the parameters from Reference Dataset.')\n",
      "C:\\Users\\franc\\anaconda3\\lib\\site-packages\\lightgbm\\basic.py:1098: UserWarning: categorical_column in param dict is overridden.\n",
      "  warnings.warn('{} in param dict is overridden.'.format(cat_alias))\n",
      "[I 2020-09-06 22:49:33,252] Trial 2 finished with value: 0.819962467745719 and parameters: {'lambda_l1': 0.021999532817252976, 'lambda_l2': 0.8460385884929577, 'num_leaves': 165, 'feature_fraction': 0.759695191417125, 'bagging_fraction': 0.815430763745473, 'bagging_freq': 2, 'min_child_samples': 12, 'scale_pos_weight': 0.41487706079445363}. Best is trial 2 with value: 0.819962467745719.\n",
      "C:\\Users\\franc\\anaconda3\\lib\\site-packages\\lightgbm\\basic.py:1286: UserWarning: Overriding the parameters from Reference Dataset.\n",
      "  warnings.warn('Overriding the parameters from Reference Dataset.')\n",
      "C:\\Users\\franc\\anaconda3\\lib\\site-packages\\lightgbm\\basic.py:1098: UserWarning: categorical_column in param dict is overridden.\n",
      "  warnings.warn('{} in param dict is overridden.'.format(cat_alias))\n",
      "[I 2020-09-06 22:49:35,615] Trial 3 finished with value: 0.41015716631480176 and parameters: {'lambda_l1': 0.08707721335078548, 'lambda_l2': 8.650315813834349e-08, 'num_leaves': 97, 'feature_fraction': 0.4630673750774855, 'bagging_fraction': 0.8247124472536425, 'bagging_freq': 5, 'min_child_samples': 49, 'scale_pos_weight': 9.183241494240479}. Best is trial 2 with value: 0.819962467745719.\n",
      "C:\\Users\\franc\\anaconda3\\lib\\site-packages\\lightgbm\\basic.py:1286: UserWarning: Overriding the parameters from Reference Dataset.\n",
      "  warnings.warn('Overriding the parameters from Reference Dataset.')\n",
      "C:\\Users\\franc\\anaconda3\\lib\\site-packages\\lightgbm\\basic.py:1098: UserWarning: categorical_column in param dict is overridden.\n",
      "  warnings.warn('{} in param dict is overridden.'.format(cat_alias))\n",
      "[I 2020-09-06 22:49:39,226] Trial 4 finished with value: 0.6617992024395966 and parameters: {'lambda_l1': 5.094577189992864e-07, 'lambda_l2': 1.6410832756462212e-06, 'num_leaves': 222, 'feature_fraction': 0.8572262490889404, 'bagging_fraction': 0.6599685742963965, 'bagging_freq': 1, 'min_child_samples': 48, 'scale_pos_weight': 4.671781219374867}. Best is trial 2 with value: 0.819962467745719.\n",
      "C:\\Users\\franc\\anaconda3\\lib\\site-packages\\lightgbm\\basic.py:1286: UserWarning: Overriding the parameters from Reference Dataset.\n",
      "  warnings.warn('Overriding the parameters from Reference Dataset.')\n",
      "C:\\Users\\franc\\anaconda3\\lib\\site-packages\\lightgbm\\basic.py:1098: UserWarning: categorical_column in param dict is overridden.\n",
      "  warnings.warn('{} in param dict is overridden.'.format(cat_alias))\n",
      "[I 2020-09-06 22:49:40,216] Trial 5 pruned. Trial was pruned at iteration 10.\n",
      "C:\\Users\\franc\\anaconda3\\lib\\site-packages\\lightgbm\\basic.py:1286: UserWarning: Overriding the parameters from Reference Dataset.\n",
      "  warnings.warn('Overriding the parameters from Reference Dataset.')\n",
      "C:\\Users\\franc\\anaconda3\\lib\\site-packages\\lightgbm\\basic.py:1098: UserWarning: categorical_column in param dict is overridden.\n",
      "  warnings.warn('{} in param dict is overridden.'.format(cat_alias))\n",
      "[I 2020-09-06 22:49:44,692] Trial 6 finished with value: 0.7848346235045742 and parameters: {'lambda_l1': 0.00012266555199337193, 'lambda_l2': 0.015613337065019538, 'num_leaves': 219, 'feature_fraction': 0.9693882441017863, 'bagging_fraction': 0.9138950625155674, 'bagging_freq': 5, 'min_child_samples': 52, 'scale_pos_weight': 2.0561214813960866}. Best is trial 2 with value: 0.819962467745719.\n",
      "C:\\Users\\franc\\anaconda3\\lib\\site-packages\\lightgbm\\basic.py:1286: UserWarning: Overriding the parameters from Reference Dataset.\n",
      "  warnings.warn('Overriding the parameters from Reference Dataset.')\n",
      "C:\\Users\\franc\\anaconda3\\lib\\site-packages\\lightgbm\\basic.py:1098: UserWarning: categorical_column in param dict is overridden.\n",
      "  warnings.warn('{} in param dict is overridden.'.format(cat_alias))\n",
      "[I 2020-09-06 22:49:45,659] Trial 7 pruned. Trial was pruned at iteration 10.\n",
      "C:\\Users\\franc\\anaconda3\\lib\\site-packages\\lightgbm\\basic.py:1286: UserWarning: Overriding the parameters from Reference Dataset.\n",
      "  warnings.warn('Overriding the parameters from Reference Dataset.')\n",
      "C:\\Users\\franc\\anaconda3\\lib\\site-packages\\lightgbm\\basic.py:1098: UserWarning: categorical_column in param dict is overridden.\n",
      "  warnings.warn('{} in param dict is overridden.'.format(cat_alias))\n",
      "[I 2020-09-06 22:49:46,585] Trial 8 pruned. Trial was pruned at iteration 10.\n",
      "C:\\Users\\franc\\anaconda3\\lib\\site-packages\\lightgbm\\basic.py:1286: UserWarning: Overriding the parameters from Reference Dataset.\n",
      "  warnings.warn('Overriding the parameters from Reference Dataset.')\n",
      "C:\\Users\\franc\\anaconda3\\lib\\site-packages\\lightgbm\\basic.py:1098: UserWarning: categorical_column in param dict is overridden.\n",
      "  warnings.warn('{} in param dict is overridden.'.format(cat_alias))\n",
      "[I 2020-09-06 22:49:47,668] Trial 9 pruned. Trial was pruned at iteration 10.\n",
      "C:\\Users\\franc\\anaconda3\\lib\\site-packages\\lightgbm\\basic.py:1286: UserWarning: Overriding the parameters from Reference Dataset.\n",
      "  warnings.warn('Overriding the parameters from Reference Dataset.')\n",
      "C:\\Users\\franc\\anaconda3\\lib\\site-packages\\lightgbm\\basic.py:1098: UserWarning: categorical_column in param dict is overridden.\n",
      "  warnings.warn('{} in param dict is overridden.'.format(cat_alias))\n",
      "[I 2020-09-06 22:49:49,038] Trial 10 pruned. Trial was pruned at iteration 10.\n",
      "C:\\Users\\franc\\anaconda3\\lib\\site-packages\\lightgbm\\basic.py:1286: UserWarning: Overriding the parameters from Reference Dataset.\n",
      "  warnings.warn('Overriding the parameters from Reference Dataset.')\n",
      "C:\\Users\\franc\\anaconda3\\lib\\site-packages\\lightgbm\\basic.py:1098: UserWarning: categorical_column in param dict is overridden.\n",
      "  warnings.warn('{} in param dict is overridden.'.format(cat_alias))\n",
      "[I 2020-09-06 22:49:50,258] Trial 11 pruned. Trial was pruned at iteration 10.\n",
      "C:\\Users\\franc\\anaconda3\\lib\\site-packages\\lightgbm\\basic.py:1286: UserWarning: Overriding the parameters from Reference Dataset.\n",
      "  warnings.warn('Overriding the parameters from Reference Dataset.')\n",
      "C:\\Users\\franc\\anaconda3\\lib\\site-packages\\lightgbm\\basic.py:1098: UserWarning: categorical_column in param dict is overridden.\n",
      "  warnings.warn('{} in param dict is overridden.'.format(cat_alias))\n"
     ]
    },
    {
     "name": "stderr",
     "output_type": "stream",
     "text": [
      "[I 2020-09-06 22:49:54,151] Trial 12 finished with value: 0.8060051606849636 and parameters: {'lambda_l1': 4.4364986825141774e-08, 'lambda_l2': 0.04703277617022609, 'num_leaves': 206, 'feature_fraction': 0.8555827392066546, 'bagging_fraction': 0.8563994312070949, 'bagging_freq': 3, 'min_child_samples': 28, 'scale_pos_weight': 1.612940561842359}. Best is trial 2 with value: 0.819962467745719.\n",
      "C:\\Users\\franc\\anaconda3\\lib\\site-packages\\lightgbm\\basic.py:1286: UserWarning: Overriding the parameters from Reference Dataset.\n",
      "  warnings.warn('Overriding the parameters from Reference Dataset.')\n",
      "C:\\Users\\franc\\anaconda3\\lib\\site-packages\\lightgbm\\basic.py:1098: UserWarning: categorical_column in param dict is overridden.\n",
      "  warnings.warn('{} in param dict is overridden.'.format(cat_alias))\n",
      "[I 2020-09-06 22:49:55,378] Trial 13 pruned. Trial was pruned at iteration 13.\n",
      "C:\\Users\\franc\\anaconda3\\lib\\site-packages\\lightgbm\\basic.py:1286: UserWarning: Overriding the parameters from Reference Dataset.\n",
      "  warnings.warn('Overriding the parameters from Reference Dataset.')\n",
      "C:\\Users\\franc\\anaconda3\\lib\\site-packages\\lightgbm\\basic.py:1098: UserWarning: categorical_column in param dict is overridden.\n",
      "  warnings.warn('{} in param dict is overridden.'.format(cat_alias))\n",
      "[I 2020-09-06 22:49:56,284] Trial 14 pruned. Trial was pruned at iteration 10.\n",
      "C:\\Users\\franc\\anaconda3\\lib\\site-packages\\lightgbm\\basic.py:1286: UserWarning: Overriding the parameters from Reference Dataset.\n",
      "  warnings.warn('Overriding the parameters from Reference Dataset.')\n",
      "C:\\Users\\franc\\anaconda3\\lib\\site-packages\\lightgbm\\basic.py:1098: UserWarning: categorical_column in param dict is overridden.\n",
      "  warnings.warn('{} in param dict is overridden.'.format(cat_alias))\n",
      "[I 2020-09-06 22:49:57,158] Trial 15 pruned. Trial was pruned at iteration 10.\n",
      "C:\\Users\\franc\\anaconda3\\lib\\site-packages\\lightgbm\\basic.py:1286: UserWarning: Overriding the parameters from Reference Dataset.\n",
      "  warnings.warn('Overriding the parameters from Reference Dataset.')\n",
      "C:\\Users\\franc\\anaconda3\\lib\\site-packages\\lightgbm\\basic.py:1098: UserWarning: categorical_column in param dict is overridden.\n",
      "  warnings.warn('{} in param dict is overridden.'.format(cat_alias))\n",
      "[I 2020-09-06 22:50:01,111] Trial 16 finished with value: 0.8138634764250527 and parameters: {'lambda_l1': 0.010448862933421366, 'lambda_l2': 5.830272847814875e-05, 'num_leaves': 182, 'feature_fraction': 0.7983514315189832, 'bagging_fraction': 0.9016653758841027, 'bagging_freq': 2, 'min_child_samples': 35, 'scale_pos_weight': 1.4896465589709824}. Best is trial 2 with value: 0.819962467745719.\n",
      "C:\\Users\\franc\\anaconda3\\lib\\site-packages\\lightgbm\\basic.py:1286: UserWarning: Overriding the parameters from Reference Dataset.\n",
      "  warnings.warn('Overriding the parameters from Reference Dataset.')\n",
      "C:\\Users\\franc\\anaconda3\\lib\\site-packages\\lightgbm\\basic.py:1098: UserWarning: categorical_column in param dict is overridden.\n",
      "  warnings.warn('{} in param dict is overridden.'.format(cat_alias))\n",
      "[I 2020-09-06 22:50:02,532] Trial 17 pruned. Trial was pruned at iteration 14.\n",
      "C:\\Users\\franc\\anaconda3\\lib\\site-packages\\lightgbm\\basic.py:1286: UserWarning: Overriding the parameters from Reference Dataset.\n",
      "  warnings.warn('Overriding the parameters from Reference Dataset.')\n",
      "C:\\Users\\franc\\anaconda3\\lib\\site-packages\\lightgbm\\basic.py:1098: UserWarning: categorical_column in param dict is overridden.\n",
      "  warnings.warn('{} in param dict is overridden.'.format(cat_alias))\n",
      "[I 2020-09-06 22:50:03,420] Trial 18 pruned. Trial was pruned at iteration 10.\n",
      "C:\\Users\\franc\\anaconda3\\lib\\site-packages\\lightgbm\\basic.py:1286: UserWarning: Overriding the parameters from Reference Dataset.\n",
      "  warnings.warn('Overriding the parameters from Reference Dataset.')\n",
      "C:\\Users\\franc\\anaconda3\\lib\\site-packages\\lightgbm\\basic.py:1098: UserWarning: categorical_column in param dict is overridden.\n",
      "  warnings.warn('{} in param dict is overridden.'.format(cat_alias))\n",
      "[I 2020-09-06 22:50:04,632] Trial 19 pruned. Trial was pruned at iteration 10.\n",
      "C:\\Users\\franc\\anaconda3\\lib\\site-packages\\lightgbm\\basic.py:1286: UserWarning: Overriding the parameters from Reference Dataset.\n",
      "  warnings.warn('Overriding the parameters from Reference Dataset.')\n",
      "C:\\Users\\franc\\anaconda3\\lib\\site-packages\\lightgbm\\basic.py:1098: UserWarning: categorical_column in param dict is overridden.\n",
      "  warnings.warn('{} in param dict is overridden.'.format(cat_alias))\n",
      "[I 2020-09-06 22:50:08,265] Trial 20 finished with value: 0.7683556181093127 and parameters: {'lambda_l1': 0.010339875956693204, 'lambda_l2': 0.0001929913135733987, 'num_leaves': 198, 'feature_fraction': 0.9143306318784934, 'bagging_fraction': 0.8928568004951558, 'bagging_freq': 1, 'min_child_samples': 18, 'scale_pos_weight': 2.6208869263831076}. Best is trial 2 with value: 0.819962467745719.\n",
      "C:\\Users\\franc\\anaconda3\\lib\\site-packages\\lightgbm\\basic.py:1286: UserWarning: Overriding the parameters from Reference Dataset.\n",
      "  warnings.warn('Overriding the parameters from Reference Dataset.')\n",
      "C:\\Users\\franc\\anaconda3\\lib\\site-packages\\lightgbm\\basic.py:1098: UserWarning: categorical_column in param dict is overridden.\n",
      "  warnings.warn('{} in param dict is overridden.'.format(cat_alias))\n",
      "[I 2020-09-06 22:50:09,552] Trial 21 pruned. Trial was pruned at iteration 10.\n",
      "C:\\Users\\franc\\anaconda3\\lib\\site-packages\\lightgbm\\basic.py:1286: UserWarning: Overriding the parameters from Reference Dataset.\n",
      "  warnings.warn('Overriding the parameters from Reference Dataset.')\n",
      "C:\\Users\\franc\\anaconda3\\lib\\site-packages\\lightgbm\\basic.py:1098: UserWarning: categorical_column in param dict is overridden.\n",
      "  warnings.warn('{} in param dict is overridden.'.format(cat_alias))\n",
      "[I 2020-09-06 22:50:13,879] Trial 22 finished with value: 0.8071193994839315 and parameters: {'lambda_l1': 0.0030241149493021595, 'lambda_l2': 0.22134967572160433, 'num_leaves': 166, 'feature_fraction': 0.7669963532568433, 'bagging_fraction': 0.8685056291133839, 'bagging_freq': 2, 'min_child_samples': 20, 'scale_pos_weight': 1.699845889255587}. Best is trial 2 with value: 0.819962467745719.\n",
      "C:\\Users\\franc\\anaconda3\\lib\\site-packages\\lightgbm\\basic.py:1286: UserWarning: Overriding the parameters from Reference Dataset.\n",
      "  warnings.warn('Overriding the parameters from Reference Dataset.')\n",
      "C:\\Users\\franc\\anaconda3\\lib\\site-packages\\lightgbm\\basic.py:1098: UserWarning: categorical_column in param dict is overridden.\n",
      "  warnings.warn('{} in param dict is overridden.'.format(cat_alias))\n",
      "[I 2020-09-06 22:50:14,879] Trial 23 pruned. Trial was pruned at iteration 10.\n",
      "C:\\Users\\franc\\anaconda3\\lib\\site-packages\\lightgbm\\basic.py:1286: UserWarning: Overriding the parameters from Reference Dataset.\n",
      "  warnings.warn('Overriding the parameters from Reference Dataset.')\n",
      "C:\\Users\\franc\\anaconda3\\lib\\site-packages\\lightgbm\\basic.py:1098: UserWarning: categorical_column in param dict is overridden.\n",
      "  warnings.warn('{} in param dict is overridden.'.format(cat_alias))\n",
      "[I 2020-09-06 22:50:15,917] Trial 24 pruned. Trial was pruned at iteration 10.\n",
      "C:\\Users\\franc\\anaconda3\\lib\\site-packages\\lightgbm\\basic.py:1286: UserWarning: Overriding the parameters from Reference Dataset.\n",
      "  warnings.warn('Overriding the parameters from Reference Dataset.')\n",
      "C:\\Users\\franc\\anaconda3\\lib\\site-packages\\lightgbm\\basic.py:1098: UserWarning: categorical_column in param dict is overridden.\n",
      "  warnings.warn('{} in param dict is overridden.'.format(cat_alias))\n",
      "[I 2020-09-06 22:50:16,854] Trial 25 pruned. Trial was pruned at iteration 10.\n",
      "C:\\Users\\franc\\anaconda3\\lib\\site-packages\\lightgbm\\basic.py:1286: UserWarning: Overriding the parameters from Reference Dataset.\n",
      "  warnings.warn('Overriding the parameters from Reference Dataset.')\n",
      "C:\\Users\\franc\\anaconda3\\lib\\site-packages\\lightgbm\\basic.py:1098: UserWarning: categorical_column in param dict is overridden.\n",
      "  warnings.warn('{} in param dict is overridden.'.format(cat_alias))\n",
      "[I 2020-09-06 22:50:18,117] Trial 26 pruned. Trial was pruned at iteration 14.\n",
      "C:\\Users\\franc\\anaconda3\\lib\\site-packages\\lightgbm\\basic.py:1286: UserWarning: Overriding the parameters from Reference Dataset.\n",
      "  warnings.warn('Overriding the parameters from Reference Dataset.')\n"
     ]
    },
    {
     "name": "stderr",
     "output_type": "stream",
     "text": [
      "C:\\Users\\franc\\anaconda3\\lib\\site-packages\\lightgbm\\basic.py:1098: UserWarning: categorical_column in param dict is overridden.\n",
      "  warnings.warn('{} in param dict is overridden.'.format(cat_alias))\n",
      "[I 2020-09-06 22:50:19,239] Trial 27 pruned. Trial was pruned at iteration 10.\n",
      "C:\\Users\\franc\\anaconda3\\lib\\site-packages\\lightgbm\\basic.py:1286: UserWarning: Overriding the parameters from Reference Dataset.\n",
      "  warnings.warn('Overriding the parameters from Reference Dataset.')\n",
      "C:\\Users\\franc\\anaconda3\\lib\\site-packages\\lightgbm\\basic.py:1098: UserWarning: categorical_column in param dict is overridden.\n",
      "  warnings.warn('{} in param dict is overridden.'.format(cat_alias))\n",
      "[I 2020-09-06 22:50:20,363] Trial 28 pruned. Trial was pruned at iteration 10.\n",
      "C:\\Users\\franc\\anaconda3\\lib\\site-packages\\lightgbm\\basic.py:1286: UserWarning: Overriding the parameters from Reference Dataset.\n",
      "  warnings.warn('Overriding the parameters from Reference Dataset.')\n",
      "C:\\Users\\franc\\anaconda3\\lib\\site-packages\\lightgbm\\basic.py:1098: UserWarning: categorical_column in param dict is overridden.\n",
      "  warnings.warn('{} in param dict is overridden.'.format(cat_alias))\n",
      "[I 2020-09-06 22:50:21,223] Trial 29 pruned. Trial was pruned at iteration 10.\n",
      "C:\\Users\\franc\\anaconda3\\lib\\site-packages\\lightgbm\\basic.py:1286: UserWarning: Overriding the parameters from Reference Dataset.\n",
      "  warnings.warn('Overriding the parameters from Reference Dataset.')\n",
      "C:\\Users\\franc\\anaconda3\\lib\\site-packages\\lightgbm\\basic.py:1098: UserWarning: categorical_column in param dict is overridden.\n",
      "  warnings.warn('{} in param dict is overridden.'.format(cat_alias))\n",
      "[I 2020-09-06 22:50:21,976] Trial 30 pruned. Trial was pruned at iteration 10.\n",
      "C:\\Users\\franc\\anaconda3\\lib\\site-packages\\lightgbm\\basic.py:1286: UserWarning: Overriding the parameters from Reference Dataset.\n",
      "  warnings.warn('Overriding the parameters from Reference Dataset.')\n",
      "C:\\Users\\franc\\anaconda3\\lib\\site-packages\\lightgbm\\basic.py:1098: UserWarning: categorical_column in param dict is overridden.\n",
      "  warnings.warn('{} in param dict is overridden.'.format(cat_alias))\n",
      "[I 2020-09-06 22:50:23,120] Trial 31 pruned. Trial was pruned at iteration 11.\n",
      "C:\\Users\\franc\\anaconda3\\lib\\site-packages\\lightgbm\\basic.py:1286: UserWarning: Overriding the parameters from Reference Dataset.\n",
      "  warnings.warn('Overriding the parameters from Reference Dataset.')\n",
      "C:\\Users\\franc\\anaconda3\\lib\\site-packages\\lightgbm\\basic.py:1098: UserWarning: categorical_column in param dict is overridden.\n",
      "  warnings.warn('{} in param dict is overridden.'.format(cat_alias))\n",
      "[I 2020-09-06 22:50:24,467] Trial 32 pruned. Trial was pruned at iteration 10.\n",
      "C:\\Users\\franc\\anaconda3\\lib\\site-packages\\lightgbm\\basic.py:1286: UserWarning: Overriding the parameters from Reference Dataset.\n",
      "  warnings.warn('Overriding the parameters from Reference Dataset.')\n",
      "C:\\Users\\franc\\anaconda3\\lib\\site-packages\\lightgbm\\basic.py:1098: UserWarning: categorical_column in param dict is overridden.\n",
      "  warnings.warn('{} in param dict is overridden.'.format(cat_alias))\n",
      "[I 2020-09-06 22:50:25,867] Trial 33 pruned. Trial was pruned at iteration 20.\n",
      "C:\\Users\\franc\\anaconda3\\lib\\site-packages\\lightgbm\\basic.py:1286: UserWarning: Overriding the parameters from Reference Dataset.\n",
      "  warnings.warn('Overriding the parameters from Reference Dataset.')\n",
      "C:\\Users\\franc\\anaconda3\\lib\\site-packages\\lightgbm\\basic.py:1098: UserWarning: categorical_column in param dict is overridden.\n",
      "  warnings.warn('{} in param dict is overridden.'.format(cat_alias))\n",
      "[I 2020-09-06 22:50:28,829] Trial 34 finished with value: 0.8223082336382829 and parameters: {'lambda_l1': 0.007768597359425839, 'lambda_l2': 6.477864724296791, 'num_leaves': 197, 'feature_fraction': 0.828943881702894, 'bagging_fraction': 0.6613682348688841, 'bagging_freq': 2, 'min_child_samples': 14, 'scale_pos_weight': 0.7477251495115637}. Best is trial 34 with value: 0.8223082336382829.\n",
      "C:\\Users\\franc\\anaconda3\\lib\\site-packages\\lightgbm\\basic.py:1286: UserWarning: Overriding the parameters from Reference Dataset.\n",
      "  warnings.warn('Overriding the parameters from Reference Dataset.')\n",
      "C:\\Users\\franc\\anaconda3\\lib\\site-packages\\lightgbm\\basic.py:1098: UserWarning: categorical_column in param dict is overridden.\n",
      "  warnings.warn('{} in param dict is overridden.'.format(cat_alias))\n",
      "[I 2020-09-06 22:50:29,700] Trial 35 pruned. Trial was pruned at iteration 10.\n",
      "C:\\Users\\franc\\anaconda3\\lib\\site-packages\\lightgbm\\basic.py:1286: UserWarning: Overriding the parameters from Reference Dataset.\n",
      "  warnings.warn('Overriding the parameters from Reference Dataset.')\n",
      "C:\\Users\\franc\\anaconda3\\lib\\site-packages\\lightgbm\\basic.py:1098: UserWarning: categorical_column in param dict is overridden.\n",
      "  warnings.warn('{} in param dict is overridden.'.format(cat_alias))\n",
      "[I 2020-09-06 22:50:30,589] Trial 36 pruned. Trial was pruned at iteration 10.\n",
      "C:\\Users\\franc\\anaconda3\\lib\\site-packages\\lightgbm\\basic.py:1286: UserWarning: Overriding the parameters from Reference Dataset.\n",
      "  warnings.warn('Overriding the parameters from Reference Dataset.')\n",
      "C:\\Users\\franc\\anaconda3\\lib\\site-packages\\lightgbm\\basic.py:1098: UserWarning: categorical_column in param dict is overridden.\n",
      "  warnings.warn('{} in param dict is overridden.'.format(cat_alias))\n",
      "[I 2020-09-06 22:50:31,607] Trial 37 pruned. Trial was pruned at iteration 10.\n",
      "C:\\Users\\franc\\anaconda3\\lib\\site-packages\\lightgbm\\basic.py:1286: UserWarning: Overriding the parameters from Reference Dataset.\n",
      "  warnings.warn('Overriding the parameters from Reference Dataset.')\n",
      "C:\\Users\\franc\\anaconda3\\lib\\site-packages\\lightgbm\\basic.py:1098: UserWarning: categorical_column in param dict is overridden.\n",
      "  warnings.warn('{} in param dict is overridden.'.format(cat_alias))\n",
      "[I 2020-09-06 22:50:32,825] Trial 38 pruned. Trial was pruned at iteration 15.\n",
      "C:\\Users\\franc\\anaconda3\\lib\\site-packages\\lightgbm\\basic.py:1286: UserWarning: Overriding the parameters from Reference Dataset.\n",
      "  warnings.warn('Overriding the parameters from Reference Dataset.')\n",
      "C:\\Users\\franc\\anaconda3\\lib\\site-packages\\lightgbm\\basic.py:1098: UserWarning: categorical_column in param dict is overridden.\n",
      "  warnings.warn('{} in param dict is overridden.'.format(cat_alias))\n",
      "[I 2020-09-06 22:50:33,743] Trial 39 pruned. Trial was pruned at iteration 10.\n",
      "C:\\Users\\franc\\anaconda3\\lib\\site-packages\\lightgbm\\basic.py:1286: UserWarning: Overriding the parameters from Reference Dataset.\n",
      "  warnings.warn('Overriding the parameters from Reference Dataset.')\n",
      "C:\\Users\\franc\\anaconda3\\lib\\site-packages\\lightgbm\\basic.py:1098: UserWarning: categorical_column in param dict is overridden.\n",
      "  warnings.warn('{} in param dict is overridden.'.format(cat_alias))\n",
      "[I 2020-09-06 22:50:34,688] Trial 40 pruned. Trial was pruned at iteration 10.\n",
      "C:\\Users\\franc\\anaconda3\\lib\\site-packages\\lightgbm\\basic.py:1286: UserWarning: Overriding the parameters from Reference Dataset.\n",
      "  warnings.warn('Overriding the parameters from Reference Dataset.')\n",
      "C:\\Users\\franc\\anaconda3\\lib\\site-packages\\lightgbm\\basic.py:1098: UserWarning: categorical_column in param dict is overridden.\n",
      "  warnings.warn('{} in param dict is overridden.'.format(cat_alias))\n",
      "[I 2020-09-06 22:50:35,843] Trial 41 pruned. Trial was pruned at iteration 10.\n",
      "C:\\Users\\franc\\anaconda3\\lib\\site-packages\\lightgbm\\basic.py:1286: UserWarning: Overriding the parameters from Reference Dataset.\n",
      "  warnings.warn('Overriding the parameters from Reference Dataset.')\n",
      "C:\\Users\\franc\\anaconda3\\lib\\site-packages\\lightgbm\\basic.py:1098: UserWarning: categorical_column in param dict is overridden.\n",
      "  warnings.warn('{} in param dict is overridden.'.format(cat_alias))\n",
      "[I 2020-09-06 22:50:36,855] Trial 42 pruned. Trial was pruned at iteration 10.\n",
      "C:\\Users\\franc\\anaconda3\\lib\\site-packages\\lightgbm\\basic.py:1286: UserWarning: Overriding the parameters from Reference Dataset.\n",
      "  warnings.warn('Overriding the parameters from Reference Dataset.')\n",
      "C:\\Users\\franc\\anaconda3\\lib\\site-packages\\lightgbm\\basic.py:1098: UserWarning: categorical_column in param dict is overridden.\n",
      "  warnings.warn('{} in param dict is overridden.'.format(cat_alias))\n",
      "[I 2020-09-06 22:50:37,988] Trial 43 pruned. Trial was pruned at iteration 15.\n",
      "C:\\Users\\franc\\anaconda3\\lib\\site-packages\\lightgbm\\basic.py:1286: UserWarning: Overriding the parameters from Reference Dataset.\n",
      "  warnings.warn('Overriding the parameters from Reference Dataset.')\n"
     ]
    },
    {
     "name": "stderr",
     "output_type": "stream",
     "text": [
      "C:\\Users\\franc\\anaconda3\\lib\\site-packages\\lightgbm\\basic.py:1098: UserWarning: categorical_column in param dict is overridden.\n",
      "  warnings.warn('{} in param dict is overridden.'.format(cat_alias))\n",
      "[I 2020-09-06 22:50:39,043] Trial 44 pruned. Trial was pruned at iteration 10.\n",
      "C:\\Users\\franc\\anaconda3\\lib\\site-packages\\lightgbm\\basic.py:1286: UserWarning: Overriding the parameters from Reference Dataset.\n",
      "  warnings.warn('Overriding the parameters from Reference Dataset.')\n",
      "C:\\Users\\franc\\anaconda3\\lib\\site-packages\\lightgbm\\basic.py:1098: UserWarning: categorical_column in param dict is overridden.\n",
      "  warnings.warn('{} in param dict is overridden.'.format(cat_alias))\n",
      "[I 2020-09-06 22:50:40,001] Trial 45 pruned. Trial was pruned at iteration 10.\n",
      "C:\\Users\\franc\\anaconda3\\lib\\site-packages\\lightgbm\\basic.py:1286: UserWarning: Overriding the parameters from Reference Dataset.\n",
      "  warnings.warn('Overriding the parameters from Reference Dataset.')\n",
      "C:\\Users\\franc\\anaconda3\\lib\\site-packages\\lightgbm\\basic.py:1098: UserWarning: categorical_column in param dict is overridden.\n",
      "  warnings.warn('{} in param dict is overridden.'.format(cat_alias))\n",
      "[I 2020-09-06 22:50:41,257] Trial 46 pruned. Trial was pruned at iteration 11.\n",
      "C:\\Users\\franc\\anaconda3\\lib\\site-packages\\lightgbm\\basic.py:1286: UserWarning: Overriding the parameters from Reference Dataset.\n",
      "  warnings.warn('Overriding the parameters from Reference Dataset.')\n",
      "C:\\Users\\franc\\anaconda3\\lib\\site-packages\\lightgbm\\basic.py:1098: UserWarning: categorical_column in param dict is overridden.\n",
      "  warnings.warn('{} in param dict is overridden.'.format(cat_alias))\n",
      "[I 2020-09-06 22:50:42,231] Trial 47 pruned. Trial was pruned at iteration 10.\n",
      "C:\\Users\\franc\\anaconda3\\lib\\site-packages\\lightgbm\\basic.py:1286: UserWarning: Overriding the parameters from Reference Dataset.\n",
      "  warnings.warn('Overriding the parameters from Reference Dataset.')\n",
      "C:\\Users\\franc\\anaconda3\\lib\\site-packages\\lightgbm\\basic.py:1098: UserWarning: categorical_column in param dict is overridden.\n",
      "  warnings.warn('{} in param dict is overridden.'.format(cat_alias))\n",
      "[I 2020-09-06 22:50:43,428] Trial 48 pruned. Trial was pruned at iteration 10.\n",
      "C:\\Users\\franc\\anaconda3\\lib\\site-packages\\lightgbm\\basic.py:1286: UserWarning: Overriding the parameters from Reference Dataset.\n",
      "  warnings.warn('Overriding the parameters from Reference Dataset.')\n",
      "C:\\Users\\franc\\anaconda3\\lib\\site-packages\\lightgbm\\basic.py:1098: UserWarning: categorical_column in param dict is overridden.\n",
      "  warnings.warn('{} in param dict is overridden.'.format(cat_alias))\n",
      "[I 2020-09-06 22:50:44,555] Trial 49 pruned. Trial was pruned at iteration 10.\n",
      "C:\\Users\\franc\\anaconda3\\lib\\site-packages\\lightgbm\\basic.py:1286: UserWarning: Overriding the parameters from Reference Dataset.\n",
      "  warnings.warn('Overriding the parameters from Reference Dataset.')\n",
      "C:\\Users\\franc\\anaconda3\\lib\\site-packages\\lightgbm\\basic.py:1098: UserWarning: categorical_column in param dict is overridden.\n",
      "  warnings.warn('{} in param dict is overridden.'.format(cat_alias))\n",
      "[I 2020-09-06 22:50:45,296] Trial 50 pruned. Trial was pruned at iteration 10.\n",
      "C:\\Users\\franc\\anaconda3\\lib\\site-packages\\lightgbm\\basic.py:1286: UserWarning: Overriding the parameters from Reference Dataset.\n",
      "  warnings.warn('Overriding the parameters from Reference Dataset.')\n",
      "C:\\Users\\franc\\anaconda3\\lib\\site-packages\\lightgbm\\basic.py:1098: UserWarning: categorical_column in param dict is overridden.\n",
      "  warnings.warn('{} in param dict is overridden.'.format(cat_alias))\n",
      "[I 2020-09-06 22:50:46,274] Trial 51 pruned. Trial was pruned at iteration 10.\n",
      "C:\\Users\\franc\\anaconda3\\lib\\site-packages\\lightgbm\\basic.py:1286: UserWarning: Overriding the parameters from Reference Dataset.\n",
      "  warnings.warn('Overriding the parameters from Reference Dataset.')\n",
      "C:\\Users\\franc\\anaconda3\\lib\\site-packages\\lightgbm\\basic.py:1098: UserWarning: categorical_column in param dict is overridden.\n",
      "  warnings.warn('{} in param dict is overridden.'.format(cat_alias))\n",
      "[I 2020-09-06 22:50:47,282] Trial 52 pruned. Trial was pruned at iteration 10.\n",
      "C:\\Users\\franc\\anaconda3\\lib\\site-packages\\lightgbm\\basic.py:1286: UserWarning: Overriding the parameters from Reference Dataset.\n",
      "  warnings.warn('Overriding the parameters from Reference Dataset.')\n",
      "C:\\Users\\franc\\anaconda3\\lib\\site-packages\\lightgbm\\basic.py:1098: UserWarning: categorical_column in param dict is overridden.\n",
      "  warnings.warn('{} in param dict is overridden.'.format(cat_alias))\n",
      "[I 2020-09-06 22:50:48,223] Trial 53 pruned. Trial was pruned at iteration 10.\n",
      "C:\\Users\\franc\\anaconda3\\lib\\site-packages\\lightgbm\\basic.py:1286: UserWarning: Overriding the parameters from Reference Dataset.\n",
      "  warnings.warn('Overriding the parameters from Reference Dataset.')\n",
      "C:\\Users\\franc\\anaconda3\\lib\\site-packages\\lightgbm\\basic.py:1098: UserWarning: categorical_column in param dict is overridden.\n",
      "  warnings.warn('{} in param dict is overridden.'.format(cat_alias))\n",
      "[I 2020-09-06 22:50:49,536] Trial 54 pruned. Trial was pruned at iteration 10.\n",
      "C:\\Users\\franc\\anaconda3\\lib\\site-packages\\lightgbm\\basic.py:1286: UserWarning: Overriding the parameters from Reference Dataset.\n",
      "  warnings.warn('Overriding the parameters from Reference Dataset.')\n",
      "C:\\Users\\franc\\anaconda3\\lib\\site-packages\\lightgbm\\basic.py:1098: UserWarning: categorical_column in param dict is overridden.\n",
      "  warnings.warn('{} in param dict is overridden.'.format(cat_alias))\n",
      "[I 2020-09-06 22:50:50,582] Trial 55 pruned. Trial was pruned at iteration 15.\n",
      "C:\\Users\\franc\\anaconda3\\lib\\site-packages\\lightgbm\\basic.py:1286: UserWarning: Overriding the parameters from Reference Dataset.\n",
      "  warnings.warn('Overriding the parameters from Reference Dataset.')\n",
      "C:\\Users\\franc\\anaconda3\\lib\\site-packages\\lightgbm\\basic.py:1098: UserWarning: categorical_column in param dict is overridden.\n",
      "  warnings.warn('{} in param dict is overridden.'.format(cat_alias))\n",
      "[I 2020-09-06 22:50:51,683] Trial 56 pruned. Trial was pruned at iteration 10.\n",
      "C:\\Users\\franc\\anaconda3\\lib\\site-packages\\lightgbm\\basic.py:1286: UserWarning: Overriding the parameters from Reference Dataset.\n",
      "  warnings.warn('Overriding the parameters from Reference Dataset.')\n",
      "C:\\Users\\franc\\anaconda3\\lib\\site-packages\\lightgbm\\basic.py:1098: UserWarning: categorical_column in param dict is overridden.\n",
      "  warnings.warn('{} in param dict is overridden.'.format(cat_alias))\n",
      "[I 2020-09-06 22:50:52,736] Trial 57 pruned. Trial was pruned at iteration 10.\n",
      "C:\\Users\\franc\\anaconda3\\lib\\site-packages\\lightgbm\\basic.py:1286: UserWarning: Overriding the parameters from Reference Dataset.\n",
      "  warnings.warn('Overriding the parameters from Reference Dataset.')\n",
      "C:\\Users\\franc\\anaconda3\\lib\\site-packages\\lightgbm\\basic.py:1098: UserWarning: categorical_column in param dict is overridden.\n",
      "  warnings.warn('{} in param dict is overridden.'.format(cat_alias))\n",
      "[I 2020-09-06 22:50:53,722] Trial 58 pruned. Trial was pruned at iteration 10.\n",
      "C:\\Users\\franc\\anaconda3\\lib\\site-packages\\lightgbm\\basic.py:1286: UserWarning: Overriding the parameters from Reference Dataset.\n",
      "  warnings.warn('Overriding the parameters from Reference Dataset.')\n",
      "C:\\Users\\franc\\anaconda3\\lib\\site-packages\\lightgbm\\basic.py:1098: UserWarning: categorical_column in param dict is overridden.\n",
      "  warnings.warn('{} in param dict is overridden.'.format(cat_alias))\n",
      "[I 2020-09-06 22:50:57,090] Trial 59 finished with value: 0.8180272108843537 and parameters: {'lambda_l1': 0.0021369082110670803, 'lambda_l2': 0.3605324131131645, 'num_leaves': 203, 'feature_fraction': 0.8579801490740394, 'bagging_fraction': 0.9218915797751834, 'bagging_freq': 2, 'min_child_samples': 21, 'scale_pos_weight': 1.2031442557715173}. Best is trial 34 with value: 0.8223082336382829.\n",
      "C:\\Users\\franc\\anaconda3\\lib\\site-packages\\lightgbm\\basic.py:1286: UserWarning: Overriding the parameters from Reference Dataset.\n",
      "  warnings.warn('Overriding the parameters from Reference Dataset.')\n",
      "C:\\Users\\franc\\anaconda3\\lib\\site-packages\\lightgbm\\basic.py:1098: UserWarning: categorical_column in param dict is overridden.\n",
      "  warnings.warn('{} in param dict is overridden.'.format(cat_alias))\n",
      "[I 2020-09-06 22:50:57,928] Trial 60 pruned. Trial was pruned at iteration 10.\n"
     ]
    },
    {
     "name": "stderr",
     "output_type": "stream",
     "text": [
      "C:\\Users\\franc\\anaconda3\\lib\\site-packages\\lightgbm\\basic.py:1286: UserWarning: Overriding the parameters from Reference Dataset.\n",
      "  warnings.warn('Overriding the parameters from Reference Dataset.')\n",
      "C:\\Users\\franc\\anaconda3\\lib\\site-packages\\lightgbm\\basic.py:1098: UserWarning: categorical_column in param dict is overridden.\n",
      "  warnings.warn('{} in param dict is overridden.'.format(cat_alias))\n",
      "[I 2020-09-06 22:50:59,071] Trial 61 pruned. Trial was pruned at iteration 17.\n",
      "C:\\Users\\franc\\anaconda3\\lib\\site-packages\\lightgbm\\basic.py:1286: UserWarning: Overriding the parameters from Reference Dataset.\n",
      "  warnings.warn('Overriding the parameters from Reference Dataset.')\n",
      "C:\\Users\\franc\\anaconda3\\lib\\site-packages\\lightgbm\\basic.py:1098: UserWarning: categorical_column in param dict is overridden.\n",
      "  warnings.warn('{} in param dict is overridden.'.format(cat_alias))\n",
      "[I 2020-09-06 22:50:59,955] Trial 62 pruned. Trial was pruned at iteration 10.\n",
      "C:\\Users\\franc\\anaconda3\\lib\\site-packages\\lightgbm\\basic.py:1286: UserWarning: Overriding the parameters from Reference Dataset.\n",
      "  warnings.warn('Overriding the parameters from Reference Dataset.')\n",
      "C:\\Users\\franc\\anaconda3\\lib\\site-packages\\lightgbm\\basic.py:1098: UserWarning: categorical_column in param dict is overridden.\n",
      "  warnings.warn('{} in param dict is overridden.'.format(cat_alias))\n",
      "[I 2020-09-06 22:51:00,875] Trial 63 pruned. Trial was pruned at iteration 10.\n",
      "C:\\Users\\franc\\anaconda3\\lib\\site-packages\\lightgbm\\basic.py:1286: UserWarning: Overriding the parameters from Reference Dataset.\n",
      "  warnings.warn('Overriding the parameters from Reference Dataset.')\n",
      "C:\\Users\\franc\\anaconda3\\lib\\site-packages\\lightgbm\\basic.py:1098: UserWarning: categorical_column in param dict is overridden.\n",
      "  warnings.warn('{} in param dict is overridden.'.format(cat_alias))\n",
      "[I 2020-09-06 22:51:04,398] Trial 64 finished with value: 0.8162678864649308 and parameters: {'lambda_l1': 0.0007074170218765009, 'lambda_l2': 0.06914272508051539, 'num_leaves': 229, 'feature_fraction': 0.8099116699521659, 'bagging_fraction': 0.9236810144794291, 'bagging_freq': 3, 'min_child_samples': 19, 'scale_pos_weight': 1.377628466115194}. Best is trial 34 with value: 0.8223082336382829.\n",
      "C:\\Users\\franc\\anaconda3\\lib\\site-packages\\lightgbm\\basic.py:1286: UserWarning: Overriding the parameters from Reference Dataset.\n",
      "  warnings.warn('Overriding the parameters from Reference Dataset.')\n",
      "C:\\Users\\franc\\anaconda3\\lib\\site-packages\\lightgbm\\basic.py:1098: UserWarning: categorical_column in param dict is overridden.\n",
      "  warnings.warn('{} in param dict is overridden.'.format(cat_alias))\n",
      "[I 2020-09-06 22:51:08,849] Trial 65 finished with value: 0.8190241613886934 and parameters: {'lambda_l1': 0.0005929043673669768, 'lambda_l2': 1.0997701603986247, 'num_leaves': 229, 'feature_fraction': 0.8184482265182768, 'bagging_fraction': 0.9297656800778208, 'bagging_freq': 3, 'min_child_samples': 16, 'scale_pos_weight': 1.2124218077789108}. Best is trial 34 with value: 0.8223082336382829.\n",
      "C:\\Users\\franc\\anaconda3\\lib\\site-packages\\lightgbm\\basic.py:1286: UserWarning: Overriding the parameters from Reference Dataset.\n",
      "  warnings.warn('Overriding the parameters from Reference Dataset.')\n",
      "C:\\Users\\franc\\anaconda3\\lib\\site-packages\\lightgbm\\basic.py:1098: UserWarning: categorical_column in param dict is overridden.\n",
      "  warnings.warn('{} in param dict is overridden.'.format(cat_alias))\n",
      "[I 2020-09-06 22:51:12,908] Trial 66 finished with value: 0.8186722965048088 and parameters: {'lambda_l1': 0.0006430076517628345, 'lambda_l2': 1.5549459664243745, 'num_leaves': 226, 'feature_fraction': 0.8130925326112377, 'bagging_fraction': 0.9828178256911996, 'bagging_freq': 1, 'min_child_samples': 19, 'scale_pos_weight': 1.2932231915325818}. Best is trial 34 with value: 0.8223082336382829.\n",
      "C:\\Users\\franc\\anaconda3\\lib\\site-packages\\lightgbm\\basic.py:1286: UserWarning: Overriding the parameters from Reference Dataset.\n",
      "  warnings.warn('Overriding the parameters from Reference Dataset.')\n",
      "C:\\Users\\franc\\anaconda3\\lib\\site-packages\\lightgbm\\basic.py:1098: UserWarning: categorical_column in param dict is overridden.\n",
      "  warnings.warn('{} in param dict is overridden.'.format(cat_alias))\n",
      "[I 2020-09-06 22:51:13,883] Trial 67 pruned. Trial was pruned at iteration 10.\n",
      "C:\\Users\\franc\\anaconda3\\lib\\site-packages\\lightgbm\\basic.py:1286: UserWarning: Overriding the parameters from Reference Dataset.\n",
      "  warnings.warn('Overriding the parameters from Reference Dataset.')\n",
      "C:\\Users\\franc\\anaconda3\\lib\\site-packages\\lightgbm\\basic.py:1098: UserWarning: categorical_column in param dict is overridden.\n",
      "  warnings.warn('{} in param dict is overridden.'.format(cat_alias))\n",
      "[I 2020-09-06 22:51:17,656] Trial 68 finished with value: 0.816385174759559 and parameters: {'lambda_l1': 4.3008381325236055e-05, 'lambda_l2': 1.3824090396569961, 'num_leaves': 241, 'feature_fraction': 0.8202321845481149, 'bagging_fraction': 0.93790332664829, 'bagging_freq': 1, 'min_child_samples': 17, 'scale_pos_weight': 1.3322587206726306}. Best is trial 34 with value: 0.8223082336382829.\n",
      "C:\\Users\\franc\\anaconda3\\lib\\site-packages\\lightgbm\\basic.py:1286: UserWarning: Overriding the parameters from Reference Dataset.\n",
      "  warnings.warn('Overriding the parameters from Reference Dataset.')\n",
      "C:\\Users\\franc\\anaconda3\\lib\\site-packages\\lightgbm\\basic.py:1098: UserWarning: categorical_column in param dict is overridden.\n",
      "  warnings.warn('{} in param dict is overridden.'.format(cat_alias))\n",
      "[I 2020-09-06 22:51:18,581] Trial 69 pruned. Trial was pruned at iteration 10.\n",
      "C:\\Users\\franc\\anaconda3\\lib\\site-packages\\lightgbm\\basic.py:1286: UserWarning: Overriding the parameters from Reference Dataset.\n",
      "  warnings.warn('Overriding the parameters from Reference Dataset.')\n",
      "C:\\Users\\franc\\anaconda3\\lib\\site-packages\\lightgbm\\basic.py:1098: UserWarning: categorical_column in param dict is overridden.\n",
      "  warnings.warn('{} in param dict is overridden.'.format(cat_alias))\n",
      "[I 2020-09-06 22:51:19,682] Trial 70 pruned. Trial was pruned at iteration 10.\n",
      "C:\\Users\\franc\\anaconda3\\lib\\site-packages\\lightgbm\\basic.py:1286: UserWarning: Overriding the parameters from Reference Dataset.\n",
      "  warnings.warn('Overriding the parameters from Reference Dataset.')\n",
      "C:\\Users\\franc\\anaconda3\\lib\\site-packages\\lightgbm\\basic.py:1098: UserWarning: categorical_column in param dict is overridden.\n",
      "  warnings.warn('{} in param dict is overridden.'.format(cat_alias))\n",
      "[I 2020-09-06 22:51:20,532] Trial 71 pruned. Trial was pruned at iteration 10.\n",
      "C:\\Users\\franc\\anaconda3\\lib\\site-packages\\lightgbm\\basic.py:1286: UserWarning: Overriding the parameters from Reference Dataset.\n",
      "  warnings.warn('Overriding the parameters from Reference Dataset.')\n",
      "C:\\Users\\franc\\anaconda3\\lib\\site-packages\\lightgbm\\basic.py:1098: UserWarning: categorical_column in param dict is overridden.\n",
      "  warnings.warn('{} in param dict is overridden.'.format(cat_alias))\n",
      "[I 2020-09-06 22:51:21,560] Trial 72 pruned. Trial was pruned at iteration 10.\n",
      "C:\\Users\\franc\\anaconda3\\lib\\site-packages\\lightgbm\\basic.py:1286: UserWarning: Overriding the parameters from Reference Dataset.\n",
      "  warnings.warn('Overriding the parameters from Reference Dataset.')\n",
      "C:\\Users\\franc\\anaconda3\\lib\\site-packages\\lightgbm\\basic.py:1098: UserWarning: categorical_column in param dict is overridden.\n",
      "  warnings.warn('{} in param dict is overridden.'.format(cat_alias))\n",
      "[I 2020-09-06 22:51:22,737] Trial 73 pruned. Trial was pruned at iteration 10.\n",
      "C:\\Users\\franc\\anaconda3\\lib\\site-packages\\lightgbm\\basic.py:1286: UserWarning: Overriding the parameters from Reference Dataset.\n",
      "  warnings.warn('Overriding the parameters from Reference Dataset.')\n",
      "C:\\Users\\franc\\anaconda3\\lib\\site-packages\\lightgbm\\basic.py:1098: UserWarning: categorical_column in param dict is overridden.\n",
      "  warnings.warn('{} in param dict is overridden.'.format(cat_alias))\n",
      "[I 2020-09-06 22:51:23,631] Trial 74 pruned. Trial was pruned at iteration 10.\n",
      "C:\\Users\\franc\\anaconda3\\lib\\site-packages\\lightgbm\\basic.py:1286: UserWarning: Overriding the parameters from Reference Dataset.\n",
      "  warnings.warn('Overriding the parameters from Reference Dataset.')\n",
      "C:\\Users\\franc\\anaconda3\\lib\\site-packages\\lightgbm\\basic.py:1098: UserWarning: categorical_column in param dict is overridden.\n",
      "  warnings.warn('{} in param dict is overridden.'.format(cat_alias))\n"
     ]
    },
    {
     "name": "stderr",
     "output_type": "stream",
     "text": [
      "[I 2020-09-06 22:51:24,550] Trial 75 pruned. Trial was pruned at iteration 10.\n",
      "C:\\Users\\franc\\anaconda3\\lib\\site-packages\\lightgbm\\basic.py:1286: UserWarning: Overriding the parameters from Reference Dataset.\n",
      "  warnings.warn('Overriding the parameters from Reference Dataset.')\n",
      "C:\\Users\\franc\\anaconda3\\lib\\site-packages\\lightgbm\\basic.py:1098: UserWarning: categorical_column in param dict is overridden.\n",
      "  warnings.warn('{} in param dict is overridden.'.format(cat_alias))\n",
      "[I 2020-09-06 22:51:25,502] Trial 76 pruned. Trial was pruned at iteration 10.\n",
      "C:\\Users\\franc\\anaconda3\\lib\\site-packages\\lightgbm\\basic.py:1286: UserWarning: Overriding the parameters from Reference Dataset.\n",
      "  warnings.warn('Overriding the parameters from Reference Dataset.')\n",
      "C:\\Users\\franc\\anaconda3\\lib\\site-packages\\lightgbm\\basic.py:1098: UserWarning: categorical_column in param dict is overridden.\n",
      "  warnings.warn('{} in param dict is overridden.'.format(cat_alias))\n",
      "[I 2020-09-06 22:51:26,647] Trial 77 pruned. Trial was pruned at iteration 10.\n",
      "C:\\Users\\franc\\anaconda3\\lib\\site-packages\\lightgbm\\basic.py:1286: UserWarning: Overriding the parameters from Reference Dataset.\n",
      "  warnings.warn('Overriding the parameters from Reference Dataset.')\n",
      "C:\\Users\\franc\\anaconda3\\lib\\site-packages\\lightgbm\\basic.py:1098: UserWarning: categorical_column in param dict is overridden.\n",
      "  warnings.warn('{} in param dict is overridden.'.format(cat_alias))\n",
      "[I 2020-09-06 22:51:27,883] Trial 78 pruned. Trial was pruned at iteration 10.\n",
      "C:\\Users\\franc\\anaconda3\\lib\\site-packages\\lightgbm\\basic.py:1286: UserWarning: Overriding the parameters from Reference Dataset.\n",
      "  warnings.warn('Overriding the parameters from Reference Dataset.')\n",
      "C:\\Users\\franc\\anaconda3\\lib\\site-packages\\lightgbm\\basic.py:1098: UserWarning: categorical_column in param dict is overridden.\n",
      "  warnings.warn('{} in param dict is overridden.'.format(cat_alias))\n",
      "[I 2020-09-06 22:51:28,901] Trial 79 pruned. Trial was pruned at iteration 10.\n",
      "C:\\Users\\franc\\anaconda3\\lib\\site-packages\\lightgbm\\basic.py:1286: UserWarning: Overriding the parameters from Reference Dataset.\n",
      "  warnings.warn('Overriding the parameters from Reference Dataset.')\n",
      "C:\\Users\\franc\\anaconda3\\lib\\site-packages\\lightgbm\\basic.py:1098: UserWarning: categorical_column in param dict is overridden.\n",
      "  warnings.warn('{} in param dict is overridden.'.format(cat_alias))\n",
      "[I 2020-09-06 22:51:30,141] Trial 80 pruned. Trial was pruned at iteration 10.\n",
      "C:\\Users\\franc\\anaconda3\\lib\\site-packages\\lightgbm\\basic.py:1286: UserWarning: Overriding the parameters from Reference Dataset.\n",
      "  warnings.warn('Overriding the parameters from Reference Dataset.')\n",
      "C:\\Users\\franc\\anaconda3\\lib\\site-packages\\lightgbm\\basic.py:1098: UserWarning: categorical_column in param dict is overridden.\n",
      "  warnings.warn('{} in param dict is overridden.'.format(cat_alias))\n",
      "[I 2020-09-06 22:51:31,208] Trial 81 pruned. Trial was pruned at iteration 10.\n",
      "C:\\Users\\franc\\anaconda3\\lib\\site-packages\\lightgbm\\basic.py:1286: UserWarning: Overriding the parameters from Reference Dataset.\n",
      "  warnings.warn('Overriding the parameters from Reference Dataset.')\n",
      "C:\\Users\\franc\\anaconda3\\lib\\site-packages\\lightgbm\\basic.py:1098: UserWarning: categorical_column in param dict is overridden.\n",
      "  warnings.warn('{} in param dict is overridden.'.format(cat_alias))\n",
      "[I 2020-09-06 22:51:32,261] Trial 82 pruned. Trial was pruned at iteration 10.\n",
      "C:\\Users\\franc\\anaconda3\\lib\\site-packages\\lightgbm\\basic.py:1286: UserWarning: Overriding the parameters from Reference Dataset.\n",
      "  warnings.warn('Overriding the parameters from Reference Dataset.')\n",
      "C:\\Users\\franc\\anaconda3\\lib\\site-packages\\lightgbm\\basic.py:1098: UserWarning: categorical_column in param dict is overridden.\n",
      "  warnings.warn('{} in param dict is overridden.'.format(cat_alias))\n",
      "[I 2020-09-06 22:51:33,380] Trial 83 pruned. Trial was pruned at iteration 10.\n",
      "C:\\Users\\franc\\anaconda3\\lib\\site-packages\\lightgbm\\basic.py:1286: UserWarning: Overriding the parameters from Reference Dataset.\n",
      "  warnings.warn('Overriding the parameters from Reference Dataset.')\n",
      "C:\\Users\\franc\\anaconda3\\lib\\site-packages\\lightgbm\\basic.py:1098: UserWarning: categorical_column in param dict is overridden.\n",
      "  warnings.warn('{} in param dict is overridden.'.format(cat_alias))\n",
      "[I 2020-09-06 22:51:34,532] Trial 84 pruned. Trial was pruned at iteration 10.\n",
      "C:\\Users\\franc\\anaconda3\\lib\\site-packages\\lightgbm\\basic.py:1286: UserWarning: Overriding the parameters from Reference Dataset.\n",
      "  warnings.warn('Overriding the parameters from Reference Dataset.')\n",
      "C:\\Users\\franc\\anaconda3\\lib\\site-packages\\lightgbm\\basic.py:1098: UserWarning: categorical_column in param dict is overridden.\n",
      "  warnings.warn('{} in param dict is overridden.'.format(cat_alias))\n",
      "[I 2020-09-06 22:51:38,341] Trial 85 finished with value: 0.8057705840957072 and parameters: {'lambda_l1': 0.0008186435556364934, 'lambda_l2': 0.300198987083271, 'num_leaves': 152, 'feature_fraction': 0.7789892344055637, 'bagging_fraction': 0.9242962135573096, 'bagging_freq': 3, 'min_child_samples': 15, 'scale_pos_weight': 1.9404944380765188}. Best is trial 34 with value: 0.8223082336382829.\n",
      "C:\\Users\\franc\\anaconda3\\lib\\site-packages\\lightgbm\\basic.py:1286: UserWarning: Overriding the parameters from Reference Dataset.\n",
      "  warnings.warn('Overriding the parameters from Reference Dataset.')\n",
      "C:\\Users\\franc\\anaconda3\\lib\\site-packages\\lightgbm\\basic.py:1098: UserWarning: categorical_column in param dict is overridden.\n",
      "  warnings.warn('{} in param dict is overridden.'.format(cat_alias))\n",
      "[I 2020-09-06 22:51:39,419] Trial 86 pruned. Trial was pruned at iteration 10.\n",
      "C:\\Users\\franc\\anaconda3\\lib\\site-packages\\lightgbm\\basic.py:1286: UserWarning: Overriding the parameters from Reference Dataset.\n",
      "  warnings.warn('Overriding the parameters from Reference Dataset.')\n",
      "C:\\Users\\franc\\anaconda3\\lib\\site-packages\\lightgbm\\basic.py:1098: UserWarning: categorical_column in param dict is overridden.\n",
      "  warnings.warn('{} in param dict is overridden.'.format(cat_alias))\n",
      "[I 2020-09-06 22:51:40,746] Trial 87 pruned. Trial was pruned at iteration 10.\n",
      "C:\\Users\\franc\\anaconda3\\lib\\site-packages\\lightgbm\\basic.py:1286: UserWarning: Overriding the parameters from Reference Dataset.\n",
      "  warnings.warn('Overriding the parameters from Reference Dataset.')\n",
      "C:\\Users\\franc\\anaconda3\\lib\\site-packages\\lightgbm\\basic.py:1098: UserWarning: categorical_column in param dict is overridden.\n",
      "  warnings.warn('{} in param dict is overridden.'.format(cat_alias))\n",
      "[I 2020-09-06 22:51:41,939] Trial 88 pruned. Trial was pruned at iteration 10.\n",
      "C:\\Users\\franc\\anaconda3\\lib\\site-packages\\lightgbm\\basic.py:1286: UserWarning: Overriding the parameters from Reference Dataset.\n",
      "  warnings.warn('Overriding the parameters from Reference Dataset.')\n",
      "C:\\Users\\franc\\anaconda3\\lib\\site-packages\\lightgbm\\basic.py:1098: UserWarning: categorical_column in param dict is overridden.\n",
      "  warnings.warn('{} in param dict is overridden.'.format(cat_alias))\n",
      "[I 2020-09-06 22:51:46,129] Trial 89 finished with value: 0.8133356790992259 and parameters: {'lambda_l1': 0.04381980047108187, 'lambda_l2': 0.13234433324388276, 'num_leaves': 191, 'feature_fraction': 0.8012034446874237, 'bagging_fraction': 0.6786458332878528, 'bagging_freq': 2, 'min_child_samples': 5, 'scale_pos_weight': 1.443808757709402}. Best is trial 34 with value: 0.8223082336382829.\n",
      "C:\\Users\\franc\\anaconda3\\lib\\site-packages\\lightgbm\\basic.py:1286: UserWarning: Overriding the parameters from Reference Dataset.\n",
      "  warnings.warn('Overriding the parameters from Reference Dataset.')\n",
      "C:\\Users\\franc\\anaconda3\\lib\\site-packages\\lightgbm\\basic.py:1098: UserWarning: categorical_column in param dict is overridden.\n",
      "  warnings.warn('{} in param dict is overridden.'.format(cat_alias))\n",
      "[I 2020-09-06 22:51:47,277] Trial 90 pruned. Trial was pruned at iteration 10.\n",
      "C:\\Users\\franc\\anaconda3\\lib\\site-packages\\lightgbm\\basic.py:1286: UserWarning: Overriding the parameters from Reference Dataset.\n",
      "  warnings.warn('Overriding the parameters from Reference Dataset.')\n",
      "C:\\Users\\franc\\anaconda3\\lib\\site-packages\\lightgbm\\basic.py:1098: UserWarning: categorical_column in param dict is overridden.\n",
      "  warnings.warn('{} in param dict is overridden.'.format(cat_alias))\n"
     ]
    },
    {
     "name": "stderr",
     "output_type": "stream",
     "text": [
      "[I 2020-09-06 22:51:48,625] Trial 91 pruned. Trial was pruned at iteration 10.\n",
      "C:\\Users\\franc\\anaconda3\\lib\\site-packages\\lightgbm\\basic.py:1286: UserWarning: Overriding the parameters from Reference Dataset.\n",
      "  warnings.warn('Overriding the parameters from Reference Dataset.')\n",
      "C:\\Users\\franc\\anaconda3\\lib\\site-packages\\lightgbm\\basic.py:1098: UserWarning: categorical_column in param dict is overridden.\n",
      "  warnings.warn('{} in param dict is overridden.'.format(cat_alias))\n",
      "[I 2020-09-06 22:51:49,860] Trial 92 pruned. Trial was pruned at iteration 10.\n",
      "C:\\Users\\franc\\anaconda3\\lib\\site-packages\\lightgbm\\basic.py:1286: UserWarning: Overriding the parameters from Reference Dataset.\n",
      "  warnings.warn('Overriding the parameters from Reference Dataset.')\n",
      "C:\\Users\\franc\\anaconda3\\lib\\site-packages\\lightgbm\\basic.py:1098: UserWarning: categorical_column in param dict is overridden.\n",
      "  warnings.warn('{} in param dict is overridden.'.format(cat_alias))\n",
      "[I 2020-09-06 22:51:51,018] Trial 93 pruned. Trial was pruned at iteration 10.\n",
      "C:\\Users\\franc\\anaconda3\\lib\\site-packages\\lightgbm\\basic.py:1286: UserWarning: Overriding the parameters from Reference Dataset.\n",
      "  warnings.warn('Overriding the parameters from Reference Dataset.')\n",
      "C:\\Users\\franc\\anaconda3\\lib\\site-packages\\lightgbm\\basic.py:1098: UserWarning: categorical_column in param dict is overridden.\n",
      "  warnings.warn('{} in param dict is overridden.'.format(cat_alias))\n",
      "[I 2020-09-06 22:51:52,285] Trial 94 pruned. Trial was pruned at iteration 10.\n",
      "C:\\Users\\franc\\anaconda3\\lib\\site-packages\\lightgbm\\basic.py:1286: UserWarning: Overriding the parameters from Reference Dataset.\n",
      "  warnings.warn('Overriding the parameters from Reference Dataset.')\n",
      "C:\\Users\\franc\\anaconda3\\lib\\site-packages\\lightgbm\\basic.py:1098: UserWarning: categorical_column in param dict is overridden.\n",
      "  warnings.warn('{} in param dict is overridden.'.format(cat_alias))\n",
      "[I 2020-09-06 22:51:53,532] Trial 95 pruned. Trial was pruned at iteration 10.\n",
      "C:\\Users\\franc\\anaconda3\\lib\\site-packages\\lightgbm\\basic.py:1286: UserWarning: Overriding the parameters from Reference Dataset.\n",
      "  warnings.warn('Overriding the parameters from Reference Dataset.')\n",
      "C:\\Users\\franc\\anaconda3\\lib\\site-packages\\lightgbm\\basic.py:1098: UserWarning: categorical_column in param dict is overridden.\n",
      "  warnings.warn('{} in param dict is overridden.'.format(cat_alias))\n",
      "[I 2020-09-06 22:51:54,634] Trial 96 pruned. Trial was pruned at iteration 10.\n",
      "C:\\Users\\franc\\anaconda3\\lib\\site-packages\\lightgbm\\basic.py:1286: UserWarning: Overriding the parameters from Reference Dataset.\n",
      "  warnings.warn('Overriding the parameters from Reference Dataset.')\n",
      "C:\\Users\\franc\\anaconda3\\lib\\site-packages\\lightgbm\\basic.py:1098: UserWarning: categorical_column in param dict is overridden.\n",
      "  warnings.warn('{} in param dict is overridden.'.format(cat_alias))\n",
      "[I 2020-09-06 22:51:55,868] Trial 97 pruned. Trial was pruned at iteration 10.\n",
      "C:\\Users\\franc\\anaconda3\\lib\\site-packages\\lightgbm\\basic.py:1286: UserWarning: Overriding the parameters from Reference Dataset.\n",
      "  warnings.warn('Overriding the parameters from Reference Dataset.')\n",
      "C:\\Users\\franc\\anaconda3\\lib\\site-packages\\lightgbm\\basic.py:1098: UserWarning: categorical_column in param dict is overridden.\n",
      "  warnings.warn('{} in param dict is overridden.'.format(cat_alias))\n",
      "[I 2020-09-06 22:51:57,039] Trial 98 pruned. Trial was pruned at iteration 10.\n",
      "C:\\Users\\franc\\anaconda3\\lib\\site-packages\\lightgbm\\basic.py:1286: UserWarning: Overriding the parameters from Reference Dataset.\n",
      "  warnings.warn('Overriding the parameters from Reference Dataset.')\n",
      "C:\\Users\\franc\\anaconda3\\lib\\site-packages\\lightgbm\\basic.py:1098: UserWarning: categorical_column in param dict is overridden.\n",
      "  warnings.warn('{} in param dict is overridden.'.format(cat_alias))\n",
      "[I 2020-09-06 22:51:58,223] Trial 99 pruned. Trial was pruned at iteration 10.\n"
     ]
    },
    {
     "name": "stdout",
     "output_type": "stream",
     "text": [
      "Number of finished trials: 100\n",
      "Best trial:\n",
      "  Value: 0.8223082336382829\n",
      "  Params: \n",
      "    lambda_l1: 0.007768597359425839\n",
      "    lambda_l2: 6.477864724296791\n",
      "    num_leaves: 197\n",
      "    feature_fraction: 0.828943881702894\n",
      "    bagging_fraction: 0.6613682348688841\n",
      "    bagging_freq: 2\n",
      "    min_child_samples: 14\n",
      "    scale_pos_weight: 0.7477251495115637\n"
     ]
    }
   ],
   "source": [
    "tuneo = True\n",
    "\n",
    "if tuneo:\n",
    "    study = optuna.create_study(\n",
    "        pruner=optuna.pruners.MedianPruner(n_warmup_steps=10), direction=\"maximize\"\n",
    "    )\n",
    "    study.optimize(objective, n_trials=100)\n",
    "\n",
    "    print(\"Number of finished trials: {}\".format(len(study.trials)))\n",
    "\n",
    "    print(\"Best trial:\")\n",
    "    trial = study.best_trial\n",
    "\n",
    "    print(\"  Value: {}\".format(trial.value))\n",
    "\n",
    "    print(\"  Params: \")\n",
    "    for key, value in trial.params.items():\n",
    "        print(\"    {}: {}\".format(key, value))"
   ]
  },
  {
   "cell_type": "code",
   "execution_count": 42,
   "metadata": {},
   "outputs": [
    {
     "name": "stderr",
     "output_type": "stream",
     "text": [
      "C:\\Users\\franc\\anaconda3\\lib\\site-packages\\sklearn\\utils\\validation.py:72: DataConversionWarning: A column-vector y was passed when a 1d array was expected. Please change the shape of y to (n_samples, ), for example using ravel().\n",
      "  return f(**kwargs)\n"
     ]
    },
    {
     "name": "stdout",
     "output_type": "stream",
     "text": [
      "[1]\tvalid_0's binary_logloss: 0.474384\n",
      "Training until validation scores don't improve for 10000 rounds\n",
      "[2]\tvalid_0's binary_logloss: 0.471138\n",
      "[3]\tvalid_0's binary_logloss: 0.466779\n",
      "[4]\tvalid_0's binary_logloss: 0.463065\n",
      "[5]\tvalid_0's binary_logloss: 0.461071\n",
      "[6]\tvalid_0's binary_logloss: 0.458032\n",
      "[7]\tvalid_0's binary_logloss: 0.455589\n",
      "[8]\tvalid_0's binary_logloss: 0.454033\n",
      "[9]\tvalid_0's binary_logloss: 0.452491\n",
      "[10]\tvalid_0's binary_logloss: 0.451163\n",
      "[11]\tvalid_0's binary_logloss: 0.449948\n",
      "[12]\tvalid_0's binary_logloss: 0.448454\n",
      "[13]\tvalid_0's binary_logloss: 0.447341\n",
      "[14]\tvalid_0's binary_logloss: 0.446422\n",
      "[15]\tvalid_0's binary_logloss: 0.445768\n",
      "[16]\tvalid_0's binary_logloss: 0.44476\n",
      "[17]\tvalid_0's binary_logloss: 0.444369\n",
      "[18]\tvalid_0's binary_logloss: 0.443985\n",
      "[19]\tvalid_0's binary_logloss: 0.443445\n",
      "[20]\tvalid_0's binary_logloss: 0.443026\n",
      "[21]\tvalid_0's binary_logloss: 0.442587\n",
      "[22]\tvalid_0's binary_logloss: 0.442288\n",
      "[23]\tvalid_0's binary_logloss: 0.442283\n",
      "[24]\tvalid_0's binary_logloss: 0.442138\n",
      "[25]\tvalid_0's binary_logloss: 0.441733\n",
      "[26]\tvalid_0's binary_logloss: 0.441458\n",
      "[27]\tvalid_0's binary_logloss: 0.440958\n",
      "[28]\tvalid_0's binary_logloss: 0.440406\n",
      "[29]\tvalid_0's binary_logloss: 0.44019\n",
      "[30]\tvalid_0's binary_logloss: 0.439961\n",
      "[31]\tvalid_0's binary_logloss: 0.439794\n",
      "[32]\tvalid_0's binary_logloss: 0.439496\n",
      "[33]\tvalid_0's binary_logloss: 0.439301\n",
      "[34]\tvalid_0's binary_logloss: 0.439014\n",
      "[35]\tvalid_0's binary_logloss: 0.438892\n",
      "[36]\tvalid_0's binary_logloss: 0.438896\n",
      "[37]\tvalid_0's binary_logloss: 0.438753\n",
      "[38]\tvalid_0's binary_logloss: 0.43867\n",
      "[39]\tvalid_0's binary_logloss: 0.43858\n",
      "[40]\tvalid_0's binary_logloss: 0.438395\n",
      "[41]\tvalid_0's binary_logloss: 0.438213\n",
      "[42]\tvalid_0's binary_logloss: 0.438062\n",
      "[43]\tvalid_0's binary_logloss: 0.437954\n",
      "[44]\tvalid_0's binary_logloss: 0.437765\n",
      "[45]\tvalid_0's binary_logloss: 0.437714\n",
      "[46]\tvalid_0's binary_logloss: 0.437501\n",
      "[47]\tvalid_0's binary_logloss: 0.437539\n",
      "[48]\tvalid_0's binary_logloss: 0.437418\n",
      "[49]\tvalid_0's binary_logloss: 0.437448\n",
      "[50]\tvalid_0's binary_logloss: 0.437555\n",
      "[51]\tvalid_0's binary_logloss: 0.437569\n",
      "[52]\tvalid_0's binary_logloss: 0.437388\n",
      "[53]\tvalid_0's binary_logloss: 0.437352\n",
      "[54]\tvalid_0's binary_logloss: 0.437405\n",
      "[55]\tvalid_0's binary_logloss: 0.437375\n",
      "[56]\tvalid_0's binary_logloss: 0.437375\n",
      "[57]\tvalid_0's binary_logloss: 0.437383\n",
      "[58]\tvalid_0's binary_logloss: 0.4374\n",
      "[59]\tvalid_0's binary_logloss: 0.437345\n",
      "[60]\tvalid_0's binary_logloss: 0.437402\n",
      "[61]\tvalid_0's binary_logloss: 0.437298\n",
      "[62]\tvalid_0's binary_logloss: 0.437355\n",
      "[63]\tvalid_0's binary_logloss: 0.437415\n",
      "[64]\tvalid_0's binary_logloss: 0.437504\n",
      "[65]\tvalid_0's binary_logloss: 0.437565\n",
      "[66]\tvalid_0's binary_logloss: 0.437544\n",
      "[67]\tvalid_0's binary_logloss: 0.437534\n",
      "[68]\tvalid_0's binary_logloss: 0.43762\n",
      "[69]\tvalid_0's binary_logloss: 0.437598\n",
      "[70]\tvalid_0's binary_logloss: 0.437478\n",
      "[71]\tvalid_0's binary_logloss: 0.43726\n",
      "[72]\tvalid_0's binary_logloss: 0.437097\n",
      "[73]\tvalid_0's binary_logloss: 0.437124\n",
      "[74]\tvalid_0's binary_logloss: 0.437125\n",
      "[75]\tvalid_0's binary_logloss: 0.436983\n",
      "[76]\tvalid_0's binary_logloss: 0.436984\n",
      "[77]\tvalid_0's binary_logloss: 0.43688\n",
      "[78]\tvalid_0's binary_logloss: 0.436821\n",
      "[79]\tvalid_0's binary_logloss: 0.436847\n",
      "[80]\tvalid_0's binary_logloss: 0.436886\n",
      "[81]\tvalid_0's binary_logloss: 0.436944\n",
      "[82]\tvalid_0's binary_logloss: 0.436986\n",
      "[83]\tvalid_0's binary_logloss: 0.437079\n",
      "[84]\tvalid_0's binary_logloss: 0.437247\n",
      "[85]\tvalid_0's binary_logloss: 0.437201\n",
      "[86]\tvalid_0's binary_logloss: 0.43714\n",
      "[87]\tvalid_0's binary_logloss: 0.437162\n",
      "[88]\tvalid_0's binary_logloss: 0.437222\n",
      "[89]\tvalid_0's binary_logloss: 0.437141\n",
      "[90]\tvalid_0's binary_logloss: 0.437157\n",
      "[91]\tvalid_0's binary_logloss: 0.437164\n",
      "[92]\tvalid_0's binary_logloss: 0.437265\n",
      "[93]\tvalid_0's binary_logloss: 0.437252\n",
      "[94]\tvalid_0's binary_logloss: 0.43724\n",
      "[95]\tvalid_0's binary_logloss: 0.437345\n",
      "[96]\tvalid_0's binary_logloss: 0.437471\n",
      "[97]\tvalid_0's binary_logloss: 0.437498\n",
      "[98]\tvalid_0's binary_logloss: 0.437628\n",
      "[99]\tvalid_0's binary_logloss: 0.437593\n",
      "[100]\tvalid_0's binary_logloss: 0.437557\n",
      "Did not meet early stopping. Best iteration is:\n",
      "[78]\tvalid_0's binary_logloss: 0.436821\n"
     ]
    },
    {
     "data": {
      "text/plain": [
       "LGBMClassifier(bagging_fraction=0.6613682348688841, bagging_freq=2,\n",
       "               feature_fraction=0.828943881702894,\n",
       "               lambda_l1=0.007768597359425839, lambda_l2=6.477864724296791,\n",
       "               min_child_samples=14, num_leaves=197,\n",
       "               scale_pos_weight=0.7477251495115637)"
      ]
     },
     "execution_count": 42,
     "metadata": {},
     "output_type": "execute_result"
    }
   ],
   "source": [
    "unbalanced_model = lgb.LGBMClassifier().set_params(**trial.params)\n",
    "\n",
    "unbalanced_model.fit(X_train, y_train,\n",
    "                     eval_set = [(X_test, y_test)],\n",
    "                     eval_metric = 'binary_logloss',\n",
    "                     early_stopping_rounds = 10000)"
   ]
  },
  {
   "cell_type": "markdown",
   "metadata": {},
   "source": [
    "# 5.- Evaluando el Modelo"
   ]
  },
  {
   "cell_type": "code",
   "execution_count": 43,
   "metadata": {},
   "outputs": [
    {
     "name": "stdout",
     "output_type": "stream",
     "text": [
      "LightGBM Model with optuna accuracy score: 0.8214\n",
      "Training-set accuracy score: 0.8270\n",
      "Confusion matrix\n",
      "\n",
      " [[13758   140]\n",
      " [ 2905   249]]\n",
      "\n",
      "True Positives(TP) =  13758\n",
      "\n",
      "True Negatives(TN) =  249\n",
      "\n",
      "False Positives(FP) =  140\n",
      "\n",
      "False Negatives(FN) =  2905\n"
     ]
    }
   ],
   "source": [
    "from sklearn.metrics import confusion_matrix\n",
    "from sklearn.metrics import accuracy_score\n",
    "y_pred = unbalanced_model.predict(X_test)\n",
    "\n",
    "# view accuracy\n",
    "accuracy_opt = accuracy_score(y_pred, y_test)\n",
    "print('LightGBM Model with optuna accuracy score: {0:0.4f}'.format(accuracy_score(y_test, y_pred)))\n",
    "\n",
    "y_pred_train = unbalanced_model.predict(X_train)\n",
    "print('Training-set accuracy score: {0:0.4f}'. format(accuracy_score(y_train, y_pred_train)))\n",
    "\n",
    "cm = confusion_matrix(y_test, y_pred)\n",
    "print('Confusion matrix\\n\\n', cm)\n",
    "print('\\nTrue Positives(TP) = ', cm[0,0])\n",
    "print('\\nTrue Negatives(TN) = ', cm[1,1])\n",
    "print('\\nFalse Positives(FP) = ', cm[0,1])\n",
    "print('\\nFalse Negatives(FN) = ', cm[1,0])"
   ]
  },
  {
   "cell_type": "code",
   "execution_count": 44,
   "metadata": {},
   "outputs": [
    {
     "name": "stdout",
     "output_type": "stream",
     "text": [
      "              precision    recall  f1-score   support\n",
      "\n",
      "           0       0.83      0.99      0.90     13898\n",
      "           1       0.64      0.08      0.14      3154\n",
      "\n",
      "    accuracy                           0.82     17052\n",
      "   macro avg       0.73      0.53      0.52     17052\n",
      "weighted avg       0.79      0.82      0.76     17052\n",
      "\n"
     ]
    }
   ],
   "source": [
    "from sklearn.metrics import classification_report\n",
    "\n",
    "print(classification_report(y_test, y_pred))"
   ]
  },
  {
   "cell_type": "markdown",
   "metadata": {},
   "source": [
    "El modelo presenta logra captar bien cuando un bueno NO se atrasada, pero falla ampliamente al captar el comportamiento de los vuelos que se retrasan. Por lo que inferimos que el modelo esta sobreajustado a la clase negativa, lo cual es natural al considerar el desbalanceo de los datos."
   ]
  },
  {
   "cell_type": "markdown",
   "metadata": {},
   "source": [
    "###############################################################################################################################"
   ]
  },
  {
   "cell_type": "markdown",
   "metadata": {},
   "source": [
    "Para revisar que variables son las más influentes para el modelo usamos la libreria Shap, la cual individualiza el efecto de cada una de las variables. Es decir, mira la importancia para cada una de las observaciones/vuelos y evita ambigüedades.\n",
    "\n",
    "(referencia: https://github.com/slundberg/shap)"
   ]
  },
  {
   "cell_type": "code",
   "execution_count": 45,
   "metadata": {},
   "outputs": [
    {
     "name": "stderr",
     "output_type": "stream",
     "text": [
      "LightGBM binary classifier with TreeExplainer shap values output has changed to a list of ndarray\n"
     ]
    },
    {
     "data": {
      "image/png": "[encoded data removed]",
      "text/plain": [
       "<Figure size 576x396 with 1 Axes>"
      ]
     },
     "metadata": {
      "needs_background": "light"
     },
     "output_type": "display_data"
    }
   ],
   "source": [
    "import shap\n",
    "\n",
    "explainer = shap.TreeExplainer(unbalanced_model)\n",
    "shap_values = explainer.shap_values(X_test)\n",
    "shap.summary_plot(shap_values, X_test, plot_type=\"bar\")"
   ]
  },
  {
   "cell_type": "markdown",
   "metadata": {},
   "source": [
    "Observamos que las variables más influentes para el model, son el Mes, el destino, el operador, el dia de la semana, el periodo del dia y el tipo de vuelo. Si el vuelo se realiza en temporada alta, si es fin de semana y si hay cambios en operador, presentan relevancia, pero más recatadas que las anteriormente mencionadas."
   ]
  },
  {
   "cell_type": "code",
   "execution_count": 46,
   "metadata": {},
   "outputs": [
    {
     "data": {
      "image/png": "[encoded data removed]",
      "text/plain": [
       "<Figure size 576x396 with 2 Axes>"
      ]
     },
     "metadata": {
      "needs_background": "light"
     },
     "output_type": "display_data"
    }
   ],
   "source": [
    "shap.summary_plot(shap_values[0], X_test)"
   ]
  },
  {
   "cell_type": "markdown",
   "metadata": {},
   "source": [
    "Además *Shap* nos permite ver la distribucion de importancia para las observaciones. Observamos que la variable Mes es importante/poco importante para varias observaciones de una forma relativamente homogenea, mientras que las variables Destino, Aerolinea, Dia de la semana, Periodo del dia y Tipo vuelo, tienen una relevancia media/alta para la mayoria de las observaciones.\n",
    "\n",
    "Un detalle importante, es que, a pesar de que en general, los cambios de destino no son una variable relevante para el modelo, SI hay observaciones/casos en los que es una variable relevante para que el vuelo se atrase."
   ]
  },
  {
   "cell_type": "markdown",
   "metadata": {},
   "source": [
    "# 6 Corrigiendo el problema de las clases"
   ]
  },
  {
   "cell_type": "markdown",
   "metadata": {},
   "source": [
    "Nos encontramos en un escenario de clases no balanceadas, en donde el 82% de los vuelos salen a tiempo y el 18% de los vuelos se atrasa. Veremos como el aplicar la técnica de SMOTE afecta al desempeño del modelo."
   ]
  },
  {
   "cell_type": "code",
   "execution_count": 47,
   "metadata": {},
   "outputs": [
    {
     "name": "stdout",
     "output_type": "stream",
     "text": [
      "<class 'pandas.core.frame.DataFrame'>\n",
      "Int64Index: 51154 entries, 57880 to 11402\n",
      "Data columns (total 10 columns):\n",
      " #   Column               Non-Null Count  Dtype   \n",
      "---  ------               --------------  -----   \n",
      " 0   Des-I                51154 non-null  category\n",
      " 1   Emp-I                51154 non-null  category\n",
      " 2   TIPOVUELO            51154 non-null  category\n",
      " 3   Match-Des            51154 non-null  int64   \n",
      " 4   Match-Emp            51154 non-null  int64   \n",
      " 5   MES                  51154 non-null  category\n",
      " 6   DIANOM               51154 non-null  category\n",
      " 7   Flag_temporada_alta  51154 non-null  int64   \n",
      " 8   Periodo_dia          51154 non-null  category\n",
      " 9   Es_FDS               51154 non-null  int64   \n",
      "dtypes: category(6), int64(4)\n",
      "memory usage: 2.2 MB\n"
     ]
    }
   ],
   "source": [
    "X_train.info()"
   ]
  },
  {
   "cell_type": "code",
   "execution_count": 48,
   "metadata": {},
   "outputs": [],
   "source": [
    "from imblearn.over_sampling import SMOTENC\n",
    "\n",
    "sm = SMOTENC(random_state = 42, categorical_features = [0,1,2,5,6,8])\n",
    "\n",
    "X_resampled, y_resampled = sm.fit_sample(X_train, y_train)"
   ]
  },
  {
   "cell_type": "code",
   "execution_count": 49,
   "metadata": {},
   "outputs": [
    {
     "data": {
      "image/png": "[encoded data removed]",
      "text/plain": [
       "<Figure size 432x288 with 1 Axes>"
      ]
     },
     "metadata": {
      "needs_background": "light"
     },
     "output_type": "display_data"
    }
   ],
   "source": [
    "df_resampled = pd.concat([X_resampled,y_resampled], axis = 1)\n",
    "total = float(len(df_resampled))\n",
    "\n",
    "\n",
    "ax =sns.barplot(x = 'Atraso15', y = 'Des-I', data = df_resampled[['Atraso15','Des-I']].groupby(['Atraso15']).count().reset_index())\n",
    "\n",
    "for p in ax.patches:\n",
    "    height = p.get_height()\n",
    "    ax.text(p.get_x()+p.get_width()/2.,\n",
    "            height + 3,\n",
    "            '{:1.2f}'.format(height/total),\n",
    "            ha=\"center\") \n",
    "plt.show()"
   ]
  },
  {
   "cell_type": "code",
   "execution_count": 50,
   "metadata": {},
   "outputs": [
    {
     "name": "stderr",
     "output_type": "stream",
     "text": [
      "A column-vector y was passed when a 1d array was expected. Please change the shape of y to (n_samples, ), for example using ravel().\n"
     ]
    },
    {
     "name": "stdout",
     "output_type": "stream",
     "text": [
      "[LightGBM] [Warning] feature_fraction is set=0.828943881702894, colsample_bytree=1.0 will be ignored. Current value: feature_fraction=0.828943881702894\n",
      "[LightGBM] [Warning] lambda_l1 is set=0.007768597359425839, reg_alpha=0.0 will be ignored. Current value: lambda_l1=0.007768597359425839\n",
      "[LightGBM] [Warning] bagging_fraction is set=0.6613682348688841, subsample=1.0 will be ignored. Current value: bagging_fraction=0.6613682348688841\n",
      "[LightGBM] [Warning] lambda_l2 is set=6.477864724296791, reg_lambda=0.0 will be ignored. Current value: lambda_l2=6.477864724296791\n",
      "[LightGBM] [Warning] bagging_freq is set=2, subsample_freq=0 will be ignored. Current value: bagging_freq=2\n"
     ]
    },
    {
     "name": "stderr",
     "output_type": "stream",
     "text": [
      "Overriding the parameters from Reference Dataset.\n",
      "categorical_column in param dict is overridden.\n"
     ]
    },
    {
     "name": "stdout",
     "output_type": "stream",
     "text": [
      "[1]\tvalid_0's binary_logloss: 0.675278\n",
      "Training until validation scores don't improve for 10000 rounds\n",
      "[2]\tvalid_0's binary_logloss: 0.66099\n",
      "[3]\tvalid_0's binary_logloss: 0.64651\n",
      "[4]\tvalid_0's binary_logloss: 0.633743\n",
      "[5]\tvalid_0's binary_logloss: 0.62439\n",
      "[6]\tvalid_0's binary_logloss: 0.614325\n",
      "[7]\tvalid_0's binary_logloss: 0.60514\n",
      "[8]\tvalid_0's binary_logloss: 0.597977\n",
      "[9]\tvalid_0's binary_logloss: 0.591966\n",
      "[10]\tvalid_0's binary_logloss: 0.586519\n",
      "[11]\tvalid_0's binary_logloss: 0.581606\n",
      "[12]\tvalid_0's binary_logloss: 0.576337\n",
      "[13]\tvalid_0's binary_logloss: 0.571979\n",
      "[14]\tvalid_0's binary_logloss: 0.568258\n",
      "[15]\tvalid_0's binary_logloss: 0.565038\n",
      "[16]\tvalid_0's binary_logloss: 0.561808\n",
      "[17]\tvalid_0's binary_logloss: 0.559388\n",
      "[18]\tvalid_0's binary_logloss: 0.557165\n",
      "[19]\tvalid_0's binary_logloss: 0.555154\n",
      "[20]\tvalid_0's binary_logloss: 0.553005\n",
      "[21]\tvalid_0's binary_logloss: 0.551133\n",
      "[22]\tvalid_0's binary_logloss: 0.54972\n",
      "[23]\tvalid_0's binary_logloss: 0.548231\n",
      "[24]\tvalid_0's binary_logloss: 0.546407\n",
      "[25]\tvalid_0's binary_logloss: 0.544975\n",
      "[26]\tvalid_0's binary_logloss: 0.543784\n",
      "[27]\tvalid_0's binary_logloss: 0.542288\n",
      "[28]\tvalid_0's binary_logloss: 0.541065\n",
      "[29]\tvalid_0's binary_logloss: 0.540318\n",
      "[30]\tvalid_0's binary_logloss: 0.539515\n",
      "[31]\tvalid_0's binary_logloss: 0.538939\n",
      "[32]\tvalid_0's binary_logloss: 0.538066\n",
      "[33]\tvalid_0's binary_logloss: 0.537316\n",
      "[34]\tvalid_0's binary_logloss: 0.536725\n",
      "[35]\tvalid_0's binary_logloss: 0.536212\n",
      "[36]\tvalid_0's binary_logloss: 0.535656\n",
      "[37]\tvalid_0's binary_logloss: 0.534887\n",
      "[38]\tvalid_0's binary_logloss: 0.534401\n",
      "[39]\tvalid_0's binary_logloss: 0.534143\n",
      "[40]\tvalid_0's binary_logloss: 0.53389\n",
      "[41]\tvalid_0's binary_logloss: 0.533673\n",
      "[42]\tvalid_0's binary_logloss: 0.533361\n",
      "[43]\tvalid_0's binary_logloss: 0.53277\n",
      "[44]\tvalid_0's binary_logloss: 0.532363\n",
      "[45]\tvalid_0's binary_logloss: 0.531865\n",
      "[46]\tvalid_0's binary_logloss: 0.531522\n",
      "[47]\tvalid_0's binary_logloss: 0.531236\n",
      "[48]\tvalid_0's binary_logloss: 0.53064\n",
      "[49]\tvalid_0's binary_logloss: 0.530513\n",
      "[50]\tvalid_0's binary_logloss: 0.530323\n",
      "[51]\tvalid_0's binary_logloss: 0.529896\n",
      "[52]\tvalid_0's binary_logloss: 0.529328\n",
      "[53]\tvalid_0's binary_logloss: 0.529005\n",
      "[54]\tvalid_0's binary_logloss: 0.528805\n",
      "[55]\tvalid_0's binary_logloss: 0.528936\n",
      "[56]\tvalid_0's binary_logloss: 0.528951\n",
      "[57]\tvalid_0's binary_logloss: 0.528913\n",
      "[58]\tvalid_0's binary_logloss: 0.528746\n",
      "[59]\tvalid_0's binary_logloss: 0.528654\n",
      "[60]\tvalid_0's binary_logloss: 0.528408\n",
      "[61]\tvalid_0's binary_logloss: 0.528078\n",
      "[62]\tvalid_0's binary_logloss: 0.527743\n",
      "[63]\tvalid_0's binary_logloss: 0.527681\n",
      "[64]\tvalid_0's binary_logloss: 0.527684\n",
      "[65]\tvalid_0's binary_logloss: 0.527663\n",
      "[66]\tvalid_0's binary_logloss: 0.52758\n",
      "[67]\tvalid_0's binary_logloss: 0.527574\n",
      "[68]\tvalid_0's binary_logloss: 0.527523\n",
      "[69]\tvalid_0's binary_logloss: 0.527533\n",
      "[70]\tvalid_0's binary_logloss: 0.527336\n",
      "[71]\tvalid_0's binary_logloss: 0.527225\n",
      "[72]\tvalid_0's binary_logloss: 0.526956\n",
      "[73]\tvalid_0's binary_logloss: 0.526816\n",
      "[74]\tvalid_0's binary_logloss: 0.526599\n",
      "[75]\tvalid_0's binary_logloss: 0.526313\n",
      "[76]\tvalid_0's binary_logloss: 0.526341\n",
      "[77]\tvalid_0's binary_logloss: 0.526222\n",
      "[78]\tvalid_0's binary_logloss: 0.525961\n",
      "[79]\tvalid_0's binary_logloss: 0.525788\n",
      "[80]\tvalid_0's binary_logloss: 0.525561\n",
      "[81]\tvalid_0's binary_logloss: 0.525405\n",
      "[82]\tvalid_0's binary_logloss: 0.525362\n",
      "[83]\tvalid_0's binary_logloss: 0.525214\n",
      "[84]\tvalid_0's binary_logloss: 0.525097\n",
      "[85]\tvalid_0's binary_logloss: 0.525252\n",
      "[86]\tvalid_0's binary_logloss: 0.525561\n",
      "[87]\tvalid_0's binary_logloss: 0.525406\n",
      "[88]\tvalid_0's binary_logloss: 0.525289\n",
      "[89]\tvalid_0's binary_logloss: 0.525197\n",
      "[90]\tvalid_0's binary_logloss: 0.524999\n",
      "[91]\tvalid_0's binary_logloss: 0.525061\n",
      "[92]\tvalid_0's binary_logloss: 0.525207\n",
      "[93]\tvalid_0's binary_logloss: 0.525168\n",
      "[94]\tvalid_0's binary_logloss: 0.525107\n",
      "[95]\tvalid_0's binary_logloss: 0.524983\n",
      "[96]\tvalid_0's binary_logloss: 0.524974\n",
      "[97]\tvalid_0's binary_logloss: 0.524905\n",
      "[98]\tvalid_0's binary_logloss: 0.524781\n",
      "[99]\tvalid_0's binary_logloss: 0.524827\n",
      "[100]\tvalid_0's binary_logloss: 0.524862\n",
      "Did not meet early stopping. Best iteration is:\n",
      "[98]\tvalid_0's binary_logloss: 0.524781\n"
     ]
    },
    {
     "data": {
      "text/plain": [
       "LGBMClassifier(bagging_fraction=0.6613682348688841, bagging_freq=2,\n",
       "               feature_fraction=0.828943881702894,\n",
       "               lambda_l1=0.007768597359425839, lambda_l2=6.477864724296791,\n",
       "               min_child_samples=14, num_leaves=197,\n",
       "               scale_pos_weight=0.7477251495115637)"
      ]
     },
     "execution_count": 50,
     "metadata": {},
     "output_type": "execute_result"
    }
   ],
   "source": [
    "unbalanced_model_2 = lgb.LGBMClassifier().set_params(**trial.params)\n",
    "\n",
    "unbalanced_model_2.fit(X_resampled, y_resampled,\n",
    "                       eval_set = [(X_test, y_test)],\n",
    "                       eval_metric = 'binary_logloss',\n",
    "                       early_stopping_rounds = 10000)"
   ]
  },
  {
   "cell_type": "code",
   "execution_count": 51,
   "metadata": {},
   "outputs": [
    {
     "name": "stdout",
     "output_type": "stream",
     "text": [
      "LightGBM Model with optuna accuracy score: 0.7423\n",
      "Training-set accuracy score: 0.7837\n",
      "Confusion matrix\n",
      "\n",
      " [[11229  2669]\n",
      " [ 1726  1428]]\n",
      "\n",
      "True Positives(TP) =  11229\n",
      "\n",
      "True Negatives(TN) =  1428\n",
      "\n",
      "False Positives(FP) =  2669\n",
      "\n",
      "False Negatives(FN) =  1726\n"
     ]
    }
   ],
   "source": [
    "y_pred_resampled = unbalanced_model_2.predict(X_test)\n",
    "\n",
    "# view accuracy\n",
    "accuracy_opt = accuracy_score(y_pred_resampled, y_test)\n",
    "print('LightGBM Model with optuna accuracy score: {0:0.4f}'.format(accuracy_score(y_test, y_pred_resampled)))\n",
    "\n",
    "y_pred_train = unbalanced_model_2.predict(X_train)\n",
    "print('Training-set accuracy score: {0:0.4f}'. format(accuracy_score(y_train, y_pred_train)))\n",
    "\n",
    "cm = confusion_matrix(y_test, y_pred_resampled)\n",
    "print('Confusion matrix\\n\\n', cm)\n",
    "print('\\nTrue Positives(TP) = ', cm[0,0])\n",
    "print('\\nTrue Negatives(TN) = ', cm[1,1])\n",
    "print('\\nFalse Positives(FP) = ', cm[0,1])\n",
    "print('\\nFalse Negatives(FN) = ', cm[1,0])"
   ]
  },
  {
   "cell_type": "code",
   "execution_count": 52,
   "metadata": {},
   "outputs": [
    {
     "name": "stdout",
     "output_type": "stream",
     "text": [
      "              precision    recall  f1-score   support\n",
      "\n",
      "           0       0.87      0.81      0.84     13898\n",
      "           1       0.35      0.45      0.39      3154\n",
      "\n",
      "    accuracy                           0.74     17052\n",
      "   macro avg       0.61      0.63      0.62     17052\n",
      "weighted avg       0.77      0.74      0.75     17052\n",
      "\n"
     ]
    }
   ],
   "source": [
    "print(classification_report(y_test, y_pred_resampled))"
   ]
  },
  {
   "cell_type": "markdown",
   "metadata": {},
   "source": [
    "Observamos que, a pesar de que utilizamos los parametros tuneados a los datos desbalanceados, hemos mejorado la captura de los vuelos atrasados, mejorando levementel la precision y el recall,  además esto se visualiza de mejor manera al comparar los f1-score de ambos modelos. \n",
    "\n",
    "Ahora generaremos un modelo considerando los datos balanceados:"
   ]
  },
  {
   "cell_type": "code",
   "execution_count": 53,
   "metadata": {},
   "outputs": [],
   "source": [
    "def objective_resampled(trial):\n",
    "    #data, target = sklearn.datasets.load_breast_cancer(return_X_y=True)\n",
    "    train_x, valid_x, train_y, valid_y = train_test_split(X_resampled, y_resampled, test_size=0.25, stratify = y_resampled)\n",
    "    dtrain = lgb.Dataset(train_x, label=train_y)\n",
    "    dvalid = lgb.Dataset(valid_x, label=valid_y)\n",
    "\n",
    "    param = {\n",
    "        \"objective\": \"binary\",\n",
    "        \"metric\": \"auc\",\n",
    "        \"verbosity\": -1,\n",
    "        #\"is_unbalance\": True,\n",
    "        \"boosting_type\": \"gbdt\",\n",
    "        \"lambda_l1\": trial.suggest_float(\"lambda_l1\", 1e-8, 10.0, log=True),\n",
    "        \"lambda_l2\": trial.suggest_float(\"lambda_l2\", 1e-8, 10.0, log=True),\n",
    "        \"num_leaves\": trial.suggest_int(\"num_leaves\", 2, 256),\n",
    "        \"feature_fraction\": trial.suggest_float(\"feature_fraction\", 0.4, 1.0),\n",
    "        \"bagging_fraction\": trial.suggest_float(\"bagging_fraction\", 0.4, 1.0),\n",
    "        \"bagging_freq\": trial.suggest_int(\"bagging_freq\", 1, 7),\n",
    "        \"min_child_samples\": trial.suggest_int(\"min_child_samples\", 5, 100),\n",
    "        \"scale_pos_weight\": trial.suggest_float(\"scale_pos_weight\",0.1,10.0),\n",
    "    }\n",
    "\n",
    "    # Add a callback for pruning.\n",
    "    pruning_callback = optuna.integration.LightGBMPruningCallback(trial,\"auc\")\n",
    "    gbm = lgb.train(\n",
    "        param, dtrain, valid_sets=[dvalid], verbose_eval=False, callbacks=[pruning_callback]\n",
    "    )\n",
    "\n",
    "    preds = gbm.predict(valid_x)\n",
    "    pred_labels = np.rint(preds)\n",
    "    accuracy = sklearn.metrics.accuracy_score(valid_y, pred_labels)\n",
    "    return accuracy"
   ]
  },
  {
   "cell_type": "code",
   "execution_count": 54,
   "metadata": {},
   "outputs": [
    {
     "name": "stderr",
     "output_type": "stream",
     "text": [
      "Overriding the parameters from Reference Dataset.\n",
      "categorical_column in param dict is overridden.\n",
      "[I 2020-09-06 22:53:01,106] Trial 0 finished with value: 0.6002302489566844 and parameters: {'lambda_l1': 0.04649927892477143, 'lambda_l2': 0.0001020523643171759, 'num_leaves': 207, 'feature_fraction': 0.5497449425625545, 'bagging_fraction': 0.4613385635269144, 'bagging_freq': 2, 'min_child_samples': 41, 'scale_pos_weight': 4.051093940783152}. Best is trial 0 with value: 0.6002302489566844.\n",
      "Overriding the parameters from Reference Dataset.\n",
      "categorical_column in param dict is overridden.\n",
      "[I 2020-09-06 22:53:04,587] Trial 1 finished with value: 0.6215762459826354 and parameters: {'lambda_l1': 0.27791268754651827, 'lambda_l2': 1.248701207130609e-07, 'num_leaves': 81, 'feature_fraction': 0.8485119815622242, 'bagging_fraction': 0.9298703392535991, 'bagging_freq': 3, 'min_child_samples': 9, 'scale_pos_weight': 4.126194497406138}. Best is trial 1 with value: 0.6215762459826354.\n",
      "Overriding the parameters from Reference Dataset.\n",
      "categorical_column in param dict is overridden.\n",
      "[I 2020-09-06 22:53:10,140] Trial 2 finished with value: 0.6957355974480741 and parameters: {'lambda_l1': 6.704079765299137e-05, 'lambda_l2': 2.1536863225768434e-06, 'num_leaves': 255, 'feature_fraction': 0.83008964310832, 'bagging_fraction': 0.8952979415160818, 'bagging_freq': 6, 'min_child_samples': 84, 'scale_pos_weight': 2.902456470299012}. Best is trial 2 with value: 0.6957355974480741.\n",
      "Overriding the parameters from Reference Dataset.\n",
      "categorical_column in param dict is overridden.\n",
      "[I 2020-09-06 22:53:14,751] Trial 3 finished with value: 0.5828656401400681 and parameters: {'lambda_l1': 3.228609157299289e-08, 'lambda_l2': 0.21604639229290157, 'num_leaves': 191, 'feature_fraction': 0.7151388377082248, 'bagging_fraction': 0.7635670721115269, 'bagging_freq': 2, 'min_child_samples': 23, 'scale_pos_weight': 9.13502366359386}. Best is trial 2 with value: 0.6957355974480741.\n",
      "Overriding the parameters from Reference Dataset.\n",
      "categorical_column in param dict is overridden.\n",
      "[I 2020-09-06 22:53:18,371] Trial 4 finished with value: 0.6658512016117427 and parameters: {'lambda_l1': 2.365894000199315, 'lambda_l2': 0.0009222156993902127, 'num_leaves': 173, 'feature_fraction': 0.5926849731727839, 'bagging_fraction': 0.8846909960317472, 'bagging_freq': 4, 'min_child_samples': 21, 'scale_pos_weight': 2.183401800460632}. Best is trial 2 with value: 0.6957355974480741.\n",
      "Overriding the parameters from Reference Dataset.\n",
      "categorical_column in param dict is overridden.\n",
      "[I 2020-09-06 22:53:19,593] Trial 5 pruned. Trial was pruned at iteration 10.\n",
      "Overriding the parameters from Reference Dataset.\n",
      "categorical_column in param dict is overridden.\n",
      "[I 2020-09-06 22:53:21,169] Trial 6 pruned. Trial was pruned at iteration 33.\n",
      "Overriding the parameters from Reference Dataset.\n",
      "categorical_column in param dict is overridden.\n",
      "[I 2020-09-06 22:53:24,426] Trial 7 pruned. Trial was pruned at iteration 10.\n",
      "Overriding the parameters from Reference Dataset.\n",
      "categorical_column in param dict is overridden.\n",
      "[I 2020-09-06 22:53:27,000] Trial 8 pruned. Trial was pruned at iteration 41.\n",
      "Overriding the parameters from Reference Dataset.\n",
      "categorical_column in param dict is overridden.\n",
      "[I 2020-09-06 22:53:28,272] Trial 9 pruned. Trial was pruned at iteration 10.\n",
      "Overriding the parameters from Reference Dataset.\n",
      "categorical_column in param dict is overridden.\n",
      "[I 2020-09-06 22:53:29,522] Trial 10 pruned. Trial was pruned at iteration 10.\n",
      "Overriding the parameters from Reference Dataset.\n",
      "categorical_column in param dict is overridden.\n",
      "[I 2020-09-06 22:53:31,877] Trial 11 pruned. Trial was pruned at iteration 38.\n",
      "Overriding the parameters from Reference Dataset.\n",
      "categorical_column in param dict is overridden.\n",
      "[I 2020-09-06 22:53:35,624] Trial 12 finished with value: 0.6213364033194224 and parameters: {'lambda_l1': 0.00032088490800549367, 'lambda_l2': 0.013446792069272904, 'num_leaves': 106, 'feature_fraction': 0.9657172741256765, 'bagging_fraction': 0.9910379120729487, 'bagging_freq': 5, 'min_child_samples': 100, 'scale_pos_weight': 5.699208366622415}. Best is trial 2 with value: 0.6957355974480741.\n",
      "Overriding the parameters from Reference Dataset.\n",
      "categorical_column in param dict is overridden.\n",
      "[I 2020-09-06 22:53:36,939] Trial 13 pruned. Trial was pruned at iteration 11.\n",
      "Overriding the parameters from Reference Dataset.\n",
      "categorical_column in param dict is overridden.\n",
      "[I 2020-09-06 22:53:38,233] Trial 14 pruned. Trial was pruned at iteration 10.\n",
      "Overriding the parameters from Reference Dataset.\n",
      "categorical_column in param dict is overridden.\n",
      "[I 2020-09-06 22:53:39,570] Trial 15 pruned. Trial was pruned at iteration 10.\n",
      "Overriding the parameters from Reference Dataset.\n",
      "categorical_column in param dict is overridden.\n",
      "[I 2020-09-06 22:53:44,908] Trial 16 finished with value: 0.7198158008346525 and parameters: {'lambda_l1': 0.004230966359234905, 'lambda_l2': 5.658154797332253e-06, 'num_leaves': 237, 'feature_fraction': 0.7187805503124224, 'bagging_fraction': 0.9985938887718767, 'bagging_freq': 6, 'min_child_samples': 100, 'scale_pos_weight': 1.7062531934104874}. Best is trial 16 with value: 0.7198158008346525.\n",
      "Overriding the parameters from Reference Dataset.\n",
      "categorical_column in param dict is overridden.\n",
      "[I 2020-09-06 22:53:50,130] Trial 17 finished with value: 0.7402024272077518 and parameters: {'lambda_l1': 0.003999782748947277, 'lambda_l2': 2.629905792807102e-07, 'num_leaves': 237, 'feature_fraction': 0.7296215258485663, 'bagging_fraction': 0.9694308893324594, 'bagging_freq': 6, 'min_child_samples': 98, 'scale_pos_weight': 1.5144534789629769}. Best is trial 17 with value: 0.7402024272077518.\n",
      "Overriding the parameters from Reference Dataset.\n",
      "categorical_column in param dict is overridden.\n",
      "[I 2020-09-06 22:53:55,513] Trial 18 finished with value: 0.7382357173694056 and parameters: {'lambda_l1': 0.011270616971735177, 'lambda_l2': 1.7636318014585883e-07, 'num_leaves': 231, 'feature_fraction': 0.6990278192481406, 'bagging_fraction': 0.9814935768753555, 'bagging_freq': 7, 'min_child_samples': 99, 'scale_pos_weight': 0.9405737043936531}. Best is trial 17 with value: 0.7402024272077518.\n",
      "Overriding the parameters from Reference Dataset.\n",
      "categorical_column in param dict is overridden.\n",
      "[I 2020-09-06 22:54:00,818] Trial 19 finished with value: 0.74758958123471 and parameters: {'lambda_l1': 0.00846625078411894, 'lambda_l2': 1.1178509071555367e-07, 'num_leaves': 229, 'feature_fraction': 0.755671567865982, 'bagging_fraction': 0.9989381951150673, 'bagging_freq': 7, 'min_child_samples': 96, 'scale_pos_weight': 1.1556950085412954}. Best is trial 19 with value: 0.74758958123471.\n",
      "Overriding the parameters from Reference Dataset.\n",
      "categorical_column in param dict is overridden.\n",
      "[I 2020-09-06 22:54:02,090] Trial 20 pruned. Trial was pruned at iteration 10.\n",
      "Overriding the parameters from Reference Dataset.\n",
      "categorical_column in param dict is overridden.\n",
      "[I 2020-09-06 22:54:07,389] Trial 21 finished with value: 0.7407780495994628 and parameters: {'lambda_l1': 0.02904847086236442, 'lambda_l2': 3.568799670734309e-07, 'num_leaves': 226, 'feature_fraction': 0.6660865134183356, 'bagging_fraction': 0.9564896759279952, 'bagging_freq': 7, 'min_child_samples': 95, 'scale_pos_weight': 1.2708057951581229}. Best is trial 19 with value: 0.74758958123471.\n",
      "Overriding the parameters from Reference Dataset.\n",
      "categorical_column in param dict is overridden.\n",
      "[I 2020-09-06 22:54:08,779] Trial 22 pruned. Trial was pruned at iteration 10.\n",
      "Overriding the parameters from Reference Dataset.\n",
      "categorical_column in param dict is overridden.\n",
      "[I 2020-09-06 22:54:13,953] Trial 23 finished with value: 0.692042020434595 and parameters: {'lambda_l1': 0.31420402965311656, 'lambda_l2': 2.894551568656649e-08, 'num_leaves': 256, 'feature_fraction': 0.9060665300504265, 'bagging_fraction': 0.9518639321735625, 'bagging_freq': 6, 'min_child_samples': 92, 'scale_pos_weight': 3.316503722969493}. Best is trial 19 with value: 0.74758958123471.\n",
      "Overriding the parameters from Reference Dataset.\n",
      "categorical_column in param dict is overridden.\n"
     ]
    },
    {
     "name": "stderr",
     "output_type": "stream",
     "text": [
      "[I 2020-09-06 22:54:15,412] Trial 24 pruned. Trial was pruned at iteration 10.\n",
      "Overriding the parameters from Reference Dataset.\n",
      "categorical_column in param dict is overridden.\n",
      "[I 2020-09-06 22:54:16,790] Trial 25 pruned. Trial was pruned at iteration 10.\n",
      "Overriding the parameters from Reference Dataset.\n",
      "categorical_column in param dict is overridden.\n",
      "[I 2020-09-06 22:54:18,192] Trial 26 pruned. Trial was pruned at iteration 10.\n",
      "Overriding the parameters from Reference Dataset.\n",
      "categorical_column in param dict is overridden.\n",
      "[I 2020-09-06 22:54:19,534] Trial 27 pruned. Trial was pruned at iteration 10.\n",
      "Overriding the parameters from Reference Dataset.\n",
      "categorical_column in param dict is overridden.\n",
      "[I 2020-09-06 22:54:20,940] Trial 28 pruned. Trial was pruned at iteration 10.\n",
      "Overriding the parameters from Reference Dataset.\n",
      "categorical_column in param dict is overridden.\n",
      "[I 2020-09-06 22:54:22,280] Trial 29 pruned. Trial was pruned at iteration 10.\n",
      "Overriding the parameters from Reference Dataset.\n",
      "categorical_column in param dict is overridden.\n",
      "[I 2020-09-06 22:54:23,530] Trial 30 pruned. Trial was pruned at iteration 10.\n",
      "Overriding the parameters from Reference Dataset.\n",
      "categorical_column in param dict is overridden.\n",
      "[I 2020-09-06 22:54:28,883] Trial 31 finished with value: 0.7402983642730369 and parameters: {'lambda_l1': 0.007097686789277777, 'lambda_l2': 2.1317998601954863e-07, 'num_leaves': 232, 'feature_fraction': 0.6920990316797244, 'bagging_fraction': 0.9994531698308657, 'bagging_freq': 7, 'min_child_samples': 98, 'scale_pos_weight': 0.9515506407004357}. Best is trial 19 with value: 0.74758958123471.\n",
      "Overriding the parameters from Reference Dataset.\n",
      "categorical_column in param dict is overridden.\n",
      "[I 2020-09-06 22:54:33,997] Trial 32 finished with value: 0.7458147455269344 and parameters: {'lambda_l1': 0.00292909042637345, 'lambda_l2': 1.4224307672047095e-07, 'num_leaves': 240, 'feature_fraction': 0.6718144339602996, 'bagging_fraction': 0.9266902020908099, 'bagging_freq': 7, 'min_child_samples': 95, 'scale_pos_weight': 1.0835572287204882}. Best is trial 19 with value: 0.74758958123471.\n",
      "Overriding the parameters from Reference Dataset.\n",
      "categorical_column in param dict is overridden.\n",
      "[I 2020-09-06 22:54:35,284] Trial 33 pruned. Trial was pruned at iteration 10.\n",
      "Overriding the parameters from Reference Dataset.\n",
      "categorical_column in param dict is overridden.\n",
      "[I 2020-09-06 22:54:36,545] Trial 34 pruned. Trial was pruned at iteration 10.\n",
      "Overriding the parameters from Reference Dataset.\n",
      "categorical_column in param dict is overridden.\n",
      "[I 2020-09-06 22:54:41,941] Trial 35 finished with value: 0.7429366335683791 and parameters: {'lambda_l1': 0.0017401845861936894, 'lambda_l2': 4.236516568616966e-08, 'num_leaves': 240, 'feature_fraction': 0.8265140145419201, 'bagging_fraction': 0.9264640915320531, 'bagging_freq': 6, 'min_child_samples': 95, 'scale_pos_weight': 0.806226933535057}. Best is trial 19 with value: 0.74758958123471.\n",
      "Overriding the parameters from Reference Dataset.\n",
      "categorical_column in param dict is overridden.\n",
      "[I 2020-09-06 22:54:47,357] Trial 36 finished with value: 0.7320957451911546 and parameters: {'lambda_l1': 0.0001083679564201971, 'lambda_l2': 4.7892969824629486e-08, 'num_leaves': 249, 'feature_fraction': 0.8392941017715033, 'bagging_fraction': 0.8693979463441683, 'bagging_freq': 6, 'min_child_samples': 90, 'scale_pos_weight': 2.132200272419537}. Best is trial 19 with value: 0.74758958123471.\n",
      "Overriding the parameters from Reference Dataset.\n",
      "categorical_column in param dict is overridden.\n",
      "[I 2020-09-06 22:54:48,790] Trial 37 pruned. Trial was pruned at iteration 12.\n",
      "Overriding the parameters from Reference Dataset.\n",
      "categorical_column in param dict is overridden.\n",
      "[I 2020-09-06 22:54:50,188] Trial 38 pruned. Trial was pruned at iteration 10.\n",
      "Overriding the parameters from Reference Dataset.\n",
      "categorical_column in param dict is overridden.\n",
      "[I 2020-09-06 22:54:51,572] Trial 39 pruned. Trial was pruned at iteration 10.\n",
      "Overriding the parameters from Reference Dataset.\n",
      "categorical_column in param dict is overridden.\n",
      "[I 2020-09-06 22:54:52,986] Trial 40 pruned. Trial was pruned at iteration 11.\n",
      "Overriding the parameters from Reference Dataset.\n",
      "categorical_column in param dict is overridden.\n",
      "[I 2020-09-06 22:54:54,453] Trial 41 pruned. Trial was pruned at iteration 10.\n",
      "Overriding the parameters from Reference Dataset.\n",
      "categorical_column in param dict is overridden.\n",
      "[I 2020-09-06 22:54:55,928] Trial 42 pruned. Trial was pruned at iteration 10.\n",
      "Overriding the parameters from Reference Dataset.\n",
      "categorical_column in param dict is overridden.\n",
      "[I 2020-09-06 22:55:01,599] Trial 43 finished with value: 0.7493644169424857 and parameters: {'lambda_l1': 0.004979246271050608, 'lambda_l2': 3.434215554809432e-08, 'num_leaves': 225, 'feature_fraction': 0.7281943519323444, 'bagging_fraction': 0.9979671918547846, 'bagging_freq': 6, 'min_child_samples': 95, 'scale_pos_weight': 0.9366839109417198}. Best is trial 43 with value: 0.7493644169424857.\n",
      "Overriding the parameters from Reference Dataset.\n",
      "categorical_column in param dict is overridden.\n",
      "[I 2020-09-06 22:55:03,286] Trial 44 pruned. Trial was pruned at iteration 12.\n",
      "Overriding the parameters from Reference Dataset.\n",
      "categorical_column in param dict is overridden.\n",
      "[I 2020-09-06 22:55:04,787] Trial 45 pruned. Trial was pruned at iteration 10.\n",
      "Overriding the parameters from Reference Dataset.\n",
      "categorical_column in param dict is overridden.\n",
      "[I 2020-09-06 22:55:09,920] Trial 46 finished with value: 0.7212068882812874 and parameters: {'lambda_l1': 0.00021339234418580471, 'lambda_l2': 0.00019967289249264632, 'num_leaves': 220, 'feature_fraction': 0.736842196730552, 'bagging_fraction': 0.8637263865473289, 'bagging_freq': 2, 'min_child_samples': 66, 'scale_pos_weight': 1.9671275515992641}. Best is trial 43 with value: 0.7493644169424857.\n",
      "Overriding the parameters from Reference Dataset.\n",
      "categorical_column in param dict is overridden.\n",
      "[I 2020-09-06 22:55:11,408] Trial 47 pruned. Trial was pruned at iteration 10.\n",
      "Overriding the parameters from Reference Dataset.\n",
      "categorical_column in param dict is overridden.\n",
      "[I 2020-09-06 22:55:12,817] Trial 48 pruned. Trial was pruned at iteration 10.\n",
      "Overriding the parameters from Reference Dataset.\n",
      "categorical_column in param dict is overridden.\n",
      "[I 2020-09-06 22:55:14,087] Trial 49 pruned. Trial was pruned at iteration 10.\n",
      "Overriding the parameters from Reference Dataset.\n",
      "categorical_column in param dict is overridden.\n",
      "[I 2020-09-06 22:55:15,250] Trial 50 pruned. Trial was pruned at iteration 10.\n",
      "Overriding the parameters from Reference Dataset.\n",
      "categorical_column in param dict is overridden.\n",
      "[I 2020-09-06 22:55:16,541] Trial 51 pruned. Trial was pruned at iteration 19.\n",
      "Overriding the parameters from Reference Dataset.\n",
      "categorical_column in param dict is overridden.\n",
      "[I 2020-09-06 22:55:17,635] Trial 52 pruned. Trial was pruned at iteration 10.\n",
      "Overriding the parameters from Reference Dataset.\n",
      "categorical_column in param dict is overridden.\n",
      "[I 2020-09-06 22:55:23,135] Trial 53 finished with value: 0.7271070177963256 and parameters: {'lambda_l1': 0.01681753811213612, 'lambda_l2': 3.1323710983280167e-06, 'num_leaves': 247, 'feature_fraction': 0.8115872864116424, 'bagging_fraction': 0.9398545710636124, 'bagging_freq': 7, 'min_child_samples': 100, 'scale_pos_weight': 1.8142388524297328}. Best is trial 43 with value: 0.7493644169424857.\n",
      "Overriding the parameters from Reference Dataset.\n",
      "categorical_column in param dict is overridden.\n",
      "[I 2020-09-06 22:55:24,658] Trial 54 pruned. Trial was pruned at iteration 10.\n",
      "Overriding the parameters from Reference Dataset.\n",
      "categorical_column in param dict is overridden.\n",
      "[I 2020-09-06 22:55:26,101] Trial 55 pruned. Trial was pruned at iteration 13.\n",
      "Overriding the parameters from Reference Dataset.\n",
      "categorical_column in param dict is overridden.\n",
      "[I 2020-09-06 22:55:27,527] Trial 56 pruned. Trial was pruned at iteration 10.\n",
      "Overriding the parameters from Reference Dataset.\n",
      "categorical_column in param dict is overridden.\n",
      "[I 2020-09-06 22:55:28,586] Trial 57 pruned. Trial was pruned at iteration 10.\n",
      "Overriding the parameters from Reference Dataset.\n"
     ]
    },
    {
     "name": "stderr",
     "output_type": "stream",
     "text": [
      "categorical_column in param dict is overridden.\n",
      "[I 2020-09-06 22:55:30,601] Trial 58 pruned. Trial was pruned at iteration 31.\n",
      "Overriding the parameters from Reference Dataset.\n",
      "categorical_column in param dict is overridden.\n",
      "[I 2020-09-06 22:55:32,195] Trial 59 pruned. Trial was pruned at iteration 10.\n",
      "Overriding the parameters from Reference Dataset.\n",
      "categorical_column in param dict is overridden.\n",
      "[I 2020-09-06 22:55:33,774] Trial 60 pruned. Trial was pruned at iteration 10.\n",
      "Overriding the parameters from Reference Dataset.\n",
      "categorical_column in param dict is overridden.\n",
      "[I 2020-09-06 22:55:35,260] Trial 61 pruned. Trial was pruned at iteration 10.\n",
      "Overriding the parameters from Reference Dataset.\n",
      "categorical_column in param dict is overridden.\n",
      "[I 2020-09-06 22:55:36,727] Trial 62 pruned. Trial was pruned at iteration 10.\n",
      "Overriding the parameters from Reference Dataset.\n",
      "categorical_column in param dict is overridden.\n",
      "[I 2020-09-06 22:55:38,146] Trial 63 pruned. Trial was pruned at iteration 10.\n",
      "Overriding the parameters from Reference Dataset.\n",
      "categorical_column in param dict is overridden.\n",
      "[I 2020-09-06 22:55:43,600] Trial 64 finished with value: 0.7467741161797861 and parameters: {'lambda_l1': 0.0012643621658436595, 'lambda_l2': 1.2896311886335124e-07, 'num_leaves': 246, 'feature_fraction': 0.7240628710262645, 'bagging_fraction': 0.9299628639130104, 'bagging_freq': 7, 'min_child_samples': 93, 'scale_pos_weight': 0.8031482582598839}. Best is trial 43 with value: 0.7493644169424857.\n",
      "Overriding the parameters from Reference Dataset.\n",
      "categorical_column in param dict is overridden.\n",
      "[I 2020-09-06 22:55:45,311] Trial 65 pruned. Trial was pruned at iteration 15.\n",
      "Overriding the parameters from Reference Dataset.\n",
      "categorical_column in param dict is overridden.\n",
      "[I 2020-09-06 22:55:49,814] Trial 66 finished with value: 0.7485489518875618 and parameters: {'lambda_l1': 0.0012023509331247225, 'lambda_l2': 2.043048373974805e-08, 'num_leaves': 197, 'feature_fraction': 0.7767161289591444, 'bagging_fraction': 0.8800999828585641, 'bagging_freq': 7, 'min_child_samples': 94, 'scale_pos_weight': 1.015551814469666}. Best is trial 43 with value: 0.7493644169424857.\n",
      "Overriding the parameters from Reference Dataset.\n",
      "categorical_column in param dict is overridden.\n",
      "[I 2020-09-06 22:55:51,066] Trial 67 pruned. Trial was pruned at iteration 10.\n",
      "Overriding the parameters from Reference Dataset.\n",
      "categorical_column in param dict is overridden.\n",
      "[I 2020-09-06 22:55:52,549] Trial 68 pruned. Trial was pruned at iteration 15.\n",
      "Overriding the parameters from Reference Dataset.\n",
      "categorical_column in param dict is overridden.\n",
      "[I 2020-09-06 22:55:57,321] Trial 69 finished with value: 0.7514750323787596 and parameters: {'lambda_l1': 7.943190361906157e-05, 'lambda_l2': 1.0150278018028262e-08, 'num_leaves': 221, 'feature_fraction': 0.9148316438413169, 'bagging_fraction': 0.7237896243178157, 'bagging_freq': 7, 'min_child_samples': 94, 'scale_pos_weight': 1.1897199137673862}. Best is trial 69 with value: 0.7514750323787596.\n",
      "Overriding the parameters from Reference Dataset.\n",
      "categorical_column in param dict is overridden.\n",
      "[I 2020-09-06 22:55:58,657] Trial 70 pruned. Trial was pruned at iteration 10.\n",
      "Overriding the parameters from Reference Dataset.\n",
      "categorical_column in param dict is overridden.\n",
      "[I 2020-09-06 22:56:03,716] Trial 71 finished with value: 0.7515709694440447 and parameters: {'lambda_l1': 8.818062603026979e-05, 'lambda_l2': 3.43870490725652e-08, 'num_leaves': 227, 'feature_fraction': 0.9777820558820667, 'bagging_fraction': 0.8221724368597634, 'bagging_freq': 7, 'min_child_samples': 95, 'scale_pos_weight': 1.271719148939198}. Best is trial 71 with value: 0.7515709694440447.\n",
      "Overriding the parameters from Reference Dataset.\n",
      "categorical_column in param dict is overridden.\n",
      "[I 2020-09-06 22:56:08,801] Trial 72 finished with value: 0.7518587806399002 and parameters: {'lambda_l1': 7.737065415313747e-05, 'lambda_l2': 2.3663367857721103e-08, 'num_leaves': 243, 'feature_fraction': 0.9851925538734276, 'bagging_fraction': 0.669850872053818, 'bagging_freq': 7, 'min_child_samples': 94, 'scale_pos_weight': 0.8110110659811189}. Best is trial 72 with value: 0.7518587806399002.\n",
      "Overriding the parameters from Reference Dataset.\n",
      "categorical_column in param dict is overridden.\n",
      "[I 2020-09-06 22:56:10,155] Trial 73 pruned. Trial was pruned at iteration 10.\n",
      "Overriding the parameters from Reference Dataset.\n",
      "categorical_column in param dict is overridden.\n",
      "[I 2020-09-06 22:56:11,622] Trial 74 pruned. Trial was pruned at iteration 10.\n",
      "Overriding the parameters from Reference Dataset.\n",
      "categorical_column in param dict is overridden.\n",
      "[I 2020-09-06 22:56:13,160] Trial 75 pruned. Trial was pruned at iteration 10.\n",
      "Overriding the parameters from Reference Dataset.\n",
      "categorical_column in param dict is overridden.\n",
      "[I 2020-09-06 22:56:18,485] Trial 76 finished with value: 0.7496042596056987 and parameters: {'lambda_l1': 0.0001142171970121312, 'lambda_l2': 5.605890595153194e-08, 'num_leaves': 212, 'feature_fraction': 0.9137061641627939, 'bagging_fraction': 0.8211076187534141, 'bagging_freq': 7, 'min_child_samples': 88, 'scale_pos_weight': 0.7973536474008891}. Best is trial 72 with value: 0.7518587806399002.\n",
      "Overriding the parameters from Reference Dataset.\n",
      "categorical_column in param dict is overridden.\n",
      "[I 2020-09-06 22:56:19,877] Trial 77 pruned. Trial was pruned at iteration 10.\n",
      "Overriding the parameters from Reference Dataset.\n",
      "categorical_column in param dict is overridden.\n",
      "[I 2020-09-06 22:56:24,824] Trial 78 finished with value: 0.7426008538398811 and parameters: {'lambda_l1': 9.941391090297769e-05, 'lambda_l2': 2.1168517282890397e-08, 'num_leaves': 198, 'feature_fraction': 0.8989899291115095, 'bagging_fraction': 0.825088878339971, 'bagging_freq': 7, 'min_child_samples': 47, 'scale_pos_weight': 0.7288306795784036}. Best is trial 72 with value: 0.7518587806399002.\n",
      "Overriding the parameters from Reference Dataset.\n",
      "categorical_column in param dict is overridden.\n",
      "[I 2020-09-06 22:56:26,218] Trial 79 pruned. Trial was pruned at iteration 10.\n",
      "Overriding the parameters from Reference Dataset.\n",
      "categorical_column in param dict is overridden.\n",
      "[I 2020-09-06 22:56:27,643] Trial 80 pruned. Trial was pruned at iteration 10.\n",
      "Overriding the parameters from Reference Dataset.\n",
      "categorical_column in param dict is overridden.\n",
      "[I 2020-09-06 22:56:32,825] Trial 81 finished with value: 0.7558881373818774 and parameters: {'lambda_l1': 0.00016705927379138954, 'lambda_l2': 1.0754980914309415e-07, 'num_leaves': 220, 'feature_fraction': 0.8615972479263118, 'bagging_fraction': 0.7715813711367382, 'bagging_freq': 7, 'min_child_samples': 97, 'scale_pos_weight': 1.0710034537494049}. Best is trial 81 with value: 0.7558881373818774.\n",
      "Overriding the parameters from Reference Dataset.\n",
      "categorical_column in param dict is overridden.\n",
      "[I 2020-09-06 22:56:37,908] Trial 82 finished with value: 0.7534897107497481 and parameters: {'lambda_l1': 1.7067017990419997e-05, 'lambda_l2': 4.0927830951055e-08, 'num_leaves': 209, 'feature_fraction': 0.9097025954694522, 'bagging_fraction': 0.7719561357332712, 'bagging_freq': 7, 'min_child_samples': 98, 'scale_pos_weight': 0.9310486411481769}. Best is trial 81 with value: 0.7558881373818774.\n",
      "Overriding the parameters from Reference Dataset.\n",
      "categorical_column in param dict is overridden.\n",
      "[I 2020-09-06 22:56:39,290] Trial 83 pruned. Trial was pruned at iteration 10.\n",
      "Overriding the parameters from Reference Dataset.\n",
      "categorical_column in param dict is overridden.\n",
      "[I 2020-09-06 22:56:40,729] Trial 84 pruned. Trial was pruned at iteration 10.\n",
      "Overriding the parameters from Reference Dataset.\n",
      "categorical_column in param dict is overridden.\n",
      "[I 2020-09-06 22:56:42,186] Trial 85 pruned. Trial was pruned at iteration 10.\n",
      "Overriding the parameters from Reference Dataset.\n",
      "categorical_column in param dict is overridden.\n",
      "[I 2020-09-06 22:56:43,466] Trial 86 pruned. Trial was pruned at iteration 10.\n",
      "Overriding the parameters from Reference Dataset.\n",
      "categorical_column in param dict is overridden.\n"
     ]
    },
    {
     "name": "stderr",
     "output_type": "stream",
     "text": [
      "[I 2020-09-06 22:56:48,796] Trial 87 finished with value: 0.7534417422171056 and parameters: {'lambda_l1': 9.303366577266372e-07, 'lambda_l2': 1.776356351090056e-08, 'num_leaves': 224, 'feature_fraction': 0.920464382858129, 'bagging_fraction': 0.8148312341814394, 'bagging_freq': 7, 'min_child_samples': 96, 'scale_pos_weight': 1.2802966400252198}. Best is trial 81 with value: 0.7558881373818774.\n",
      "Overriding the parameters from Reference Dataset.\n",
      "categorical_column in param dict is overridden.\n",
      "[I 2020-09-06 22:56:50,174] Trial 88 pruned. Trial was pruned at iteration 10.\n",
      "Overriding the parameters from Reference Dataset.\n",
      "categorical_column in param dict is overridden.\n",
      "[I 2020-09-06 22:56:51,584] Trial 89 pruned. Trial was pruned at iteration 10.\n",
      "Overriding the parameters from Reference Dataset.\n",
      "categorical_column in param dict is overridden.\n",
      "[I 2020-09-06 22:56:52,937] Trial 90 pruned. Trial was pruned at iteration 10.\n",
      "Overriding the parameters from Reference Dataset.\n",
      "categorical_column in param dict is overridden.\n",
      "[I 2020-09-06 22:56:54,484] Trial 91 pruned. Trial was pruned at iteration 10.\n",
      "Overriding the parameters from Reference Dataset.\n",
      "categorical_column in param dict is overridden.\n",
      "[I 2020-09-06 22:56:59,927] Trial 92 finished with value: 0.7519067491725429 and parameters: {'lambda_l1': 0.0001544073937545519, 'lambda_l2': 1.7942692014285082e-07, 'num_leaves': 229, 'feature_fraction': 0.9653803192820717, 'bagging_fraction': 0.8332512630008118, 'bagging_freq': 7, 'min_child_samples': 89, 'scale_pos_weight': 1.311379686508472}. Best is trial 81 with value: 0.7558881373818774.\n",
      "Overriding the parameters from Reference Dataset.\n",
      "categorical_column in param dict is overridden.\n",
      "[I 2020-09-06 22:57:01,453] Trial 93 pruned. Trial was pruned at iteration 10.\n",
      "Overriding the parameters from Reference Dataset.\n",
      "categorical_column in param dict is overridden.\n",
      "[I 2020-09-06 22:57:06,026] Trial 94 finished with value: 0.7360771334004893 and parameters: {'lambda_l1': 1.595154032778309e-06, 'lambda_l2': 1.816336367767363e-07, 'num_leaves': 204, 'feature_fraction': 0.9121715194663891, 'bagging_fraction': 0.8519328086246595, 'bagging_freq': 7, 'min_child_samples': 89, 'scale_pos_weight': 1.6447835855250603}. Best is trial 81 with value: 0.7558881373818774.\n",
      "Overriding the parameters from Reference Dataset.\n",
      "categorical_column in param dict is overridden.\n",
      "[I 2020-09-06 22:57:11,042] Trial 95 finished with value: 0.7510433155849763 and parameters: {'lambda_l1': 0.00035540878410953743, 'lambda_l2': 1.4974428272913208e-08, 'num_leaves': 216, 'feature_fraction': 0.9503166512362529, 'bagging_fraction': 0.8003895104971853, 'bagging_freq': 7, 'min_child_samples': 91, 'scale_pos_weight': 1.281376221820726}. Best is trial 81 with value: 0.7558881373818774.\n",
      "Overriding the parameters from Reference Dataset.\n",
      "categorical_column in param dict is overridden.\n",
      "[I 2020-09-06 22:57:16,025] Trial 96 finished with value: 0.7555523576533794 and parameters: {'lambda_l1': 0.0003072563793994005, 'lambda_l2': 3.4692960269762675e-08, 'num_leaves': 232, 'feature_fraction': 0.9468008165910876, 'bagging_fraction': 0.8053982085374071, 'bagging_freq': 7, 'min_child_samples': 91, 'scale_pos_weight': 1.2915492843509948}. Best is trial 81 with value: 0.7558881373818774.\n",
      "Overriding the parameters from Reference Dataset.\n",
      "categorical_column in param dict is overridden.\n",
      "[I 2020-09-06 22:57:17,458] Trial 97 pruned. Trial was pruned at iteration 10.\n",
      "Overriding the parameters from Reference Dataset.\n",
      "categorical_column in param dict is overridden.\n",
      "[I 2020-09-06 22:57:19,293] Trial 98 pruned. Trial was pruned at iteration 10.\n",
      "Overriding the parameters from Reference Dataset.\n",
      "categorical_column in param dict is overridden.\n",
      "[I 2020-09-06 22:57:24,483] Trial 99 finished with value: 0.7587662493404327 and parameters: {'lambda_l1': 3.173903045993599e-05, 'lambda_l2': 3.007167439334604e-08, 'num_leaves': 241, 'feature_fraction': 0.9786151392404656, 'bagging_fraction': 0.7643474962489284, 'bagging_freq': 7, 'min_child_samples': 87, 'scale_pos_weight': 1.2927161335061241}. Best is trial 99 with value: 0.7587662493404327.\n"
     ]
    },
    {
     "name": "stdout",
     "output_type": "stream",
     "text": [
      "Number of finished trials: 100\n",
      "Best trial:\n",
      "  Value: 0.7587662493404327\n",
      "  Params: \n",
      "    lambda_l1: 3.173903045993599e-05\n",
      "    lambda_l2: 3.007167439334604e-08\n",
      "    num_leaves: 241\n",
      "    feature_fraction: 0.9786151392404656\n",
      "    bagging_fraction: 0.7643474962489284\n",
      "    bagging_freq: 7\n",
      "    min_child_samples: 87\n",
      "    scale_pos_weight: 1.2927161335061241\n"
     ]
    }
   ],
   "source": [
    "tuneo = True\n",
    "\n",
    "if tuneo:\n",
    "    study_2 = optuna.create_study(\n",
    "        pruner=optuna.pruners.MedianPruner(n_warmup_steps=10), direction=\"maximize\"\n",
    "    )\n",
    "    study_2.optimize(objective_resampled, n_trials=100)\n",
    "\n",
    "    print(\"Number of finished trials: {}\".format(len(study.trials)))\n",
    "\n",
    "    print(\"Best trial:\")\n",
    "    trial_2 = study_2.best_trial\n",
    "\n",
    "    print(\"  Value: {}\".format(trial_2.value))\n",
    "\n",
    "    print(\"  Params: \")\n",
    "    for key, value in trial_2.params.items():\n",
    "        print(\"    {}: {}\".format(key, value))"
   ]
  },
  {
   "cell_type": "code",
   "execution_count": 55,
   "metadata": {},
   "outputs": [
    {
     "name": "stderr",
     "output_type": "stream",
     "text": [
      "A column-vector y was passed when a 1d array was expected. Please change the shape of y to (n_samples, ), for example using ravel().\n"
     ]
    },
    {
     "name": "stdout",
     "output_type": "stream",
     "text": [
      "[LightGBM] [Warning] feature_fraction is set=0.9786151392404656, colsample_bytree=1.0 will be ignored. Current value: feature_fraction=0.9786151392404656\n",
      "[LightGBM] [Warning] lambda_l1 is set=3.173903045993599e-05, reg_alpha=0.0 will be ignored. Current value: lambda_l1=3.173903045993599e-05\n",
      "[LightGBM] [Warning] bagging_fraction is set=0.7643474962489284, subsample=1.0 will be ignored. Current value: bagging_fraction=0.7643474962489284\n",
      "[LightGBM] [Warning] lambda_l2 is set=3.007167439334604e-08, reg_lambda=0.0 will be ignored. Current value: lambda_l2=3.007167439334604e-08\n",
      "[LightGBM] [Warning] bagging_freq is set=7, subsample_freq=0 will be ignored. Current value: bagging_freq=7\n",
      "[1]\tvalid_0's binary_logloss: 0.685321\n",
      "Training until validation scores don't improve for 10000 rounds\n",
      "[2]\tvalid_0's binary_logloss: 0.678608\n",
      "[3]\tvalid_0's binary_logloss: 0.673699\n",
      "[4]\tvalid_0's binary_logloss: 0.670128\n",
      "[5]\tvalid_0's binary_logloss: 0.667516\n",
      "[6]\tvalid_0's binary_logloss: 0.665461\n",
      "[7]\tvalid_0's binary_logloss: 0.663515\n",
      "[8]\tvalid_0's binary_logloss: 0.662074\n",
      "[9]\tvalid_0's binary_logloss: 0.6612\n",
      "[10]\tvalid_0's binary_logloss: 0.660579\n",
      "[11]\tvalid_0's binary_logloss: 0.660108\n",
      "[12]\tvalid_0's binary_logloss: 0.65951\n",
      "[13]\tvalid_0's binary_logloss: 0.658792\n",
      "[14]\tvalid_0's binary_logloss: 0.657822\n",
      "[15]\tvalid_0's binary_logloss: 0.656798\n",
      "[16]\tvalid_0's binary_logloss: 0.655719\n",
      "[17]\tvalid_0's binary_logloss: 0.654776\n",
      "[18]\tvalid_0's binary_logloss: 0.653992\n",
      "[19]\tvalid_0's binary_logloss: 0.653085\n",
      "[20]\tvalid_0's binary_logloss: 0.652531\n",
      "[21]\tvalid_0's binary_logloss: 0.651796\n",
      "[22]\tvalid_0's binary_logloss: 0.651151\n",
      "[23]\tvalid_0's binary_logloss: 0.6503\n",
      "[24]\tvalid_0's binary_logloss: 0.649857\n",
      "[25]\tvalid_0's binary_logloss: 0.649201\n",
      "[26]\tvalid_0's binary_logloss: 0.648489\n",
      "[27]\tvalid_0's binary_logloss: 0.647647\n",
      "[28]\tvalid_0's binary_logloss: 0.647125\n",
      "[29]\tvalid_0's binary_logloss: 0.646413\n",
      "[30]\tvalid_0's binary_logloss: 0.645466\n",
      "[31]\tvalid_0's binary_logloss: 0.64453\n",
      "[32]\tvalid_0's binary_logloss: 0.643692\n",
      "[33]\tvalid_0's binary_logloss: 0.643093\n",
      "[34]\tvalid_0's binary_logloss: 0.642527\n",
      "[35]\tvalid_0's binary_logloss: 0.641926\n",
      "[36]\tvalid_0's binary_logloss: 0.641055\n",
      "[37]\tvalid_0's binary_logloss: 0.640515\n",
      "[38]\tvalid_0's binary_logloss: 0.640065\n",
      "[39]\tvalid_0's binary_logloss: 0.639481\n",
      "[40]\tvalid_0's binary_logloss: 0.638784\n",
      "[41]\tvalid_0's binary_logloss: 0.638037\n",
      "[42]\tvalid_0's binary_logloss: 0.637496\n",
      "[43]\tvalid_0's binary_logloss: 0.637038\n",
      "[44]\tvalid_0's binary_logloss: 0.63661\n",
      "[45]\tvalid_0's binary_logloss: 0.63612\n",
      "[46]\tvalid_0's binary_logloss: 0.635821\n",
      "[47]\tvalid_0's binary_logloss: 0.635268\n",
      "[48]\tvalid_0's binary_logloss: 0.634987\n",
      "[49]\tvalid_0's binary_logloss: 0.634698\n",
      "[50]\tvalid_0's binary_logloss: 0.634312\n",
      "[51]\tvalid_0's binary_logloss: 0.633725\n",
      "[52]\tvalid_0's binary_logloss: 0.633205\n",
      "[53]\tvalid_0's binary_logloss: 0.632855\n",
      "[54]\tvalid_0's binary_logloss: 0.632622\n",
      "[55]\tvalid_0's binary_logloss: 0.632419\n",
      "[56]\tvalid_0's binary_logloss: 0.632117\n",
      "[57]\tvalid_0's binary_logloss: 0.631709\n",
      "[58]\tvalid_0's binary_logloss: 0.631436\n",
      "[59]\tvalid_0's binary_logloss: 0.631022\n",
      "[60]\tvalid_0's binary_logloss: 0.630705\n",
      "[61]\tvalid_0's binary_logloss: 0.630438\n",
      "[62]\tvalid_0's binary_logloss: 0.630287\n",
      "[63]\tvalid_0's binary_logloss: 0.629927\n",
      "[64]\tvalid_0's binary_logloss: 0.629668\n",
      "[65]\tvalid_0's binary_logloss: 0.629673\n",
      "[66]\tvalid_0's binary_logloss: 0.629436\n",
      "[67]\tvalid_0's binary_logloss: 0.629087\n",
      "[68]\tvalid_0's binary_logloss: 0.628723\n",
      "[69]\tvalid_0's binary_logloss: 0.628465\n",
      "[70]\tvalid_0's binary_logloss: 0.628341\n",
      "[71]\tvalid_0's binary_logloss: 0.628126\n",
      "[72]\tvalid_0's binary_logloss: 0.627869\n",
      "[73]\tvalid_0's binary_logloss: 0.627628\n",
      "[74]\tvalid_0's binary_logloss: 0.627464\n",
      "[75]\tvalid_0's binary_logloss: 0.627305\n",
      "[76]\tvalid_0's binary_logloss: 0.626945\n",
      "[77]\tvalid_0's binary_logloss: 0.626724\n",
      "[78]\tvalid_0's binary_logloss: 0.626244\n",
      "[79]\tvalid_0's binary_logloss: 0.625729\n",
      "[80]\tvalid_0's binary_logloss: 0.625441\n",
      "[81]\tvalid_0's binary_logloss: 0.625194\n",
      "[82]\tvalid_0's binary_logloss: 0.624972\n",
      "[83]\tvalid_0's binary_logloss: 0.624674\n",
      "[84]\tvalid_0's binary_logloss: 0.624414\n",
      "[85]\tvalid_0's binary_logloss: 0.624416\n",
      "[86]\tvalid_0's binary_logloss: 0.624436\n",
      "[87]\tvalid_0's binary_logloss: 0.624305\n",
      "[88]\tvalid_0's binary_logloss: 0.624432\n",
      "[89]\tvalid_0's binary_logloss: 0.624376\n",
      "[90]\tvalid_0's binary_logloss: 0.624322\n",
      "[91]\tvalid_0's binary_logloss: 0.624357\n",
      "[92]\tvalid_0's binary_logloss: 0.623974\n",
      "[93]\tvalid_0's binary_logloss: 0.623567\n",
      "[94]\tvalid_0's binary_logloss: 0.623302\n",
      "[95]\tvalid_0's binary_logloss: 0.623311\n",
      "[96]\tvalid_0's binary_logloss: 0.623291\n",
      "[97]\tvalid_0's binary_logloss: 0.623112\n",
      "[98]\tvalid_0's binary_logloss: 0.623083\n",
      "[99]\tvalid_0's binary_logloss: 0.623017\n",
      "[100]\tvalid_0's binary_logloss: 0.622873\n",
      "Did not meet early stopping. Best iteration is:\n",
      "[100]\tvalid_0's binary_logloss: 0.622873\n"
     ]
    },
    {
     "data": {
      "text/plain": [
       "LGBMClassifier(bagging_fraction=0.7643474962489284, bagging_freq=7,\n",
       "               feature_fraction=0.9786151392404656,\n",
       "               lambda_l1=3.173903045993599e-05, lambda_l2=3.007167439334604e-08,\n",
       "               min_child_samples=87, num_leaves=241,\n",
       "               scale_pos_weight=1.2927161335061241)"
      ]
     },
     "execution_count": 55,
     "metadata": {},
     "output_type": "execute_result"
    }
   ],
   "source": [
    "balanced_model = lgb.LGBMClassifier().set_params(**trial_2.params)\n",
    "\n",
    "balanced_model.fit(X_resampled, y_resampled,\n",
    "                   eval_set = [(X_test, y_test)],\n",
    "                   eval_metric = 'binary_logloss',\n",
    "                   early_stopping_rounds = 10000)"
   ]
  },
  {
   "cell_type": "code",
   "execution_count": 56,
   "metadata": {},
   "outputs": [
    {
     "name": "stdout",
     "output_type": "stream",
     "text": [
      "LightGBM Model with optuna accuracy score: 0.6561\n",
      "Training-set accuracy score: 0.7235\n",
      "Confusion matrix\n",
      "\n",
      " [[9349 4549]\n",
      " [1315 1839]]\n",
      "\n",
      "True Positives(TP) =  9349\n",
      "\n",
      "True Negatives(TN) =  1839\n",
      "\n",
      "False Positives(FP) =  4549\n",
      "\n",
      "False Negatives(FN) =  1315\n"
     ]
    }
   ],
   "source": [
    "y_pred_resampled_2 = balanced_model.predict(X_test)\n",
    "\n",
    "# view accuracy\n",
    "accuracy_opt = accuracy_score(y_pred_resampled_2, y_test)\n",
    "print('LightGBM Model with optuna accuracy score: {0:0.4f}'.format(accuracy_score(y_test, y_pred_resampled_2)))\n",
    "\n",
    "y_pred_train = balanced_model.predict(X_train)\n",
    "print('Training-set accuracy score: {0:0.4f}'. format(accuracy_score(y_train, y_pred_train)))\n",
    "\n",
    "cm = confusion_matrix(y_test, y_pred_resampled_2)\n",
    "print('Confusion matrix\\n\\n', cm)\n",
    "print('\\nTrue Positives(TP) = ', cm[0,0])\n",
    "print('\\nTrue Negatives(TN) = ', cm[1,1])\n",
    "print('\\nFalse Positives(FP) = ', cm[0,1])\n",
    "print('\\nFalse Negatives(FN) = ', cm[1,0])"
   ]
  },
  {
   "cell_type": "code",
   "execution_count": 57,
   "metadata": {},
   "outputs": [
    {
     "name": "stdout",
     "output_type": "stream",
     "text": [
      "              precision    recall  f1-score   support\n",
      "\n",
      "           0       0.88      0.67      0.76     13898\n",
      "           1       0.29      0.58      0.39      3154\n",
      "\n",
      "    accuracy                           0.66     17052\n",
      "   macro avg       0.58      0.63      0.57     17052\n",
      "weighted avg       0.77      0.66      0.69     17052\n",
      "\n"
     ]
    }
   ],
   "source": [
    "print(classification_report(y_test, y_pred_resampled_2))"
   ]
  },
  {
   "cell_type": "markdown",
   "metadata": {},
   "source": [
    "Observamos que esta segunda opcion tiene una menor tasa de Falso Positivos, obteniedo resultados un poco mas homogeneos entre ambas clases. Al analizar la importancia de las variables para este nuevo modelo obtenemos:"
   ]
  },
  {
   "cell_type": "code",
   "execution_count": 58,
   "metadata": {},
   "outputs": [
    {
     "name": "stderr",
     "output_type": "stream",
     "text": [
      "LightGBM binary classifier with TreeExplainer shap values output has changed to a list of ndarray\n"
     ]
    },
    {
     "data": {
      "image/png": "[encoded data removed]",
      "text/plain": [
       "<Figure size 576x396 with 1 Axes>"
      ]
     },
     "metadata": {
      "needs_background": "light"
     },
     "output_type": "display_data"
    }
   ],
   "source": [
    "explainer_2 = shap.TreeExplainer(balanced_model)\n",
    "shap_values_2 = explainer_2.shap_values(X_test)\n",
    "shap.summary_plot(shap_values_2, X_test, plot_type=\"bar\")"
   ]
  },
  {
   "cell_type": "code",
   "execution_count": 59,
   "metadata": {},
   "outputs": [
    {
     "data": {
      "image/png": "[encoded data removed]",
      "text/plain": [
       "<Figure size 576x396 with 2 Axes>"
      ]
     },
     "metadata": {
      "needs_background": "light"
     },
     "output_type": "display_data"
    }
   ],
   "source": [
    "shap.summary_plot(shap_values_2[0], X_test)"
   ]
  },
  {
   "cell_type": "markdown",
   "metadata": {},
   "source": [
    "Nos damos cuenta que la mayor diferencia del modelo, es el cambio en el orden de la importancia de las variables, en donde ahora la más importante es el destino. Sin embargo, el top 5 de las variables sigue siendo el mismo."
   ]
  },
  {
   "cell_type": "markdown",
   "metadata": {},
   "source": [
    "# 6 Conclusiones y oportunidades de mejora"
   ]
  },
  {
   "cell_type": "markdown",
   "metadata": {},
   "source": [
    "En primer lugar comentaremos un poco sobre el trabajo realizado. Hemos decidido ajustar solo un modelo, el cual corresponde a lightgbm. Se eligio este modelo por que a presentando buena performance en distintas competencias. El por que no usar algun otro modelo de boosting como xgboost es netamente un tema de que se posee mayor manejo especifico de la libreria, pues, como el data el dataset en particula que se trabajó es pequeño, no deberian haber mayores complicaciones para usar un modelo u otro.\n",
    "\n",
    "Además utilizamos la herramienta optuna para realizar el tuneo de los hiperparametros, para obtener la mejor combinación posible de los parametros clave, tanto como para los datos balanceados como desbalanceados.\n",
    "\n",
    "La falta de los datos climaticos en el modelo es algo que creemos puede mejorar sustancialmente los resultados, lamentablemente las API's revisadas contaban con diferentes limitantes que no permitieron extraer los datos que necesitabamos.\n",
    "\n",
    "Algunas oportunidades de mejora:\n",
    "\n",
    "       1.- Trabajar en la extraccion de los datos climaticos.\n",
    "\n",
    "       2.- Probar con diferentes modelos.\n",
    "       \n",
    "       3.- Cambiar el enfoque a uno de deteccion de anomalias."
   ]
  }
 ],
 "metadata": {
  "kernelspec": {
   "display_name": "Python 3",
   "language": "python",
   "name": "python3"
  },
  "language_info": {
   "codemirror_mode": {
    "name": "ipython",
    "version": 3
   },
   "file_extension": ".py",
   "mimetype": "text/x-python",
   "name": "python",
   "nbconvert_exporter": "python",
   "pygments_lexer": "ipython3",
   "version": "3.7.6"
  }
 },
 "nbformat": 4,
 "nbformat_minor": 4
}
